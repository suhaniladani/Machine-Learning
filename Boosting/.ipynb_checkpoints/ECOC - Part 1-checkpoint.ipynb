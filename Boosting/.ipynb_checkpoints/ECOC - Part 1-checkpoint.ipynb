{
 "cells": [
  {
   "cell_type": "code",
   "execution_count": 1,
   "metadata": {},
   "outputs": [],
   "source": [
    "import pandas as pd\n",
    "import numpy as np\n",
    "import matplotlib.pyplot as plt\n",
    "import seaborn as sn\n",
    "import re\n"
   ]
  },
  {
   "cell_type": "code",
   "execution_count": 2,
   "metadata": {},
   "outputs": [],
   "source": [
    "# with open(\"8newsgroup/train.trec/feature_matrix.txt\", 'r') as file_object:\n",
    "#     line = file_object.readline()\n",
    "#     i = 0\n",
    "#     while line:\n",
    "#         i = i+1\n",
    "#     print(i)\n",
    "        "
   ]
  },
  {
   "cell_type": "code",
   "execution_count": 3,
   "metadata": {},
   "outputs": [],
   "source": [
    "lines_train = open('8newsgroup/train.trec/feature_matrix.txt').readlines()\n",
    "lines_test = open('8newsgroup/test.trec/feature_matrix.txt').readlines()"
   ]
  },
  {
   "cell_type": "code",
   "execution_count": 4,
   "metadata": {},
   "outputs": [],
   "source": [
    "\n",
    "def parse_data(lines, n_samples, n_features):\n",
    "# # DataFrame = pd.read_csv(\"8newsgroup/train.trec/feature_matrix.txt\", delimiter=' ' , header=None) \n",
    "# # DataFrame.head()\n",
    "    label = []\n",
    "    data = np.empty([11314, 1754])\n",
    "    # # test_data = np.empty((num_test_rows, num_features), dtype=float)\n",
    "    # with open(\"8newsgroup/train.trec/feature_matrix.txt\", 'r') as file_object:\n",
    "    #     line = file_object.readline()\n",
    "    #     i = 0\n",
    "    for i, line in enumerate(lines, start=0):\n",
    "        step_0 = re.split(' ',line)\n",
    "        label.append(step_0[0])\n",
    "        for v in step_0[1:-1]:\n",
    "            f, c = v.split(':')\n",
    "            f = int(f)\n",
    "            c = float(c)\n",
    "            data[i, f] = c\n",
    "    return data, label\n",
    "\n",
    "        \n",
    "\n",
    "                \n",
    "                "
   ]
  },
  {
   "cell_type": "code",
   "execution_count": 5,
   "metadata": {},
   "outputs": [],
   "source": [
    "# y_train = pd.DataFrame(label)"
   ]
  },
  {
   "cell_type": "code",
   "execution_count": 6,
   "metadata": {},
   "outputs": [],
   "source": [
    "X_test, y_test = parse_data(lines_test, 7532, 1754)\n",
    "X_train, y_train = parse_data(lines_train, 11314, 1754)"
   ]
  }
 ],
 "metadata": {
  "kernelspec": {
   "display_name": "Python 3",
   "language": "python",
   "name": "python3"
  },
  "language_info": {
   "codemirror_mode": {
    "name": "ipython",
    "version": 3
   },
   "file_extension": ".py",
   "mimetype": "text/x-python",
   "name": "python",
   "nbconvert_exporter": "python",
   "pygments_lexer": "ipython3",
   "version": "3.6.6"
  }
 },
 "nbformat": 4,
 "nbformat_minor": 2
}
