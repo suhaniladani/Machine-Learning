{
 "cells": [
  {
   "cell_type": "code",
   "execution_count": 1,
   "metadata": {},
   "outputs": [],
   "source": [
    "import numpy as np\n",
    "import pandas as pd\n",
    "import csv\n",
    "import random\n",
    "import math\n",
    "import re"
   ]
  },
  {
   "cell_type": "code",
   "execution_count": 2,
   "metadata": {},
   "outputs": [],
   "source": [
    "uni_code = {}"
   ]
  },
  {
   "cell_type": "code",
   "execution_count": 3,
   "metadata": {},
   "outputs": [],
   "source": [
    "count = 0\n",
    "while (count!= 8):\n",
    "    uni_code[count] = np.random.randint(2, size=20)\n",
    "    count = count+1"
   ]
  },
  {
   "cell_type": "code",
   "execution_count": 4,
   "metadata": {},
   "outputs": [],
   "source": [
    "lines_train = open('8newsgroup/train.trec/feature_matrix.txt').readlines()\n",
    "lines_test = open('8newsgroup/test.trec/feature_matrix.txt').readlines()"
   ]
  },
  {
   "cell_type": "code",
   "execution_count": 5,
   "metadata": {},
   "outputs": [],
   "source": [
    "def parse_data(lines, n_samples, n_features):\n",
    "# # DataFrame = pd.read_csv(\"8newsgroup/train.trec/feature_matrix.txt\", delimiter=' ' , header=None) \n",
    "# # DataFrame.head()\n",
    "    label = []\n",
    "    data = np.empty([11314, 1754])\n",
    "    # # test_data = np.empty((num_test_rows, num_features), dtype=float)\n",
    "    # with open(\"8newsgroup/train.trec/feature_matrix.txt\", 'r') as file_object:\n",
    "    #     line = file_object.readline()\n",
    "    #     i = 0\n",
    "    for i, line in enumerate(lines, start=0):\n",
    "        step_0 = re.split(' ',line)\n",
    "        label.append(step_0[0])\n",
    "        for v in step_0[1:-1]:\n",
    "            f, c = v.split(':')\n",
    "            f = int(f)\n",
    "            c = float(c)\n",
    "            data[i, f] = c\n",
    "    return data, label\n",
    "\n",
    "        "
   ]
  },
  {
   "cell_type": "code",
   "execution_count": 6,
   "metadata": {},
   "outputs": [],
   "source": [
    "X_test, y_test = parse_data(lines_test, 7532, 1754)\n",
    "X_train, y_train = parse_data(lines_train, 11314, 1754)"
   ]
  },
  {
   "cell_type": "code",
   "execution_count": 7,
   "metadata": {},
   "outputs": [],
   "source": [
    "y_test_mat = [None] * len(y_test)\n",
    "y_train_mat = [None] * len(y_train)"
   ]
  },
  {
   "cell_type": "code",
   "execution_count": 8,
   "metadata": {},
   "outputs": [],
   "source": [
    "y_pred_coded = np.loadtxt(open(\"new_file.csv\", \"rb\"), delimiter=\",\", skiprows=1)"
   ]
  },
  {
   "cell_type": "code",
   "execution_count": 9,
   "metadata": {},
   "outputs": [
    {
     "data": {
      "text/plain": [
       "(11313, 20)"
      ]
     },
     "execution_count": 9,
     "metadata": {},
     "output_type": "execute_result"
    }
   ],
   "source": [
    "y_pred_coded.shape"
   ]
  },
  {
   "cell_type": "code",
   "execution_count": 10,
   "metadata": {},
   "outputs": [],
   "source": [
    "def hamming_distance(s1, s2):\n",
    "    \"\"\"Calculate the Hamming distance between two bit strings\"\"\"\n",
    "    assert len(s1) == len(s2)\n",
    "    return sum(c1 != c2 for c1, c2 in zip(s1, s2))\n",
    "\n",
    "# def hamming_distance(a, b):\n",
    "#     r = (1 << np.arange(8))[:,None]\n",
    "#     return np.count_nonzero( (a and r) != (b and r) )"
   ]
  },
  {
   "cell_type": "code",
   "execution_count": 11,
   "metadata": {},
   "outputs": [],
   "source": [
    "x = np.array(y_test).shape[0]\n"
   ]
  },
  {
   "cell_type": "code",
   "execution_count": 12,
   "metadata": {},
   "outputs": [],
   "source": [
    "y_pred_coded = y_pred_coded.astype(int)"
   ]
  },
  {
   "cell_type": "code",
   "execution_count": 13,
   "metadata": {},
   "outputs": [],
   "source": [
    "y_pred_decoded = list()\n",
    "for i in range(x):\n",
    "    min_ham = np.inf\n",
    "    code = 0\n",
    "    temp = 0\n",
    "    a = \"\".join(str(y_pred_coded[i]))\n",
    "    for j in range (8):\n",
    "        b = \"\".join(str(uni_code[j]))\n",
    "#         print(a)\n",
    "#         print(b)\n",
    "        h = hamming_distance(a, b)\n",
    "        if(h < min_ham):\n",
    "            min_ham = h\n",
    "            temp = j\n",
    "    code = temp\n",
    "    y_pred_decoded.append(code)\n",
    "    "
   ]
  },
  {
   "cell_type": "code",
   "execution_count": 14,
   "metadata": {},
   "outputs": [],
   "source": [
    "counter_corr = 0\n",
    "for i in range (len(y_pred_decoded)):\n",
    "    if (str(y_pred_decoded[i]) == y_test[i]):\n",
    "        counter_corr += 1\n",
    "        "
   ]
  },
  {
   "cell_type": "code",
   "execution_count": 15,
   "metadata": {},
   "outputs": [
    {
     "data": {
      "text/plain": [
       "7532"
      ]
     },
     "execution_count": 15,
     "metadata": {},
     "output_type": "execute_result"
    }
   ],
   "source": [
    "len(y_pred_decoded)"
   ]
  },
  {
   "cell_type": "code",
   "execution_count": 16,
   "metadata": {
    "scrolled": true
   },
   "outputs": [],
   "source": [
    "acc = counter_corr/7532"
   ]
  },
  {
   "cell_type": "code",
   "execution_count": 17,
   "metadata": {},
   "outputs": [
    {
     "data": {
      "text/plain": [
       "0.7395"
      ]
     },
     "execution_count": 17,
     "metadata": {},
     "output_type": "execute_result"
    }
   ],
   "source": [
    "acc"
   ]
  },
  {
   "cell_type": "code",
   "execution_count": null,
   "metadata": {},
   "outputs": [],
   "source": []
  }
 ],
 "metadata": {
  "kernelspec": {
   "display_name": "Python 3",
   "language": "python",
   "name": "python3"
  },
  "language_info": {
   "codemirror_mode": {
    "name": "ipython",
    "version": 3
   },
   "file_extension": ".py",
   "mimetype": "text/x-python",
   "name": "python",
   "nbconvert_exporter": "python",
   "pygments_lexer": "ipython3",
   "version": "3.6.6"
  }
 },
 "nbformat": 4,
 "nbformat_minor": 2
}
