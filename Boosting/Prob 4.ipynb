{
 "cells": [
  {
   "cell_type": "code",
   "execution_count": 1,
   "metadata": {},
   "outputs": [],
   "source": [
    "import pandas as pd\n",
    "import numpy as np\n",
    "import matplotlib.pyplot as plt\n",
    "import seaborn as sn\n",
    "from sklearn.preprocessing import normalize\n",
    "from sklearn.model_selection import train_test_split\n",
    "from sklearn.metrics import confusion_matrix\n",
    "import random\n",
    "import re\n"
   ]
  },
  {
   "cell_type": "code",
   "execution_count": 2,
   "metadata": {},
   "outputs": [],
   "source": [
    "# DataFrame = pd.read_csv('ecoli.data', delim_whitespace=True, header=None)\n",
    "# DataFrame.columns = ['f1', 'f2', 'f3', 'f4', 'f5', 'f6', 'f7', 'f8', 'label']\n",
    "# DataFrame = DataFrame.drop(['f1'],  axis=1)\n",
    "# DataMatrix = DataFrame.values\n",
    "# New_DataMatrix = DataMatrix[:,:-1]"
   ]
  },
  {
   "cell_type": "code",
   "execution_count": 3,
   "metadata": {},
   "outputs": [],
   "source": [
    "lines_train = open('8newsgroup/train.trec/feature_matrix.txt').readlines()\n",
    "lines_test = open('8newsgroup/test.trec/feature_matrix.txt').readlines()"
   ]
  },
  {
   "cell_type": "code",
   "execution_count": 4,
   "metadata": {},
   "outputs": [],
   "source": [
    "def parse_data(lines, n_samples, n_features):\n",
    "# # DataFrame = pd.read_csv(\"8newsgroup/train.trec/feature_matrix.txt\", delimiter=' ' , header=None) \n",
    "# # DataFrame.head()\n",
    "    label = []\n",
    "    data = np.empty([11314, 1754])\n",
    "    # # test_data = np.empty((num_test_rows, num_features), dtype=float)\n",
    "    # with open(\"8newsgroup/train.trec/feature_matrix.txt\", 'r') as file_object:\n",
    "    #     line = file_object.readline()\n",
    "    #     i = 0\n",
    "    for i, line in enumerate(lines, start=0):\n",
    "        step_0 = re.split(' ',line)\n",
    "        label.append(step_0[0])\n",
    "        for v in step_0[1:-1]:\n",
    "            f, c = v.split(':')\n",
    "            f = int(f)\n",
    "            c = float(c)\n",
    "            data[i, f] = c\n",
    "    return data, label\n"
   ]
  },
  {
   "cell_type": "code",
   "execution_count": 5,
   "metadata": {},
   "outputs": [],
   "source": [
    "X_test, y_test = parse_data(lines_test, 7532, 1754)\n",
    "X_train, y_train = parse_data(lines_train, 11314, 1754)"
   ]
  },
  {
   "cell_type": "code",
   "execution_count": 6,
   "metadata": {},
   "outputs": [],
   "source": [
    "# y_test_mat = [None] * len(y_test)\n",
    "# y_train_mat = [None] * len(y_train)"
   ]
  },
  {
   "cell_type": "code",
   "execution_count": 7,
   "metadata": {},
   "outputs": [],
   "source": [
    "# for i in range(len(y_test)):\n",
    "#     y_test_mat[i] = uni_code.get(int(y_test[i]))"
   ]
  },
  {
   "cell_type": "code",
   "execution_count": 8,
   "metadata": {},
   "outputs": [],
   "source": [
    "# for i in range(len(y_train)):\n",
    "#     y_train_mat[i] = uni_code.get(int(y_train[i]))"
   ]
  },
  {
   "cell_type": "code",
   "execution_count": 9,
   "metadata": {},
   "outputs": [],
   "source": [
    "def hamming_distance(vector1, vector2):\n",
    "    return np.sum(np.abs(vector1-vector2))/n\n",
    "\n",
    "\n",
    "# sigmoid function\n",
    "def sigmoid(z):\n",
    "    return 1/(1+np.exp(-z))\n",
    "\n",
    "\n",
    "# equation 1 for sigmoid\n",
    "def delta_w(w_vector, m_vector, q, x):\n",
    "    return 0.005*(np.abs(w_vector-m_vector))*(0.5-q)*(q-q**2)*x"
   ]
  },
  {
   "cell_type": "code",
   "execution_count": 10,
   "metadata": {},
   "outputs": [],
   "source": [
    "def test(data_x, data_y, no_of_samples):\n",
    "    prediction_vector_1 = [None]*n\n",
    "    y_predicted = []\n",
    "    for z in range(no_of_samples):\n",
    "        Z = np.dot(data_x[z], w.T)\n",
    "        C_star = data_y[z]\n",
    "        q = sigmoid(Z)\n",
    "        for index, eachQ in enumerate(q):\n",
    "            if eachQ < threshold:\n",
    "                prediction_vector_1[index] = 0\n",
    "            elif eachQ >= threshold:\n",
    "                prediction_vector_1[index] = 1\n",
    "        distance = []\n",
    "        for i in range(len(M)):\n",
    "            distance.append(hamming_distance(prediction_vector_1, M[i]))    \n",
    "        y_predicted.append(distance.index(min(distance)))\n",
    "    return y_predicted"
   ]
  },
  {
   "cell_type": "code",
   "execution_count": 11,
   "metadata": {},
   "outputs": [],
   "source": [
    "# Error Correcting Code Classifier - Initialization part\n",
    "n = 20 # no. of bits\n",
    "err = 0.48\n",
    "max_itr = 150\n",
    "threshold = 0.5\n",
    "\n",
    "# DataFrame = pd.read_csv('ecoli.csv', header=None)\n",
    "# DataMatrix = DataFrame.as_matrix()\n",
    "# New_DataMatrix = DataMatrix[:,0:7]\n",
    "\n",
    "Q, P = X_train.shape # Q- samples, P- Features\n",
    "class_labels = y_train\n",
    "unique_Class_labels = np.unique(class_labels)\n",
    "C = len(np.unique(class_labels)) # no. of classes\n",
    "M = np.random.randint(2, size=(C, n))\n",
    "w = np.random.randint(low=-1, high=1, size=(P, 1)) # weight matrix\n",
    "\n",
    "# normalized_M = normalize(New_DataMatrix, norm='l2', axis=0) # normalize 0-1 for sigmoid\n",
    "# X_train, X_test, y_train, y_test = train_test_split(normalized_M, class_labels, test_size = 0.2)\n",
    "no_of_training_samples = len(X_train)\n",
    "no_of_testing_samples = len(X_test)\n",
    "\n"
   ]
  },
  {
   "cell_type": "code",
   "execution_count": 12,
   "metadata": {},
   "outputs": [
    {
     "data": {
      "text/plain": [
       "array([[1, 0, 0, 1, 1, 1, 0, 1, 1, 1, 1, 1, 1, 1, 0, 0, 0, 1, 1, 0],\n",
       "       [1, 1, 1, 0, 0, 1, 1, 0, 0, 1, 0, 1, 1, 0, 0, 1, 1, 1, 1, 0],\n",
       "       [0, 0, 1, 1, 0, 1, 0, 1, 1, 0, 0, 0, 0, 0, 1, 1, 1, 1, 0, 1],\n",
       "       [0, 1, 0, 1, 1, 1, 0, 1, 0, 1, 1, 1, 1, 0, 0, 1, 0, 0, 0, 1],\n",
       "       [1, 1, 0, 1, 1, 0, 0, 0, 1, 1, 1, 0, 0, 1, 0, 1, 1, 0, 1, 0],\n",
       "       [0, 1, 0, 1, 0, 1, 0, 1, 0, 1, 0, 1, 0, 1, 1, 1, 0, 1, 0, 1],\n",
       "       [1, 0, 0, 1, 0, 1, 0, 0, 0, 0, 0, 0, 0, 0, 0, 1, 1, 0, 0, 0],\n",
       "       [0, 1, 1, 1, 0, 0, 0, 0, 1, 0, 0, 1, 1, 1, 0, 0, 0, 0, 1, 0]])"
      ]
     },
     "execution_count": 12,
     "metadata": {},
     "output_type": "execute_result"
    }
   ],
   "source": [
    "M"
   ]
  },
  {
   "cell_type": "code",
   "execution_count": 13,
   "metadata": {},
   "outputs": [
    {
     "ename": "ValueError",
     "evalue": "operands could not be broadcast together with shapes (1,20) (1754,) ",
     "output_type": "error",
     "traceback": [
      "\u001b[0;31m---------------------------------------------------------------------------\u001b[0m",
      "\u001b[0;31mValueError\u001b[0m                                Traceback (most recent call last)",
      "\u001b[0;32m<ipython-input-13-9758c4ef63ca>\u001b[0m in \u001b[0;36m<module>\u001b[0;34m()\u001b[0m\n\u001b[1;32m     20\u001b[0m         \u001b[0mindex_of_C_start\u001b[0m\u001b[0;34m,\u001b[0m \u001b[0;34m=\u001b[0m \u001b[0mnp\u001b[0m\u001b[0;34m.\u001b[0m\u001b[0mwhere\u001b[0m\u001b[0;34m(\u001b[0m\u001b[0munique_Class_labels\u001b[0m \u001b[0;34m==\u001b[0m \u001b[0mC_star\u001b[0m\u001b[0;34m)\u001b[0m\u001b[0;34m\u001b[0m\u001b[0m\n\u001b[1;32m     21\u001b[0m         \u001b[0mC_star_row\u001b[0m \u001b[0;34m=\u001b[0m \u001b[0mM\u001b[0m\u001b[0;34m[\u001b[0m\u001b[0mindex_of_C_start\u001b[0m\u001b[0;34m]\u001b[0m\u001b[0;34m\u001b[0m\u001b[0m\n\u001b[0;32m---> 22\u001b[0;31m         \u001b[0mw\u001b[0m \u001b[0;34m=\u001b[0m \u001b[0mw\u001b[0m \u001b[0;34m+\u001b[0m \u001b[0mdelta_w\u001b[0m\u001b[0;34m(\u001b[0m\u001b[0mprediction_vector\u001b[0m\u001b[0;34m[\u001b[0m\u001b[0mj\u001b[0m\u001b[0;34m]\u001b[0m\u001b[0;34m,\u001b[0m \u001b[0mC_star_row\u001b[0m\u001b[0;34m,\u001b[0m \u001b[0mq\u001b[0m\u001b[0;34m,\u001b[0m \u001b[0mX_train\u001b[0m\u001b[0;34m[\u001b[0m\u001b[0mj\u001b[0m\u001b[0;34m]\u001b[0m\u001b[0;34m)\u001b[0m\u001b[0;34m\u001b[0m\u001b[0m\n\u001b[0m\u001b[1;32m     23\u001b[0m         \u001b[0merr_part1\u001b[0m\u001b[0;34m[\u001b[0m\u001b[0mj\u001b[0m\u001b[0;34m]\u001b[0m \u001b[0;34m=\u001b[0m \u001b[0mhamming_distance\u001b[0m\u001b[0;34m(\u001b[0m\u001b[0mprediction_vector\u001b[0m\u001b[0;34m[\u001b[0m\u001b[0mj\u001b[0m\u001b[0;34m]\u001b[0m\u001b[0;34m,\u001b[0m \u001b[0mC_star_row\u001b[0m\u001b[0;34m)\u001b[0m\u001b[0;34m\u001b[0m\u001b[0m\n\u001b[1;32m     24\u001b[0m     \u001b[0merror\u001b[0m \u001b[0;34m=\u001b[0m \u001b[0mnp\u001b[0m\u001b[0;34m.\u001b[0m\u001b[0msum\u001b[0m\u001b[0;34m(\u001b[0m\u001b[0merr_part1\u001b[0m\u001b[0;34m)\u001b[0m\u001b[0;34m/\u001b[0m\u001b[0mno_of_training_samples\u001b[0m\u001b[0;34m\u001b[0m\u001b[0m\n",
      "\u001b[0;32m<ipython-input-9-1fed3b8476db>\u001b[0m in \u001b[0;36mdelta_w\u001b[0;34m(w_vector, m_vector, q, x)\u001b[0m\n\u001b[1;32m     10\u001b[0m \u001b[0;31m# equation 1 for sigmoid\u001b[0m\u001b[0;34m\u001b[0m\u001b[0;34m\u001b[0m\u001b[0m\n\u001b[1;32m     11\u001b[0m \u001b[0;32mdef\u001b[0m \u001b[0mdelta_w\u001b[0m\u001b[0;34m(\u001b[0m\u001b[0mw_vector\u001b[0m\u001b[0;34m,\u001b[0m \u001b[0mm_vector\u001b[0m\u001b[0;34m,\u001b[0m \u001b[0mq\u001b[0m\u001b[0;34m,\u001b[0m \u001b[0mx\u001b[0m\u001b[0;34m)\u001b[0m\u001b[0;34m:\u001b[0m\u001b[0;34m\u001b[0m\u001b[0m\n\u001b[0;32m---> 12\u001b[0;31m     \u001b[0;32mreturn\u001b[0m \u001b[0;36m0.005\u001b[0m\u001b[0;34m*\u001b[0m\u001b[0;34m(\u001b[0m\u001b[0mnp\u001b[0m\u001b[0;34m.\u001b[0m\u001b[0mabs\u001b[0m\u001b[0;34m(\u001b[0m\u001b[0mw_vector\u001b[0m\u001b[0;34m-\u001b[0m\u001b[0mm_vector\u001b[0m\u001b[0;34m)\u001b[0m\u001b[0;34m)\u001b[0m\u001b[0;34m*\u001b[0m\u001b[0;34m(\u001b[0m\u001b[0;36m0.5\u001b[0m\u001b[0;34m-\u001b[0m\u001b[0mq\u001b[0m\u001b[0;34m)\u001b[0m\u001b[0;34m*\u001b[0m\u001b[0;34m(\u001b[0m\u001b[0mq\u001b[0m\u001b[0;34m-\u001b[0m\u001b[0mq\u001b[0m\u001b[0;34m**\u001b[0m\u001b[0;36m2\u001b[0m\u001b[0;34m)\u001b[0m\u001b[0;34m*\u001b[0m\u001b[0mx\u001b[0m\u001b[0;34m\u001b[0m\u001b[0m\n\u001b[0m",
      "\u001b[0;31mValueError\u001b[0m: operands could not be broadcast together with shapes (1,20) (1754,) "
     ]
    }
   ],
   "source": [
    "\n",
    "# Hamming distance function\n",
    "# Error Correcting Code Classifier - Training part\n",
    "iter = 0\n",
    "prediction_vector = np.zeros((no_of_training_samples, n), dtype=float)\n",
    "training_error = []\n",
    "error = 0.0\n",
    "while error > err or iter < max_itr:\n",
    "    iter += 1\n",
    "    err_part1 = [None] * no_of_training_samples\n",
    "    for j in range(no_of_training_samples):\n",
    "        Z = np.dot(X_train[j].T, w)\n",
    "        C_star = y_train[j]\n",
    "        q = sigmoid(Z)\n",
    "        for index, eachQ in enumerate(q):\n",
    "            if eachQ < threshold:\n",
    "                prediction_vector[j][index] = 0\n",
    "            elif eachQ >= threshold:\n",
    "                prediction_vector[j][index] = 1\n",
    "        index_of_C_start, = np.where(unique_Class_labels == C_star)\n",
    "        C_star_row = M[index_of_C_start]\n",
    "        w = w + delta_w(prediction_vector[j], C_star_row, q, X_train[j])\n",
    "        err_part1[j] = hamming_distance(prediction_vector[j], C_star_row)\n",
    "    error = np.sum(err_part1)/no_of_training_samples\n",
    "    training_error.append(error)\n"
   ]
  },
  {
   "cell_type": "code",
   "execution_count": null,
   "metadata": {},
   "outputs": [],
   "source": [
    "# calculate confusion matrix\n",
    "# y_train_predicted = test(X_train, y_train, no_of_training_samples)\n",
    "y_test_predicted = test(X_test, y_test_mat, no_of_testing_samples)\n",
    "\n"
   ]
  },
  {
   "cell_type": "code",
   "execution_count": null,
   "metadata": {},
   "outputs": [],
   "source": [
    "# class_map = {\"cp\":0, \"im\":1, \"imS\":2, \"imL\":3, \"imU\":4, \"om\":5, \"omL\":6, \"pp\":7}\n",
    "# y_train_new = []\n",
    "# y_test_new = []\n",
    "# for value in y_train:\n",
    "#     y_train_new.append(class_map[value])\n",
    "# for value in y_test:\n",
    "#     y_test_new.append(class_map[value])\n",
    "\n",
    "# train_matrix = confusion_matrix(y_train_new, y_train_predicted)\n",
    "# test_matrix = confusion_matrix(y_test_new, y_test_predicted)\n"
   ]
  },
  {
   "cell_type": "code",
   "execution_count": null,
   "metadata": {},
   "outputs": [],
   "source": [
    "# acc = np.mean(y_train_predicted == y_train_new)"
   ]
  },
  {
   "cell_type": "code",
   "execution_count": null,
   "metadata": {},
   "outputs": [],
   "source": [
    "acc"
   ]
  },
  {
   "cell_type": "code",
   "execution_count": null,
   "metadata": {},
   "outputs": [],
   "source": [
    "len(y_train_predicted)"
   ]
  },
  {
   "cell_type": "code",
   "execution_count": null,
   "metadata": {},
   "outputs": [],
   "source": [
    "len(y_train_new)"
   ]
  },
  {
   "cell_type": "code",
   "execution_count": null,
   "metadata": {},
   "outputs": [],
   "source": []
  }
 ],
 "metadata": {
  "kernelspec": {
   "display_name": "Python 3",
   "language": "python",
   "name": "python3"
  },
  "language_info": {
   "codemirror_mode": {
    "name": "ipython",
    "version": 3
   },
   "file_extension": ".py",
   "mimetype": "text/x-python",
   "name": "python",
   "nbconvert_exporter": "python",
   "pygments_lexer": "ipython3",
   "version": "3.6.6"
  }
 },
 "nbformat": 4,
 "nbformat_minor": 2
}
