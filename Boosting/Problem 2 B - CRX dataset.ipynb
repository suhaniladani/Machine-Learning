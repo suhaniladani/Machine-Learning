{
 "cells": [
  {
   "cell_type": "code",
   "execution_count": 1,
   "metadata": {},
   "outputs": [],
   "source": [
    "import numpy as np\n",
    "import pandas as pd\n",
    "import random\n",
    "import math\n",
    "import sys\n",
    "import matplotlib.pyplot as plt\n",
    "import seaborn as sns\n",
    "%matplotlib inline"
   ]
  },
  {
   "cell_type": "code",
   "execution_count": 2,
   "metadata": {},
   "outputs": [
    {
     "data": {
      "text/html": [
       "<div>\n",
       "<style scoped>\n",
       "    .dataframe tbody tr th:only-of-type {\n",
       "        vertical-align: middle;\n",
       "    }\n",
       "\n",
       "    .dataframe tbody tr th {\n",
       "        vertical-align: top;\n",
       "    }\n",
       "\n",
       "    .dataframe thead th {\n",
       "        text-align: right;\n",
       "    }\n",
       "</style>\n",
       "<table border=\"1\" class=\"dataframe\">\n",
       "  <thead>\n",
       "    <tr style=\"text-align: right;\">\n",
       "      <th></th>\n",
       "      <th>f0</th>\n",
       "      <th>f1</th>\n",
       "      <th>f2</th>\n",
       "      <th>f3</th>\n",
       "      <th>f4</th>\n",
       "      <th>f5</th>\n",
       "      <th>f6</th>\n",
       "      <th>f7</th>\n",
       "      <th>f8</th>\n",
       "      <th>f9</th>\n",
       "      <th>f10</th>\n",
       "      <th>f11</th>\n",
       "      <th>f12</th>\n",
       "      <th>f13</th>\n",
       "      <th>f14</th>\n",
       "      <th>label</th>\n",
       "    </tr>\n",
       "  </thead>\n",
       "  <tbody>\n",
       "    <tr>\n",
       "      <th>0</th>\n",
       "      <td>b</td>\n",
       "      <td>30.83</td>\n",
       "      <td>0.000</td>\n",
       "      <td>u</td>\n",
       "      <td>g</td>\n",
       "      <td>w</td>\n",
       "      <td>v</td>\n",
       "      <td>1.25</td>\n",
       "      <td>t</td>\n",
       "      <td>t</td>\n",
       "      <td>1</td>\n",
       "      <td>f</td>\n",
       "      <td>g</td>\n",
       "      <td>00202</td>\n",
       "      <td>0</td>\n",
       "      <td>+</td>\n",
       "    </tr>\n",
       "    <tr>\n",
       "      <th>1</th>\n",
       "      <td>a</td>\n",
       "      <td>58.67</td>\n",
       "      <td>4.460</td>\n",
       "      <td>u</td>\n",
       "      <td>g</td>\n",
       "      <td>q</td>\n",
       "      <td>h</td>\n",
       "      <td>3.04</td>\n",
       "      <td>t</td>\n",
       "      <td>t</td>\n",
       "      <td>6</td>\n",
       "      <td>f</td>\n",
       "      <td>g</td>\n",
       "      <td>00043</td>\n",
       "      <td>560</td>\n",
       "      <td>+</td>\n",
       "    </tr>\n",
       "    <tr>\n",
       "      <th>2</th>\n",
       "      <td>a</td>\n",
       "      <td>24.50</td>\n",
       "      <td>0.500</td>\n",
       "      <td>u</td>\n",
       "      <td>g</td>\n",
       "      <td>q</td>\n",
       "      <td>h</td>\n",
       "      <td>1.50</td>\n",
       "      <td>t</td>\n",
       "      <td>f</td>\n",
       "      <td>0</td>\n",
       "      <td>f</td>\n",
       "      <td>g</td>\n",
       "      <td>00280</td>\n",
       "      <td>824</td>\n",
       "      <td>+</td>\n",
       "    </tr>\n",
       "    <tr>\n",
       "      <th>3</th>\n",
       "      <td>b</td>\n",
       "      <td>27.83</td>\n",
       "      <td>1.540</td>\n",
       "      <td>u</td>\n",
       "      <td>g</td>\n",
       "      <td>w</td>\n",
       "      <td>v</td>\n",
       "      <td>3.75</td>\n",
       "      <td>t</td>\n",
       "      <td>t</td>\n",
       "      <td>5</td>\n",
       "      <td>t</td>\n",
       "      <td>g</td>\n",
       "      <td>00100</td>\n",
       "      <td>3</td>\n",
       "      <td>+</td>\n",
       "    </tr>\n",
       "    <tr>\n",
       "      <th>4</th>\n",
       "      <td>b</td>\n",
       "      <td>20.17</td>\n",
       "      <td>5.625</td>\n",
       "      <td>u</td>\n",
       "      <td>g</td>\n",
       "      <td>w</td>\n",
       "      <td>v</td>\n",
       "      <td>1.71</td>\n",
       "      <td>t</td>\n",
       "      <td>f</td>\n",
       "      <td>0</td>\n",
       "      <td>f</td>\n",
       "      <td>s</td>\n",
       "      <td>00120</td>\n",
       "      <td>0</td>\n",
       "      <td>+</td>\n",
       "    </tr>\n",
       "  </tbody>\n",
       "</table>\n",
       "</div>"
      ],
      "text/plain": [
       "  f0     f1     f2 f3 f4 f5 f6    f7 f8 f9  f10 f11 f12    f13  f14 label\n",
       "0  b  30.83  0.000  u  g  w  v  1.25  t  t    1   f   g  00202    0     +\n",
       "1  a  58.67  4.460  u  g  q  h  3.04  t  t    6   f   g  00043  560     +\n",
       "2  a  24.50  0.500  u  g  q  h  1.50  t  f    0   f   g  00280  824     +\n",
       "3  b  27.83  1.540  u  g  w  v  3.75  t  t    5   t   g  00100    3     +\n",
       "4  b  20.17  5.625  u  g  w  v  1.71  t  f    0   f   s  00120    0     +"
      ]
     },
     "execution_count": 2,
     "metadata": {},
     "output_type": "execute_result"
    }
   ],
   "source": [
    "df = pd.read_csv(\"CRX/crx.data\", delimiter='\\t', header=None) \n",
    "df.columns = ['f0', 'f1', 'f2', 'f3', 'f4', 'f5', 'f6', 'f7', 'f8', 'f9', 'f10', 'f11', 'f12', 'f13', 'f14', 'label']\n",
    "df.head()\n"
   ]
  },
  {
   "cell_type": "code",
   "execution_count": 3,
   "metadata": {},
   "outputs": [],
   "source": [
    "X = pd.get_dummies(df.drop('label', axis=1))"
   ]
  },
  {
   "cell_type": "code",
   "execution_count": 4,
   "metadata": {},
   "outputs": [
    {
     "data": {
      "text/html": [
       "<div>\n",
       "<style scoped>\n",
       "    .dataframe tbody tr th:only-of-type {\n",
       "        vertical-align: middle;\n",
       "    }\n",
       "\n",
       "    .dataframe tbody tr th {\n",
       "        vertical-align: top;\n",
       "    }\n",
       "\n",
       "    .dataframe thead th {\n",
       "        text-align: right;\n",
       "    }\n",
       "</style>\n",
       "<table border=\"1\" class=\"dataframe\">\n",
       "  <thead>\n",
       "    <tr style=\"text-align: right;\">\n",
       "      <th></th>\n",
       "      <th>f2</th>\n",
       "      <th>f7</th>\n",
       "      <th>f10</th>\n",
       "      <th>f14</th>\n",
       "      <th>f0_?</th>\n",
       "      <th>f0_a</th>\n",
       "      <th>f0_b</th>\n",
       "      <th>f1_13.75</th>\n",
       "      <th>f1_15.17</th>\n",
       "      <th>f1_15.75</th>\n",
       "      <th>...</th>\n",
       "      <th>f13_00680</th>\n",
       "      <th>f13_00711</th>\n",
       "      <th>f13_00720</th>\n",
       "      <th>f13_00760</th>\n",
       "      <th>f13_00840</th>\n",
       "      <th>f13_00928</th>\n",
       "      <th>f13_00980</th>\n",
       "      <th>f13_01160</th>\n",
       "      <th>f13_02000</th>\n",
       "      <th>f13_?</th>\n",
       "    </tr>\n",
       "  </thead>\n",
       "  <tbody>\n",
       "    <tr>\n",
       "      <th>0</th>\n",
       "      <td>0.000</td>\n",
       "      <td>1.25</td>\n",
       "      <td>1</td>\n",
       "      <td>0</td>\n",
       "      <td>0</td>\n",
       "      <td>0</td>\n",
       "      <td>1</td>\n",
       "      <td>0</td>\n",
       "      <td>0</td>\n",
       "      <td>0</td>\n",
       "      <td>...</td>\n",
       "      <td>0</td>\n",
       "      <td>0</td>\n",
       "      <td>0</td>\n",
       "      <td>0</td>\n",
       "      <td>0</td>\n",
       "      <td>0</td>\n",
       "      <td>0</td>\n",
       "      <td>0</td>\n",
       "      <td>0</td>\n",
       "      <td>0</td>\n",
       "    </tr>\n",
       "    <tr>\n",
       "      <th>1</th>\n",
       "      <td>4.460</td>\n",
       "      <td>3.04</td>\n",
       "      <td>6</td>\n",
       "      <td>560</td>\n",
       "      <td>0</td>\n",
       "      <td>1</td>\n",
       "      <td>0</td>\n",
       "      <td>0</td>\n",
       "      <td>0</td>\n",
       "      <td>0</td>\n",
       "      <td>...</td>\n",
       "      <td>0</td>\n",
       "      <td>0</td>\n",
       "      <td>0</td>\n",
       "      <td>0</td>\n",
       "      <td>0</td>\n",
       "      <td>0</td>\n",
       "      <td>0</td>\n",
       "      <td>0</td>\n",
       "      <td>0</td>\n",
       "      <td>0</td>\n",
       "    </tr>\n",
       "    <tr>\n",
       "      <th>2</th>\n",
       "      <td>0.500</td>\n",
       "      <td>1.50</td>\n",
       "      <td>0</td>\n",
       "      <td>824</td>\n",
       "      <td>0</td>\n",
       "      <td>1</td>\n",
       "      <td>0</td>\n",
       "      <td>0</td>\n",
       "      <td>0</td>\n",
       "      <td>0</td>\n",
       "      <td>...</td>\n",
       "      <td>0</td>\n",
       "      <td>0</td>\n",
       "      <td>0</td>\n",
       "      <td>0</td>\n",
       "      <td>0</td>\n",
       "      <td>0</td>\n",
       "      <td>0</td>\n",
       "      <td>0</td>\n",
       "      <td>0</td>\n",
       "      <td>0</td>\n",
       "    </tr>\n",
       "    <tr>\n",
       "      <th>3</th>\n",
       "      <td>1.540</td>\n",
       "      <td>3.75</td>\n",
       "      <td>5</td>\n",
       "      <td>3</td>\n",
       "      <td>0</td>\n",
       "      <td>0</td>\n",
       "      <td>1</td>\n",
       "      <td>0</td>\n",
       "      <td>0</td>\n",
       "      <td>0</td>\n",
       "      <td>...</td>\n",
       "      <td>0</td>\n",
       "      <td>0</td>\n",
       "      <td>0</td>\n",
       "      <td>0</td>\n",
       "      <td>0</td>\n",
       "      <td>0</td>\n",
       "      <td>0</td>\n",
       "      <td>0</td>\n",
       "      <td>0</td>\n",
       "      <td>0</td>\n",
       "    </tr>\n",
       "    <tr>\n",
       "      <th>4</th>\n",
       "      <td>5.625</td>\n",
       "      <td>1.71</td>\n",
       "      <td>0</td>\n",
       "      <td>0</td>\n",
       "      <td>0</td>\n",
       "      <td>0</td>\n",
       "      <td>1</td>\n",
       "      <td>0</td>\n",
       "      <td>0</td>\n",
       "      <td>0</td>\n",
       "      <td>...</td>\n",
       "      <td>0</td>\n",
       "      <td>0</td>\n",
       "      <td>0</td>\n",
       "      <td>0</td>\n",
       "      <td>0</td>\n",
       "      <td>0</td>\n",
       "      <td>0</td>\n",
       "      <td>0</td>\n",
       "      <td>0</td>\n",
       "      <td>0</td>\n",
       "    </tr>\n",
       "  </tbody>\n",
       "</table>\n",
       "<p>5 rows × 570 columns</p>\n",
       "</div>"
      ],
      "text/plain": [
       "      f2    f7  f10  f14  f0_?  f0_a  f0_b  f1_13.75  f1_15.17  f1_15.75  \\\n",
       "0  0.000  1.25    1    0     0     0     1         0         0         0   \n",
       "1  4.460  3.04    6  560     0     1     0         0         0         0   \n",
       "2  0.500  1.50    0  824     0     1     0         0         0         0   \n",
       "3  1.540  3.75    5    3     0     0     1         0         0         0   \n",
       "4  5.625  1.71    0    0     0     0     1         0         0         0   \n",
       "\n",
       "   ...    f13_00680  f13_00711  f13_00720  f13_00760  f13_00840  f13_00928  \\\n",
       "0  ...            0          0          0          0          0          0   \n",
       "1  ...            0          0          0          0          0          0   \n",
       "2  ...            0          0          0          0          0          0   \n",
       "3  ...            0          0          0          0          0          0   \n",
       "4  ...            0          0          0          0          0          0   \n",
       "\n",
       "   f13_00980  f13_01160  f13_02000  f13_?  \n",
       "0          0          0          0      0  \n",
       "1          0          0          0      0  \n",
       "2          0          0          0      0  \n",
       "3          0          0          0      0  \n",
       "4          0          0          0      0  \n",
       "\n",
       "[5 rows x 570 columns]"
      ]
     },
     "execution_count": 4,
     "metadata": {},
     "output_type": "execute_result"
    }
   ],
   "source": [
    "X.head()"
   ]
  },
  {
   "cell_type": "code",
   "execution_count": 5,
   "metadata": {},
   "outputs": [
    {
     "data": {
      "text/html": [
       "<div>\n",
       "<style scoped>\n",
       "    .dataframe tbody tr th:only-of-type {\n",
       "        vertical-align: middle;\n",
       "    }\n",
       "\n",
       "    .dataframe tbody tr th {\n",
       "        vertical-align: top;\n",
       "    }\n",
       "\n",
       "    .dataframe thead th {\n",
       "        text-align: right;\n",
       "    }\n",
       "</style>\n",
       "<table border=\"1\" class=\"dataframe\">\n",
       "  <thead>\n",
       "    <tr style=\"text-align: right;\">\n",
       "      <th></th>\n",
       "      <th>f0</th>\n",
       "      <th>f1</th>\n",
       "      <th>f2</th>\n",
       "      <th>f3</th>\n",
       "      <th>f4</th>\n",
       "      <th>f5</th>\n",
       "      <th>f6</th>\n",
       "      <th>f7</th>\n",
       "      <th>f8</th>\n",
       "      <th>f9</th>\n",
       "      <th>f10</th>\n",
       "      <th>f11</th>\n",
       "      <th>f12</th>\n",
       "      <th>f13</th>\n",
       "      <th>f14</th>\n",
       "      <th>label</th>\n",
       "    </tr>\n",
       "  </thead>\n",
       "  <tbody>\n",
       "    <tr>\n",
       "      <th>0</th>\n",
       "      <td>b</td>\n",
       "      <td>30.83</td>\n",
       "      <td>0.000</td>\n",
       "      <td>u</td>\n",
       "      <td>g</td>\n",
       "      <td>w</td>\n",
       "      <td>v</td>\n",
       "      <td>1.25</td>\n",
       "      <td>t</td>\n",
       "      <td>t</td>\n",
       "      <td>1</td>\n",
       "      <td>f</td>\n",
       "      <td>g</td>\n",
       "      <td>00202</td>\n",
       "      <td>0</td>\n",
       "      <td>1</td>\n",
       "    </tr>\n",
       "    <tr>\n",
       "      <th>1</th>\n",
       "      <td>a</td>\n",
       "      <td>58.67</td>\n",
       "      <td>4.460</td>\n",
       "      <td>u</td>\n",
       "      <td>g</td>\n",
       "      <td>q</td>\n",
       "      <td>h</td>\n",
       "      <td>3.04</td>\n",
       "      <td>t</td>\n",
       "      <td>t</td>\n",
       "      <td>6</td>\n",
       "      <td>f</td>\n",
       "      <td>g</td>\n",
       "      <td>00043</td>\n",
       "      <td>560</td>\n",
       "      <td>1</td>\n",
       "    </tr>\n",
       "    <tr>\n",
       "      <th>2</th>\n",
       "      <td>a</td>\n",
       "      <td>24.50</td>\n",
       "      <td>0.500</td>\n",
       "      <td>u</td>\n",
       "      <td>g</td>\n",
       "      <td>q</td>\n",
       "      <td>h</td>\n",
       "      <td>1.50</td>\n",
       "      <td>t</td>\n",
       "      <td>f</td>\n",
       "      <td>0</td>\n",
       "      <td>f</td>\n",
       "      <td>g</td>\n",
       "      <td>00280</td>\n",
       "      <td>824</td>\n",
       "      <td>1</td>\n",
       "    </tr>\n",
       "    <tr>\n",
       "      <th>3</th>\n",
       "      <td>b</td>\n",
       "      <td>27.83</td>\n",
       "      <td>1.540</td>\n",
       "      <td>u</td>\n",
       "      <td>g</td>\n",
       "      <td>w</td>\n",
       "      <td>v</td>\n",
       "      <td>3.75</td>\n",
       "      <td>t</td>\n",
       "      <td>t</td>\n",
       "      <td>5</td>\n",
       "      <td>t</td>\n",
       "      <td>g</td>\n",
       "      <td>00100</td>\n",
       "      <td>3</td>\n",
       "      <td>1</td>\n",
       "    </tr>\n",
       "    <tr>\n",
       "      <th>4</th>\n",
       "      <td>b</td>\n",
       "      <td>20.17</td>\n",
       "      <td>5.625</td>\n",
       "      <td>u</td>\n",
       "      <td>g</td>\n",
       "      <td>w</td>\n",
       "      <td>v</td>\n",
       "      <td>1.71</td>\n",
       "      <td>t</td>\n",
       "      <td>f</td>\n",
       "      <td>0</td>\n",
       "      <td>f</td>\n",
       "      <td>s</td>\n",
       "      <td>00120</td>\n",
       "      <td>0</td>\n",
       "      <td>1</td>\n",
       "    </tr>\n",
       "  </tbody>\n",
       "</table>\n",
       "</div>"
      ],
      "text/plain": [
       "  f0     f1     f2 f3 f4 f5 f6    f7 f8 f9  f10 f11 f12    f13  f14  label\n",
       "0  b  30.83  0.000  u  g  w  v  1.25  t  t    1   f   g  00202    0      1\n",
       "1  a  58.67  4.460  u  g  q  h  3.04  t  t    6   f   g  00043  560      1\n",
       "2  a  24.50  0.500  u  g  q  h  1.50  t  f    0   f   g  00280  824      1\n",
       "3  b  27.83  1.540  u  g  w  v  3.75  t  t    5   t   g  00100    3      1\n",
       "4  b  20.17  5.625  u  g  w  v  1.71  t  f    0   f   s  00120    0      1"
      ]
     },
     "execution_count": 5,
     "metadata": {},
     "output_type": "execute_result"
    }
   ],
   "source": [
    "df['label'].replace('-', -1,inplace=True)\n",
    "df['label'].replace('+', 1,inplace=True)\n",
    "df.head()"
   ]
  },
  {
   "cell_type": "code",
   "execution_count": 6,
   "metadata": {},
   "outputs": [],
   "source": [
    "y = df.iloc[:, -1]\n",
    "df = X.join(y)"
   ]
  },
  {
   "cell_type": "code",
   "execution_count": 7,
   "metadata": {},
   "outputs": [],
   "source": [
    "from random import randrange\n",
    "def make_k_folds(df, kfolds):\n",
    "    data_folds = list()\n",
    "    for i in range(kfolds):\n",
    "        data_folds.append(pd.DataFrame())\n",
    "    counter = 0\n",
    "    for i in range(len(df)):\n",
    "        if counter >= kfolds:\n",
    "            counter = 0\n",
    "        data_folds[counter] = data_folds[counter].append(df[i:i+1])\n",
    "        counter += 1\n",
    "    return data_folds"
   ]
  },
  {
   "cell_type": "code",
   "execution_count": 8,
   "metadata": {},
   "outputs": [],
   "source": [
    "k = 5\n",
    "dataset = make_k_folds(df, k)"
   ]
  },
  {
   "cell_type": "code",
   "execution_count": 9,
   "metadata": {},
   "outputs": [
    {
     "name": "stdout",
     "output_type": "stream",
     "text": [
      "1\n",
      "2\n",
      "3\n",
      "4\n"
     ]
    }
   ],
   "source": [
    "testing_set = dataset[0]\n",
    "training_set = pd.DataFrame()\n",
    "for i in range (1, 5):\n",
    "    print(i)\n",
    "    training_set = training_set.append(dataset[i])"
   ]
  },
  {
   "cell_type": "code",
   "execution_count": 10,
   "metadata": {},
   "outputs": [],
   "source": [
    "def train_test_split(df, test_size):\n",
    "    \n",
    "    if isinstance(test_size, float):\n",
    "        test_size = round(test_size * len(df))\n",
    "\n",
    "    index_list = df.index.tolist()\n",
    "    test_indexes = random.sample(population=index_list, k=test_size)\n",
    "\n",
    "    test_df = df.loc[test_indexes]\n",
    "    train_df = df.drop(test_indexes)\n",
    "    \n",
    "    return train_df, test_df"
   ]
  },
  {
   "cell_type": "code",
   "execution_count": 11,
   "metadata": {},
   "outputs": [],
   "source": [
    "random.seed(3)\n",
    "train_df1, test_df1 = train_test_split(df, 0.95)\n",
    "train_df2, test_df2 = train_test_split(df, 0.90)\n",
    "train_df3, test_df3 = train_test_split(df, 0.85)\n",
    "train_df4, test_df4 = train_test_split(df, 0.70)\n",
    "train_df5, test_df5 = train_test_split(df, 0.50)\n",
    "train_df6, test_df6 = train_test_split(df, 0.30)"
   ]
  },
  {
   "cell_type": "code",
   "execution_count": 12,
   "metadata": {},
   "outputs": [],
   "source": [
    "X_train1 = train_df1.iloc[: , :-1]\n",
    "y_train1 = train_df1.iloc[: , -1]\n",
    "\n",
    "X_train2 = train_df2.iloc[: , :-1]\n",
    "y_train2 = train_df2.iloc[: , -1]\n",
    "\n",
    "X_train3 = train_df3.iloc[: , :-1]\n",
    "y_train3 = train_df3.iloc[: , -1]\n",
    "\n",
    "X_train4 = train_df4.iloc[: , :-1]\n",
    "y_train4 = train_df4.iloc[: , -1]\n",
    "\n",
    "X_train5 = train_df5.iloc[: , :-1]\n",
    "y_train5 = train_df5.iloc[: , -1]\n",
    "\n",
    "X_train6 = train_df6.iloc[: , :-1]\n",
    "y_train6 = train_df6.iloc[: , -1]\n",
    "\n",
    "\n",
    "\n",
    "X_test = testing_set.iloc[: , :-1]\n",
    "y_test = testing_set.iloc[: , -1]"
   ]
  },
  {
   "cell_type": "code",
   "execution_count": 13,
   "metadata": {},
   "outputs": [],
   "source": [
    "# Determines if sample shall be classified as -1 or 1 given threshold\n",
    "def make_clf_dict():\n",
    "    clf_dict = {'polarity': 1, 'feature_index': None, 'threshold': None, 'alpha': None}\n",
    "    return clf_dict"
   ]
  },
  {
   "cell_type": "code",
   "execution_count": 14,
   "metadata": {},
   "outputs": [],
   "source": [
    "def predict(X):\n",
    "    n_samples = np.shape(X)[0]\n",
    "    y_pred = np.zeros((n_samples, 1))\n",
    "    # For each classifier => label the samples\n",
    "    for clf in clfs:\n",
    "        # Set all predictions to '1' initially\n",
    "        predictions = np.ones(np.shape(y_pred))\n",
    "        # The indexes where the sample values are below threshold\n",
    "        negative_idx = (clf['polarity'] * X[clf['feature_index']] < clf['polarity'] * clf['threshold'])\n",
    "        # Label those as '-1'\n",
    "        predictions[negative_idx] = -1\n",
    "        # Add predictions weighted by the classifiers alpha\n",
    "        # (alpha indicative of classifier's proficiency)\n",
    "        y_pred += clf['alpha'] * predictions\n",
    "\n",
    "    # Return sign of prediction sum\n",
    "    y_pred = np.sign(y_pred).flatten()\n",
    "\n",
    "    return y_pred\n",
    "\n",
    "\n"
   ]
  },
  {
   "cell_type": "code",
   "execution_count": 15,
   "metadata": {},
   "outputs": [],
   "source": [
    "n_clf = 100\n",
    "\n",
    "def fit(X, y):\n",
    "    n_samples, n_features = np.shape(X)\n",
    "\n",
    "    # Initialize weights to 1/N\n",
    "    w = np.full(n_samples, (1 / n_samples))\n",
    "\n",
    "    clfs = []\n",
    "    # Iterate through classifiers\n",
    "    for _ in range(n_clf):\n",
    "        \n",
    "        clf = make_clf_dict()\n",
    "        # Minimum error given for using a certain feature value threshold\n",
    "        # for predicting sample label\n",
    "        min_error = float('inf')\n",
    "        # Iterate throught every unique feature value and see what value\n",
    "        # makes the best threshold for predicting y\n",
    "        for feature_i in X_train.columns:\n",
    "            feature_values = np.expand_dims(X[feature_i], axis=1)\n",
    "            unique_values = np.unique(feature_values)\n",
    "            # Try every unique feature value as threshold\n",
    "            for threshold in unique_values:\n",
    "                p = 1\n",
    "                # Set all predictions to '1' initially\n",
    "                prediction = np.ones(np.shape(y))\n",
    "                # Label the samples whose values are below threshold as '-1'\n",
    "                prediction[X[feature_i] < threshold] = -1\n",
    "                # Error = sum of weights of misclassified samples\n",
    "                error = sum(w[y != prediction])\n",
    "\n",
    "                # If the error is over 50% we flip the polarity so that samples that\n",
    "                # were classified as 0 are classified as 1, and vice versa\n",
    "                # E.g error = 0.8 => (1 - error) = 0.2\n",
    "                if error > 0.5:\n",
    "                    error = 1 - error\n",
    "                    p = -1\n",
    "\n",
    "                # If this threshold resulted in the smallest error we save the\n",
    "                # configuration\n",
    "                if error < min_error:\n",
    "                    clf['polarity'] = p\n",
    "                    clf['threshold'] = threshold\n",
    "                    clf['feature_index'] = feature_i\n",
    "                    min_error = error\n",
    "        # Calculate the alpha which is used to update the sample weights,\n",
    "        # Alpha is also an approximation of this classifier's proficiency\n",
    "        clf['alpha'] = 0.5 * math.log((1.0 - min_error) / (min_error + 1e-10))\n",
    "        # Set all predictions to '1' initially\n",
    "        predictions = np.ones(np.shape(y))\n",
    "        # The indexes where the sample values are below threshold\n",
    "        negative_idx = (clf['polarity'] * X[clf['feature_index']] < clf['polarity'] * clf['threshold'])\n",
    "        # Label those as '-1'\n",
    "        predictions[negative_idx] = -1\n",
    "        # Calculate new weights \n",
    "        # Missclassified samples gets larger weights and correctly classified samples smaller\n",
    "        w *= np.exp(-clf['alpha'] * y * predictions)\n",
    "        # Normalize to one\n",
    "        w /= np.sum(w)\n",
    "\n",
    "        # Save classifier\n",
    "        clfs.append(clf)\n",
    "    return clfs\n",
    "\n"
   ]
  },
  {
   "cell_type": "code",
   "execution_count": 16,
   "metadata": {},
   "outputs": [],
   "source": [
    "\n",
    "#     X_train, X_test, y_train, y_test = train_test_split(X, y, test_size=0.5)\n",
    "\n",
    "# Adaboost classification with 5 weak classifiers\n",
    "X_train = X_train1\n",
    "y_train = y_train1\n",
    "clfs = fit(X_train, y_train)\n",
    "y_pred1 = predict(X_test)\n",
    "# y_train_pred = predict(X_train)\n",
    "\n",
    "X_train = X_train2\n",
    "y_train = y_train2\n",
    "clfs = fit(X_train, y_train)\n",
    "y_pred2 = predict(X_test)\n",
    "\n",
    "X_train = X_train3\n",
    "y_train = y_train3\n",
    "clfs = fit(X_train, y_train)\n",
    "y_pred3 = predict(X_test)\n",
    "\n",
    "X_train = X_train4\n",
    "y_train = y_train4\n",
    "clfs = fit(X_train, y_train)\n",
    "y_pred4 = predict(X_test)\n",
    "\n",
    "X_train = X_train5\n",
    "y_train = y_train5\n",
    "clfs = fit(X_train, y_train)\n",
    "y_pred5 = predict(X_test)\n",
    "\n",
    "X_train = X_train6\n",
    "y_train = y_train6\n",
    "clfs = fit(X_train, y_train)\n",
    "y_pred6 = predict(X_test)"
   ]
  },
  {
   "cell_type": "code",
   "execution_count": 17,
   "metadata": {},
   "outputs": [],
   "source": [
    "acc1 = np.mean(np.array(y_test) == y_pred1)\n",
    "acc2 = np.mean(np.array(y_test) == y_pred2)\n",
    "acc3 = np.mean(np.array(y_test) == y_pred3)\n",
    "acc4 = np.mean(np.array(y_test) == y_pred4)\n",
    "acc5 = np.mean(np.array(y_test) == y_pred5)\n",
    "acc6 = np.mean(np.array(y_test) == y_pred6)"
   ]
  },
  {
   "cell_type": "code",
   "execution_count": 18,
   "metadata": {},
   "outputs": [],
   "source": [
    "# y_test"
   ]
  },
  {
   "cell_type": "code",
   "execution_count": 19,
   "metadata": {},
   "outputs": [
    {
     "data": {
      "image/png": "[encoded data removed]",
      "text/plain": [
       "<Figure size 432x432 with 1 Axes>"
      ]
     },
     "metadata": {},
     "output_type": "display_data"
    }
   ],
   "source": [
    "thresholds = np.linspace(2,-2,105)\n",
    "\n",
    "ROC = np.zeros((105,2))\n",
    "\n",
    "for i in range(105):\n",
    "    t = thresholds[i]\n",
    "    \n",
    "    TP_t = np.logical_and( y_pred5 > t, y_test==1 ).sum()\n",
    "    TN_t = np.logical_and( y_pred5 <=t, y_test==-1 ).sum()\n",
    "    FP_t = np.logical_and( y_pred5 > t, y_test==-1 ).sum()\n",
    "    FN_t = np.logical_and( y_pred5 <=t, y_test==1 ).sum()\n",
    "\n",
    "    FPR_t = FP_t / float(FP_t + TN_t)\n",
    "    ROC[i,0] = FPR_t\n",
    "\n",
    "    TPR_t = TP_t / float(TP_t + FN_t)\n",
    "    ROC[i,1] = TPR_t\n",
    "\n",
    "fig = plt.figure(figsize=(6,6))\n",
    "plt.plot(ROC[:,0], ROC[:,1], lw=2)\n",
    "plt.xlabel('$FPR(t)$')\n",
    "plt.ylabel('$TPR(t)$')\n",
    "plt.grid()"
   ]
  },
  {
   "cell_type": "code",
   "execution_count": 20,
   "metadata": {},
   "outputs": [
    {
     "data": {
      "text/plain": [
       "0.841813923781137"
      ]
     },
     "execution_count": 20,
     "metadata": {},
     "output_type": "execute_result"
    }
   ],
   "source": [
    "AUC = 0.\n",
    "for i in range(100):\n",
    "    AUC += (ROC[i+1,0]-ROC[i,0]) * (ROC[i+1,1]+ROC[i,1])\n",
    "AUC *= 0.5\n",
    "AUC"
   ]
  },
  {
   "cell_type": "code",
   "execution_count": 21,
   "metadata": {},
   "outputs": [
    {
     "data": {
      "text/plain": [
       "0.7318840579710145"
      ]
     },
     "execution_count": 21,
     "metadata": {},
     "output_type": "execute_result"
    }
   ],
   "source": [
    "acc1"
   ]
  },
  {
   "cell_type": "code",
   "execution_count": 22,
   "metadata": {},
   "outputs": [
    {
     "data": {
      "text/plain": [
       "0.8115942028985508"
      ]
     },
     "execution_count": 22,
     "metadata": {},
     "output_type": "execute_result"
    }
   ],
   "source": [
    "acc2"
   ]
  },
  {
   "cell_type": "code",
   "execution_count": 23,
   "metadata": {},
   "outputs": [
    {
     "data": {
      "text/plain": [
       "0.8840579710144928"
      ]
     },
     "execution_count": 23,
     "metadata": {},
     "output_type": "execute_result"
    }
   ],
   "source": [
    "acc3"
   ]
  },
  {
   "cell_type": "code",
   "execution_count": 24,
   "metadata": {},
   "outputs": [
    {
     "data": {
      "text/plain": [
       "0.8333333333333334"
      ]
     },
     "execution_count": 24,
     "metadata": {},
     "output_type": "execute_result"
    }
   ],
   "source": [
    "acc4"
   ]
  },
  {
   "cell_type": "code",
   "execution_count": 25,
   "metadata": {},
   "outputs": [
    {
     "data": {
      "text/plain": [
       "0.8405797101449275"
      ]
     },
     "execution_count": 25,
     "metadata": {},
     "output_type": "execute_result"
    }
   ],
   "source": [
    "acc5"
   ]
  },
  {
   "cell_type": "code",
   "execution_count": 26,
   "metadata": {},
   "outputs": [
    {
     "data": {
      "text/plain": [
       "0.8333333333333334"
      ]
     },
     "execution_count": 26,
     "metadata": {},
     "output_type": "execute_result"
    }
   ],
   "source": [
    "acc6"
   ]
  },
  {
   "cell_type": "code",
   "execution_count": null,
   "metadata": {},
   "outputs": [],
   "source": []
  }
 ],
 "metadata": {
  "kernelspec": {
   "display_name": "Python 3",
   "language": "python",
   "name": "python3"
  },
  "language_info": {
   "codemirror_mode": {
    "name": "ipython",
    "version": 3
   },
   "file_extension": ".py",
   "mimetype": "text/x-python",
   "name": "python",
   "nbconvert_exporter": "python",
   "pygments_lexer": "ipython3",
   "version": "3.6.6"
  }
 },
 "nbformat": 4,
 "nbformat_minor": 2
}
