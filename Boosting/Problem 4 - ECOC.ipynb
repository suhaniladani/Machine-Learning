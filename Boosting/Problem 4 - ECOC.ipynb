{
 "cells": [
  {
   "cell_type": "code",
   "execution_count": null,
   "metadata": {},
   "outputs": [],
   "source": [
    "import array\n",
    "import numpy as np\n",
    "import warnings\n",
    "import scipy.sparse as sp\n",
    "import itertools\n",
    "\n",
    "from .base import BaseEstimator, ClassifierMixin, clone, is_classifier\n",
    "from .base import MultiOutputMixin\n",
    "from .base import MetaEstimatorMixin, is_regressor\n",
    "from .preprocessing import LabelBinarizer\n",
    "from .metrics.pairwise import euclidean_distances\n",
    "from .utils import check_random_state\n",
    "from .utils.validation import _num_samples\n",
    "from .utils.validation import check_is_fitted\n",
    "from .utils.validation import check_X_y, check_array\n",
    "from .utils.multiclass import (_check_partial_fit_first_call,\n",
    "                               check_classification_targets,\n",
    "                               _ovr_decision_function)\n",
    "from .utils.metaestimators import _safe_split, if_delegate_has_method\n",
    "\n",
    "from .utils._joblib import Parallel\n",
    "from .utils._joblib import delayed\n"
   ]
  },
  {
   "cell_type": "code",
   "execution_count": null,
   "metadata": {},
   "outputs": [],
   "source": [
    "def _check_estimator(estimator):\n",
    "    \"\"\"Make sure that an estimator implements the necessary methods.\"\"\"\n",
    "    if (not hasattr(estimator, \"decision_function\") and\n",
    "            not hasattr(estimator, \"predict_proba\")):\n",
    "        raise ValueError(\"The base estimator should implement \"\n",
    "                         \"decision_function or predict_proba!\")"
   ]
  },
  {
   "cell_type": "code",
   "execution_count": 2,
   "metadata": {},
   "outputs": [],
   "source": [
    "estimator, \n",
    "code_size=1.5\n",
    "random_state=None\n",
    "n_jobs=None"
   ]
  },
  {
   "cell_type": "code",
   "execution_count": 3,
   "metadata": {},
   "outputs": [],
   "source": [
    "def fit(X, y):\n",
    "    \"\"\"Fit underlying estimators.\n",
    "    Parameters\n",
    "    ----------\n",
    "    X : (sparse) array-like, shape = [n_samples, n_features]\n",
    "        Data.\n",
    "    y : numpy array of shape [n_samples]\n",
    "        Multi-class targets.\n",
    "    Returns\n",
    "    -------\n",
    "    self\n",
    "    \"\"\"\n",
    "    X, y = check_X_y(X, y)\n",
    "    if code_size <= 0:\n",
    "        raise ValueError(\"code_size should be greater than 0, got {0}\"\n",
    "                         \"\".format(code_size))\n",
    "\n",
    "    _check_estimator(estimator)\n",
    "    random_state = check_random_state(random_state)\n",
    "    check_classification_targets(y)\n",
    "\n",
    "    classes_ = np.unique(y)\n",
    "    n_classes = classes_.shape[0]\n",
    "    code_size_ = int(n_classes * code_size)\n",
    "\n",
    "    # FIXME: there are more elaborate methods than generating the codebook\n",
    "    # randomly.\n",
    "    code_book_ = random_state.random_sample((n_classes, code_size_))\n",
    "    code_book_[code_book_ > 0.5] = 1\n",
    "\n",
    "    if hasattr(estimator, \"decision_function\"):\n",
    "        code_book_[code_book_ != 1] = -1\n",
    "    else:\n",
    "        code_book_[code_book_ != 1] = 0\n",
    "\n",
    "    classes_index = {c: i for i, c in enumerate(classes_)}\n",
    "\n",
    "    Y = np.array([code_book_[classes_index[y[i]]]\n",
    "                  for i in range(X.shape[0])], dtype=np.int)\n",
    "\n",
    "    estimators_ = Parallel(n_jobs=n_jobs)(\n",
    "        delayed(_fit_binary)(estimator, X, Y[:, i])\n",
    "        for i in range(Y.shape[1]))\n",
    "\n",
    "    return self\n"
   ]
  },
  {
   "cell_type": "code",
   "execution_count": null,
   "metadata": {},
   "outputs": [],
   "source": [
    "def predict(X):\n",
    "    \"\"\"Predict multi-class targets using underlying estimators.\n",
    "    Parameters\n",
    "    ----------\n",
    "    X : (sparse) array-like, shape = [n_samples, n_features]\n",
    "        Data.\n",
    "    Returns\n",
    "    -------\n",
    "    y : numpy array of shape [n_samples]\n",
    "        Predicted multi-class targets.\n",
    "    \"\"\"\n",
    "    check_is_fitted('estimators_')\n",
    "    X = check_array(X)\n",
    "    Y = np.array([_predict_binary(e, X) for e in estimators_]).T\n",
    "    pred = euclidean_distances(Y, code_book_).argmin(axis=1)\n",
    "    return classes_[pred]"
   ]
  }
 ],
 "metadata": {
  "kernelspec": {
   "display_name": "Python 3",
   "language": "python",
   "name": "python3"
  },
  "language_info": {
   "codemirror_mode": {
    "name": "ipython",
    "version": 3
   },
   "file_extension": ".py",
   "mimetype": "text/x-python",
   "name": "python",
   "nbconvert_exporter": "python",
   "pygments_lexer": "ipython3",
   "version": "3.6.6"
  }
 },
 "nbformat": 4,
 "nbformat_minor": 2
}
