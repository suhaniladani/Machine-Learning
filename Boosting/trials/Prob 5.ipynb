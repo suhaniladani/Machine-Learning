{
 "cells": [
  {
   "cell_type": "code",
   "execution_count": 1,
   "metadata": {},
   "outputs": [
    {
     "name": "stdout",
     "output_type": "stream",
     "text": [
      "importing Jupyter notebook from DecisionTree.ipynb\n",
      "{'RM <= 7.436999999999999': [{'LSTAT <= 15.0': [{'DIS <= 1.2437999999999998': [50.0,\n",
      "                                                                               {'RM <= 6.797': [{'LSTAT <= 3.3949999999999996': [50.0,\n",
      "                                                                                                                                 {'LSTAT <= 3.63': [32.4,\n",
      "                                                                                                                                                    {'LSTAT <= 3.745': [50.0,\n",
      "                                                                                                                                                                        {'LSTAT <= 4.52': [30.375,\n",
      "                                                                                                                                                                                           {'B <= 114.685': [16.1,\n",
      "                                                                                                                                                                                                             {'DIS <= 1.3979': [27.9,\n",
      "                                                                                                                                                                                                                                22.20707547169811]}]}]}]}]}]},\n",
      "                                                                                                {'DIS <= 1.88595': [41.3,\n",
      "                                                                                                                    {'PTRATIO <= 19.45': [{'TAX <= 204.5': [37.55,\n",
      "                                                                                                                                                            {'DIS <= 2.0044500000000003': [36.25,\n",
      "                                                                                                                                                                                           {'INDUS <= 1.27': [35.4,\n",
      "                                                                                                                                                                                                              {'LSTAT <= 2.46': [34.9,\n",
      "                                                                                                                                                                                                                                 31.76216216216217]}]}]}]},\n",
      "                                                                                                                                          26.325000000000003]}]}]}]},\n",
      "                                                {'CRIM <= 11.36915': [{'CRIM <= 0.64739': [{'DIS <= 1.66865': [13.65,\n",
      "                                                                                                               {'AGE <= 55.9': [22.725,\n",
      "                                                                                                                                {'LSTAT <= 26.335': [{'DIS <= 1.8004': [17.0,\n",
      "                                                                                                                                                                        {'RM <= 6.303': [{'LSTAT <= 24.695': [19.931818181818183,\n",
      "                                                                                                                                                                                                              17.3]},\n",
      "                                                                                                                                                                                         16.5]}]},\n",
      "                                                                                                                                                     16.1]}]}]},\n",
      "                                                                                           {'RM <= 7.1129999999999995': [{'AGE <= 74.19999999999999': [11.7,\n",
      "                                                                                                                                                       {'AGE <= 79.05': [6.3,\n",
      "                                                                                                                                                                         {'RM <= 4.9045': [11.8,\n",
      "                                                                                                                                                                                           {'DIS <= 4.3163': [{'DIS <= 4.1640999999999995': [14.381355932203391,\n",
      "                                                                                                                                                                                                                                             12.7]},\n",
      "                                                                                                                                                                                                              15.6]}]}]}]},\n",
      "                                                                                                                         17.8]}]},\n",
      "                                                                      {'NOX <= 0.675': [11.771428571428572,\n",
      "                                                                                        {'LSTAT <= 17.200000000000003': [12.2,\n",
      "                                                                                                                         {'DIS <= 1.4257499999999999': [5.0,\n",
      "                                                                                                                                                        {'LSTAT <= 35.5': [{'DIS <= 1.4327999999999999': [7.2,\n",
      "                                                                                                                                                                                                          {'CRIM <= 11.6951': [9.7,\n",
      "                                                                                                                                                                                                                               8.557894736842105]}]},\n",
      "                                                                                                                                                                           7.0]}]}]}]}]}]},\n",
      "                             {'B <= 361.925': [21.9,\n",
      "                                               {'PTRATIO <= 18.3': [{'B <= 395.53999999999996': [{'AGE <= 16.35': [42.3,\n",
      "                                                                                                                   {'RM <= 7.4795': [43.75,\n",
      "                                                                                                                                     {'PTRATIO <= 17.9': [{'LSTAT <= 7.35': [{'LSTAT <= 6.585': [47.77894736842106,\n",
      "                                                                                                                                                                                                 43.1]},\n",
      "                                                                                                                                                                             50.0]},\n",
      "                                                                                                                                                          43.8]}]}]},\n",
      "                                                                                                 39.25]},\n",
      "                                                                    35.2]}]}]}\n"
     ]
    }
   ],
   "source": [
    "import numpy as np\n",
    "import import_ipynb\n",
    "# import DecisionTree\n",
    "import pandas as pd\n",
    "import random\n",
    "from __future__ import division, print_function\n",
    "import DecisionTree\n",
    "import math"
   ]
  },
  {
   "cell_type": "code",
   "execution_count": 2,
   "metadata": {},
   "outputs": [
    {
     "data": {
      "text/html": [
       "<div>\n",
       "<style scoped>\n",
       "    .dataframe tbody tr th:only-of-type {\n",
       "        vertical-align: middle;\n",
       "    }\n",
       "\n",
       "    .dataframe tbody tr th {\n",
       "        vertical-align: top;\n",
       "    }\n",
       "\n",
       "    .dataframe thead th {\n",
       "        text-align: right;\n",
       "    }\n",
       "</style>\n",
       "<table border=\"1\" class=\"dataframe\">\n",
       "  <thead>\n",
       "    <tr style=\"text-align: right;\">\n",
       "      <th></th>\n",
       "      <th>CRIM</th>\n",
       "      <th>ZN</th>\n",
       "      <th>INDUS</th>\n",
       "      <th>CHAS</th>\n",
       "      <th>NOX</th>\n",
       "      <th>RM</th>\n",
       "      <th>AGE</th>\n",
       "      <th>DIS</th>\n",
       "      <th>RAD</th>\n",
       "      <th>TAX</th>\n",
       "      <th>PTRATIO</th>\n",
       "      <th>B</th>\n",
       "      <th>LSTAT</th>\n",
       "      <th>label</th>\n",
       "    </tr>\n",
       "  </thead>\n",
       "  <tbody>\n",
       "    <tr>\n",
       "      <th>0</th>\n",
       "      <td>0.00632</td>\n",
       "      <td>18.0</td>\n",
       "      <td>2.31</td>\n",
       "      <td>0</td>\n",
       "      <td>0.538</td>\n",
       "      <td>6.575</td>\n",
       "      <td>65.2</td>\n",
       "      <td>4.0900</td>\n",
       "      <td>1</td>\n",
       "      <td>296.0</td>\n",
       "      <td>15.3</td>\n",
       "      <td>396.90</td>\n",
       "      <td>4.98</td>\n",
       "      <td>24.0</td>\n",
       "    </tr>\n",
       "    <tr>\n",
       "      <th>1</th>\n",
       "      <td>0.02731</td>\n",
       "      <td>0.0</td>\n",
       "      <td>7.07</td>\n",
       "      <td>0</td>\n",
       "      <td>0.469</td>\n",
       "      <td>6.421</td>\n",
       "      <td>78.9</td>\n",
       "      <td>4.9671</td>\n",
       "      <td>2</td>\n",
       "      <td>242.0</td>\n",
       "      <td>17.8</td>\n",
       "      <td>396.90</td>\n",
       "      <td>9.14</td>\n",
       "      <td>21.6</td>\n",
       "    </tr>\n",
       "    <tr>\n",
       "      <th>2</th>\n",
       "      <td>0.02729</td>\n",
       "      <td>0.0</td>\n",
       "      <td>7.07</td>\n",
       "      <td>0</td>\n",
       "      <td>0.469</td>\n",
       "      <td>7.185</td>\n",
       "      <td>61.1</td>\n",
       "      <td>4.9671</td>\n",
       "      <td>2</td>\n",
       "      <td>242.0</td>\n",
       "      <td>17.8</td>\n",
       "      <td>392.83</td>\n",
       "      <td>4.03</td>\n",
       "      <td>34.7</td>\n",
       "    </tr>\n",
       "    <tr>\n",
       "      <th>3</th>\n",
       "      <td>0.03237</td>\n",
       "      <td>0.0</td>\n",
       "      <td>2.18</td>\n",
       "      <td>0</td>\n",
       "      <td>0.458</td>\n",
       "      <td>6.998</td>\n",
       "      <td>45.8</td>\n",
       "      <td>6.0622</td>\n",
       "      <td>3</td>\n",
       "      <td>222.0</td>\n",
       "      <td>18.7</td>\n",
       "      <td>394.63</td>\n",
       "      <td>2.94</td>\n",
       "      <td>33.4</td>\n",
       "    </tr>\n",
       "    <tr>\n",
       "      <th>4</th>\n",
       "      <td>0.06905</td>\n",
       "      <td>0.0</td>\n",
       "      <td>2.18</td>\n",
       "      <td>0</td>\n",
       "      <td>0.458</td>\n",
       "      <td>7.147</td>\n",
       "      <td>54.2</td>\n",
       "      <td>6.0622</td>\n",
       "      <td>3</td>\n",
       "      <td>222.0</td>\n",
       "      <td>18.7</td>\n",
       "      <td>396.90</td>\n",
       "      <td>5.33</td>\n",
       "      <td>36.2</td>\n",
       "    </tr>\n",
       "  </tbody>\n",
       "</table>\n",
       "</div>"
      ],
      "text/plain": [
       "      CRIM    ZN  INDUS  CHAS    NOX     RM   AGE     DIS  RAD    TAX  \\\n",
       "0  0.00632  18.0   2.31     0  0.538  6.575  65.2  4.0900    1  296.0   \n",
       "1  0.02731   0.0   7.07     0  0.469  6.421  78.9  4.9671    2  242.0   \n",
       "2  0.02729   0.0   7.07     0  0.469  7.185  61.1  4.9671    2  242.0   \n",
       "3  0.03237   0.0   2.18     0  0.458  6.998  45.8  6.0622    3  222.0   \n",
       "4  0.06905   0.0   2.18     0  0.458  7.147  54.2  6.0622    3  222.0   \n",
       "\n",
       "   PTRATIO       B  LSTAT  label  \n",
       "0     15.3  396.90   4.98   24.0  \n",
       "1     17.8  396.90   9.14   21.6  \n",
       "2     17.8  392.83   4.03   34.7  \n",
       "3     18.7  394.63   2.94   33.4  \n",
       "4     18.7  396.90   5.33   36.2  "
      ]
     },
     "execution_count": 2,
     "metadata": {},
     "output_type": "execute_result"
    }
   ],
   "source": [
    "word_labels = [\"CRIM\", \"ZN\", \"INDUS\", \"CHAS\", \"NOX\", \"RM\", \"AGE\", \"DIS\", \"RAD\", \"TAX\", \"PTRATIO\", \"B\", \"LSTAT\", \"label\"]\n",
    "df_train = pd.read_csv(\"../HousingData/housing_train.txt\", delim_whitespace=True, names = word_labels, header=None) \n",
    "df_test = pd.read_csv(\"../HousingData/housing_test.txt\", delim_whitespace=True, names = word_labels, header=None) \n",
    "df_train.head()"
   ]
  },
  {
   "cell_type": "code",
   "execution_count": 3,
   "metadata": {},
   "outputs": [],
   "source": [
    "# def train_test_split(df, test_size):\n",
    "    \n",
    "#     if isinstance(test_size, float):\n",
    "#         test_size = round(test_size * len(df))\n",
    "\n",
    "#     index_list = df.index.tolist()\n",
    "#     test_indexes = random.sample(population=index_list, k=test_size)\n",
    "\n",
    "#     test_df = df.loc[test_indexes]\n",
    "#     train_df = df.drop(test_indexes)\n",
    "    \n",
    "#     return train_df, test_df"
   ]
  },
  {
   "cell_type": "code",
   "execution_count": 4,
   "metadata": {},
   "outputs": [],
   "source": [
    "# random.seed(3)\n",
    "# train_df, test_df = train_test_split(df, 0.20)"
   ]
  },
  {
   "cell_type": "code",
   "execution_count": 5,
   "metadata": {},
   "outputs": [],
   "source": [
    "X_train = df_train.iloc[: , :-1]\n",
    "y_train = df_train.iloc[: , -1]\n",
    "\n",
    "X_test = df_test.iloc[: , :-1]\n",
    "y_test = df_test.iloc[: , -1]\n",
    "\n",
    "# x = X_train\n",
    "# y = y_train"
   ]
  },
  {
   "cell_type": "code",
   "execution_count": 6,
   "metadata": {},
   "outputs": [],
   "source": [
    "class DecisionTree():\n",
    "    def __init__(self, x, y, idxs = None, min_leaf=2):\n",
    "        if idxs is None: idxs=np.arange(len(y))\n",
    "        self.x,self.y,self.idxs,self.min_leaf = x,y,idxs,min_leaf\n",
    "        self.n,self.c = len(idxs), x.shape[1]\n",
    "        self.val = np.mean(y[idxs])\n",
    "        self.score = float('inf')\n",
    "        self.find_varsplit()\n",
    "        \n",
    "    def find_varsplit(self):\n",
    "        for i in range(self.c): self.find_better_split(i)\n",
    "        if self.score == float('inf'): return\n",
    "        x = self.split_col\n",
    "        lhs = np.nonzero(x<=self.split)[0]\n",
    "        rhs = np.nonzero(x>self.split)[0]\n",
    "        self.lhs = DecisionTree(self.x, self.y, self.idxs[lhs])\n",
    "        self.rhs = DecisionTree(self.x, self.y, self.idxs[rhs])\n",
    "\n",
    "    def find_better_split(self, var_idx):\n",
    "        x,y = self.x.values[self.idxs,var_idx], self.y[self.idxs]\n",
    "        sort_idx = np.argsort(x)\n",
    "        sort_y,sort_x = y[sort_idx], x[sort_idx]\n",
    "        rhs_cnt,rhs_sum,rhs_sum2 = self.n, sort_y.sum(), (sort_y**2).sum()\n",
    "        lhs_cnt,lhs_sum,lhs_sum2 = 0,0.,0.\n",
    "\n",
    "        for i in range(0,self.n-self.min_leaf-1):\n",
    "            xi,yi = sort_x[i],sort_y[i]\n",
    "            lhs_cnt += 1; rhs_cnt -= 1\n",
    "            lhs_sum += yi; rhs_sum -= yi\n",
    "            lhs_sum2 += yi**2; rhs_sum2 -= yi**2\n",
    "            if i<self.min_leaf or xi==sort_x[i+1]:\n",
    "                continue\n",
    "\n",
    "            lhs_std = std_agg(lhs_cnt, lhs_sum, lhs_sum2)\n",
    "            rhs_std = std_agg(rhs_cnt, rhs_sum, rhs_sum2)\n",
    "            curr_score = lhs_std*lhs_cnt + rhs_std*rhs_cnt\n",
    "            if curr_score<self.score: \n",
    "                self.var_idx,self.score,self.split = var_idx,curr_score,xi\n",
    "\n",
    "    @property\n",
    "    def split_name(self): return self.x.columns[self.var_idx]\n",
    "    \n",
    "    @property\n",
    "    def split_col(self): return self.x.values[self.idxs,self.var_idx]\n",
    "\n",
    "    @property\n",
    "    def is_leaf(self): return self.score == float('inf')\n",
    "    \n",
    "    def __repr__(self):\n",
    "        s = f'n: {self.n}; val:{self.val}'\n",
    "        if not self.is_leaf:\n",
    "            s += f'; score:{self.score}; split:{self.split}; var:{self.split_name}'\n",
    "        return s\n",
    "\n",
    "    def predict(self, x):\n",
    "        return np.array([self.predict_row(xi) for xi in x])\n",
    "\n",
    "    def predict_row(self, xi):\n",
    "        if self.is_leaf: return self.val\n",
    "        t = self.lhs if xi[self.var_idx]<=self.split else self.rhs\n",
    "        return t.predict_row(xi)"
   ]
  },
  {
   "cell_type": "code",
   "execution_count": 7,
   "metadata": {},
   "outputs": [],
   "source": [
    "x = np.arange(0,50)\n",
    "x = pd.DataFrame({'x':x})"
   ]
  },
  {
   "cell_type": "code",
   "execution_count": 8,
   "metadata": {},
   "outputs": [
    {
     "data": {
      "text/plain": [
       "array([[1.15275420e+01],\n",
       "       [1.22338396e+01],\n",
       "       [1.01724972e+01],\n",
       "       [1.14340424e+01],\n",
       "       [1.07941227e+01],\n",
       "       [1.21577395e+01],\n",
       "       [1.41545950e+01],\n",
       "       [1.46618604e+01],\n",
       "       [1.06909455e+01],\n",
       "       [1.41977921e+01],\n",
       "       [2.13657803e+01],\n",
       "       [2.13770323e+01],\n",
       "       [2.36537924e+01],\n",
       "       [2.29749762e+01],\n",
       "       [2.19608594e+01],\n",
       "       [2.01447194e+01],\n",
       "       [2.19338378e+01],\n",
       "       [2.41274588e+01],\n",
       "       [2.02358898e+01],\n",
       "       [2.39291739e+01],\n",
       "       [2.33160194e+00],\n",
       "       [4.09611903e-01],\n",
       "       [6.56922882e-03],\n",
       "       [3.30813567e+00],\n",
       "       [1.94070729e+00],\n",
       "       [5.85511349e-01],\n",
       "       [6.49785291e-01],\n",
       "       [1.03779464e+00],\n",
       "       [1.43573934e+00],\n",
       "       [2.66588322e+00],\n",
       "       [3.01209563e+01],\n",
       "       [3.07590509e+01],\n",
       "       [3.17429623e+01],\n",
       "       [3.19019267e+01],\n",
       "       [3.17276233e+01],\n",
       "       [3.12116446e+01],\n",
       "       [3.08943954e+01],\n",
       "       [3.03460898e+01],\n",
       "       [3.16285325e+01],\n",
       "       [3.09791621e+01],\n",
       "       [1.62576314e+01],\n",
       "       [1.62840236e+01],\n",
       "       [1.52367987e+01],\n",
       "       [1.52069101e+01],\n",
       "       [1.67193686e+01],\n",
       "       [1.38509373e+01],\n",
       "       [1.57421347e+01],\n",
       "       [1.37158372e+01],\n",
       "       [1.42211160e+01],\n",
       "       [1.35242852e+01]])"
      ]
     },
     "execution_count": 8,
     "metadata": {},
     "output_type": "execute_result"
    }
   ],
   "source": [
    "# just random uniform distributions in differnt range\n",
    "\n",
    "y1 = np.random.uniform(10,15,10)\n",
    "y2 = np.random.uniform(20,25,10)\n",
    "y3 = np.random.uniform(0,5,10)\n",
    "y4 = np.random.uniform(30,32,10)\n",
    "y5 = np.random.uniform(13,17,10)\n",
    "\n",
    "y = np.concatenate((y1,y2,y3,y4,y5))\n",
    "y = y[:,None]\n",
    "y"
   ]
  },
  {
   "cell_type": "code",
   "execution_count": 9,
   "metadata": {},
   "outputs": [],
   "source": [
    "# y = y[:, None]\n",
    "# y"
   ]
  },
  {
   "cell_type": "code",
   "execution_count": 10,
   "metadata": {},
   "outputs": [
    {
     "data": {
      "text/plain": [
       "((50, 1), (50, 1))"
      ]
     },
     "execution_count": 10,
     "metadata": {},
     "output_type": "execute_result"
    }
   ],
   "source": [
    "x.shape, y.shape"
   ]
  },
  {
   "cell_type": "code",
   "execution_count": 11,
   "metadata": {},
   "outputs": [],
   "source": [
    "def std_agg(cnt, s1, s2): \n",
    "    return math.sqrt((s2/cnt) - (s1/cnt)**2)"
   ]
  },
  {
   "cell_type": "code",
   "execution_count": 17,
   "metadata": {},
   "outputs": [
    {
     "name": "stdout",
     "output_type": "stream",
     "text": [
      "n: 50; val:16.403424466026582; score:418.6439098489; split:29; var:x\n"
     ]
    },
    {
     "ename": "NameError",
     "evalue": "name 'epred' is not defined",
     "output_type": "error",
     "traceback": [
      "\u001b[0;31m---------------------------------------------------------------------------\u001b[0m",
      "\u001b[0;31mNameError\u001b[0m                                 Traceback (most recent call last)",
      "\u001b[0;32m<ipython-input-17-1d58a9055742>\u001b[0m in \u001b[0;36m<module>\u001b[0;34m()\u001b[0m\n\u001b[1;32m     33\u001b[0m     \u001b[0mys\u001b[0m \u001b[0;34m=\u001b[0m \u001b[0mnp\u001b[0m\u001b[0;34m.\u001b[0m\u001b[0marray\u001b[0m\u001b[0;34m(\u001b[0m\u001b[0mpredf\u001b[0m\u001b[0;34m)\u001b[0m\u001b[0;34m[\u001b[0m\u001b[0morder\u001b[0m\u001b[0;34m]\u001b[0m\u001b[0;34m\u001b[0m\u001b[0m\n\u001b[1;32m     34\u001b[0m \u001b[0;34m\u001b[0m\u001b[0m\n\u001b[0;32m---> 35\u001b[0;31m     \u001b[0mepreds\u001b[0m \u001b[0;34m=\u001b[0m \u001b[0mnp\u001b[0m\u001b[0;34m.\u001b[0m\u001b[0marray\u001b[0m\u001b[0;34m(\u001b[0m\u001b[0mepred\u001b[0m\u001b[0;34m[\u001b[0m\u001b[0;34m:\u001b[0m\u001b[0;34m,\u001b[0m\u001b[0;32mNone\u001b[0m\u001b[0;34m]\u001b[0m\u001b[0;34m)\u001b[0m\u001b[0;34m[\u001b[0m\u001b[0morder\u001b[0m\u001b[0;34m]\u001b[0m\u001b[0;34m\u001b[0m\u001b[0m\n\u001b[0m\u001b[1;32m     36\u001b[0m \u001b[0;34m\u001b[0m\u001b[0m\n\u001b[1;32m     37\u001b[0m \u001b[0;31m#     f, (ax1, ax2) = plt.subplots(1, 2, sharey=True, figsize = (13,2.5))\u001b[0m\u001b[0;34m\u001b[0m\u001b[0;34m\u001b[0m\u001b[0m\n",
      "\u001b[0;31mNameError\u001b[0m: name 'epred' is not defined"
     ]
    }
   ],
   "source": [
    "xi = x # initialization of input\n",
    "yi = y # initialization of target\n",
    "# x,y --> use where no need to change original y\n",
    "ei = 0 # initialization of error\n",
    "n = len(yi)  # number of rows\n",
    "predf = 0 # initial prediction 0\n",
    "\n",
    "for i in range(30): # like n_estimators\n",
    "    tree = DecisionTree(xi,yi)\n",
    "    print(tree)\n",
    "    tree.find_better_split(0)\n",
    "    \n",
    "    r = np.where(xi == tree.split)[0][0]    \n",
    "    \n",
    "    left_idx = np.where(xi <= tree.split)[0]\n",
    "    right_idx = np.where(xi > tree.split)[0]\n",
    "    \n",
    "    predi = np.zeros(n)\n",
    "    np.put(predi, left_idx, np.repeat(np.mean(yi[left_idx]), r))  # replace left side mean y\n",
    "    np.put(predi, right_idx, np.repeat(np.mean(yi[right_idx]), n-r))  # right side mean y\n",
    "    \n",
    "    predi = predi[:,None]  # make long vector (nx1) in compatible with y\n",
    "    predf = predf + predi  # final prediction will be previous prediction value + new prediction of residual\n",
    "    \n",
    "    ei = y - predf  # needed originl y here as residual always from original y    \n",
    "    yi = ei # update yi as residual to reloop\n",
    "    \n",
    "    \n",
    "    # plotting after prediction\n",
    "    xa = np.array(x.x) # column name of x is x \n",
    "    order = np.argsort(xa)\n",
    "    xs = np.array(xa)[order]\n",
    "    ys = np.array(predf)[order]\n",
    "    \n",
    "#     epreds = np.array(epred[:,None])[order]\n",
    "\n",
    "#     f, (ax1, ax2) = plt.subplots(1, 2, sharey=True, figsize = (13,2.5))\n",
    "\n",
    "#     ax1.plot(x,y, 'o')\n",
    "#     ax1.plot(xs, ys, 'r')\n",
    "#     ax1.set_title(f'Prediction (Iteration {i+1})')\n",
    "#     ax1.set_xlabel('x')\n",
    "#     ax1.set_ylabel('y / y_pred')\n",
    "\n",
    "#     ax2.plot(x, ei, 'go')\n",
    "#     ax2.set_title(f'Residuals vs. x (Iteration {i+1})')\n",
    "#     ax2.set_xlabel('x')\n",
    "#     ax2.set_ylabel('Residuals')"
   ]
  },
  {
   "cell_type": "code",
   "execution_count": 13,
   "metadata": {},
   "outputs": [
    {
     "data": {
      "text/plain": [
       "array([ 0,  1,  2,  3,  4,  5,  6,  7,  8,  9, 10, 11, 12, 13, 14, 15, 16,\n",
       "       17, 18, 19, 20, 21, 22, 23, 24, 25, 26, 27, 28, 29, 30, 31, 32, 33,\n",
       "       34, 35, 36, 37, 38, 39, 40, 41, 42, 43, 44, 45, 46, 47, 48, 49])"
      ]
     },
     "execution_count": 13,
     "metadata": {},
     "output_type": "execute_result"
    }
   ],
   "source": [
    "xs"
   ]
  },
  {
   "cell_type": "code",
   "execution_count": 18,
   "metadata": {},
   "outputs": [
    {
     "ename": "NameError",
     "evalue": "name 'epreds' is not defined",
     "output_type": "error",
     "traceback": [
      "\u001b[0;31m---------------------------------------------------------------------------\u001b[0m",
      "\u001b[0;31mNameError\u001b[0m                                 Traceback (most recent call last)",
      "\u001b[0;32m<ipython-input-18-55e1f47cadc0>\u001b[0m in \u001b[0;36m<module>\u001b[0;34m()\u001b[0m\n\u001b[0;32m----> 1\u001b[0;31m \u001b[0mepreds\u001b[0m\u001b[0;34m\u001b[0m\u001b[0m\n\u001b[0m",
      "\u001b[0;31mNameError\u001b[0m: name 'epreds' is not defined"
     ]
    }
   ],
   "source": [
    "epreds"
   ]
  },
  {
   "cell_type": "code",
   "execution_count": null,
   "metadata": {},
   "outputs": [],
   "source": []
  }
 ],
 "metadata": {
  "kernelspec": {
   "display_name": "Python 3",
   "language": "python",
   "name": "python3"
  },
  "language_info": {
   "codemirror_mode": {
    "name": "ipython",
    "version": 3
   },
   "file_extension": ".py",
   "mimetype": "text/x-python",
   "name": "python",
   "nbconvert_exporter": "python",
   "pygments_lexer": "ipython3",
   "version": "3.6.6"
  }
 },
 "nbformat": 4,
 "nbformat_minor": 2
}
