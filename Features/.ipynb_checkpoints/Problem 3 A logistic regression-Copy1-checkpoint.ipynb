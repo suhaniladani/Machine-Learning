{
 "cells": [
  {
   "cell_type": "code",
   "execution_count": 1,
   "metadata": {},
   "outputs": [],
   "source": [
    "import numpy as np\n",
    "import pandas as pd\n",
    "from numpy.linalg import pinv\n",
    "import matplotlib.pyplot as plt\n",
    "import seaborn as sns\n",
    "%matplotlib inline\n",
    "import scipy.optimize as sp\n",
    "import random\n",
    "from pprint import pprint"
   ]
  },
  {
   "cell_type": "code",
   "execution_count": 2,
   "metadata": {},
   "outputs": [],
   "source": [
    "X_train = pd.read_csv(\"spam_polluted/train_feature.txt\", delim_whitespace=True, header=None) \n",
    "X_test = pd.read_csv(\"spam_polluted/test_feature.txt\", delim_whitespace=True, header=None)\n",
    "y_train = pd.read_csv(\"spam_polluted/train_label.txt\", delim_whitespace=True, header=None)\n",
    "y_test = pd.read_csv(\"spam_polluted/test_label.txt\", delim_whitespace=True, header=None)\n"
   ]
  },
  {
   "cell_type": "code",
   "execution_count": 3,
   "metadata": {},
   "outputs": [
    {
     "data": {
      "text/plain": [
       "(461, 1057)"
      ]
     },
     "execution_count": 3,
     "metadata": {},
     "output_type": "execute_result"
    }
   ],
   "source": [
    "X_test.shape"
   ]
  },
  {
   "cell_type": "code",
   "execution_count": 4,
   "metadata": {},
   "outputs": [],
   "source": [
    "y_train.columns = ['label']\n",
    "y_test.columns = ['label']"
   ]
  },
  {
   "cell_type": "code",
   "execution_count": 5,
   "metadata": {},
   "outputs": [],
   "source": [
    "m, n = X_train.shape\n",
    "p, q = X_test.shape\n",
    "total = m+p\n"
   ]
  },
  {
   "cell_type": "code",
   "execution_count": 6,
   "metadata": {},
   "outputs": [],
   "source": [
    "# train_df = X_train.join(y_train)\n",
    "# test_df = X_test.join(y_test)"
   ]
  },
  {
   "cell_type": "code",
   "execution_count": 7,
   "metadata": {},
   "outputs": [],
   "source": [
    "df = X_train.append(X_test)"
   ]
  },
  {
   "cell_type": "code",
   "execution_count": 8,
   "metadata": {},
   "outputs": [],
   "source": [
    "df = (df - df.mean()) / (df.max() - df.min())\n"
   ]
  },
  {
   "cell_type": "code",
   "execution_count": 9,
   "metadata": {},
   "outputs": [],
   "source": [
    "X_train = df.iloc[0:m, :]\n",
    "X_test = df.iloc[m:total, :]"
   ]
  },
  {
   "cell_type": "code",
   "execution_count": 10,
   "metadata": {},
   "outputs": [],
   "source": [
    "train_df = X_train.join(y_train)\n",
    "test_df = X_test.join(y_test)"
   ]
  },
  {
   "cell_type": "code",
   "execution_count": 11,
   "metadata": {},
   "outputs": [],
   "source": [
    "def sigmoid(theta, X): \n",
    "\n",
    "    return 1.0/(1 + np.exp(-np.dot(X, theta.T))) \n"
   ]
  },
  {
   "cell_type": "code",
   "execution_count": 12,
   "metadata": {},
   "outputs": [],
   "source": [
    "def gradient(theta, X, y): \n",
    "\n",
    "    hypothesis_cost = sigmoid(theta, X) - y.reshape(X.shape[0], -1) \n",
    "    gradient = np.dot(hypothesis_cost.T, X) \n",
    "    return gradient \n",
    "  "
   ]
  },
  {
   "cell_type": "code",
   "execution_count": 13,
   "metadata": {},
   "outputs": [],
   "source": [
    "def cost_function(theta, X, y): \n",
    "\n",
    "    hypothesis = sigmoid(theta, X) \n",
    "    y = np.squeeze(y) \n",
    "    term1 = y * np.log(hypothesis) \n",
    "    term2 = (1 - y) * np.log(1 - hypothesis) \n",
    "    calculate_cost = -term1 - term2 \n",
    "    return np.mean(calculate_cost) \n",
    "  "
   ]
  },
  {
   "cell_type": "code",
   "execution_count": 14,
   "metadata": {},
   "outputs": [],
   "source": [
    "def gradient_descent(X, y, theta, alpha=.001, max_cost=.001): \n",
    "\n",
    "    cost = cost_function(theta, X, y) \n",
    "    change_cost = np.inf\n",
    "      \n",
    "    while(change_cost > max_cost): \n",
    "        old_cost = cost \n",
    "        theta = theta - (alpha * gradient(theta, X, y)) \n",
    "        cost = c(theta, X, y) \n",
    "        change_cost = old_cost - cost \n",
    "      \n",
    "    return theta\n",
    "  "
   ]
  },
  {
   "cell_type": "code",
   "execution_count": 15,
   "metadata": {},
   "outputs": [],
   "source": [
    "def predict_values(theta, X): \n",
    "\n",
    "    pred_prob = sigmoid(theta, X) \n",
    "    pred_value = np.where(pred_prob >= .5, 1, 0) \n",
    "    return np.squeeze(pred_value) "
   ]
  },
  {
   "cell_type": "code",
   "execution_count": 16,
   "metadata": {},
   "outputs": [
    {
     "name": "stdout",
     "output_type": "stream",
     "text": [
      "Accuracy: 0.9611111111111111\n"
     ]
    },
    {
     "name": "stderr",
     "output_type": "stream",
     "text": [
      "/Users/suhaniladani/anaconda3/lib/python3.6/site-packages/ipykernel_launcher.py:6: RuntimeWarning: divide by zero encountered in log\n",
      "  \n"
     ]
    }
   ],
   "source": [
    "X = train_df.iloc[:, :-1]\n",
    "X = np.array(X)\n",
    "\n",
    "\n",
    "X = np.hstack((np.matrix(np.ones(X.shape[0])).T, X)) \n",
    "\n",
    " \n",
    "y = train_df.iloc[:, -1] \n",
    "y = np.array(y)\n",
    "\n",
    "theta = np.matrix(np.zeros(X.shape[1])) \n",
    "\n",
    "\n",
    "theta = gradient_descent(X, y, theta) \n",
    "\n",
    "\n",
    "y_pred = predict_values(theta, X) \n",
    "\n",
    "print(\"Accuracy:\", np.mean(y == y_pred)) \n"
   ]
  },
  {
   "cell_type": "code",
   "execution_count": 17,
   "metadata": {},
   "outputs": [],
   "source": [
    "X_test = test_df.iloc[:, :-1]\n",
    "X_test = np.array(X_test)\n",
    "\n",
    "\n",
    "X_test = np.hstack((np.matrix(np.ones(X_test.shape[0])).T, X_test)) \n",
    "\n",
    "\n",
    "y_test = test_df.iloc[:, -1] \n",
    "y_test = np.array(y_test)"
   ]
  },
  {
   "cell_type": "code",
   "execution_count": 18,
   "metadata": {},
   "outputs": [],
   "source": [
    "y_pred_test = predict_values(theta, X_test) "
   ]
  },
  {
   "cell_type": "code",
   "execution_count": 19,
   "metadata": {},
   "outputs": [
    {
     "name": "stdout",
     "output_type": "stream",
     "text": [
      "Accuracy: 0.911062906724512\n"
     ]
    }
   ],
   "source": [
    "print(\"Accuracy:\", np.mean(y_test == y_pred_test)) "
   ]
  },
  {
   "cell_type": "code",
   "execution_count": 20,
   "metadata": {},
   "outputs": [
    {
     "data": {
      "image/png": "[encoded data removed]",
      "text/plain": [
       "<Figure size 432x432 with 1 Axes>"
      ]
     },
     "metadata": {},
     "output_type": "display_data"
    }
   ],
   "source": [
    "thresholds = np.linspace(2,-2,105)\n",
    "\n",
    "ROC = np.zeros((105,2))\n",
    "\n",
    "for i in range(105):\n",
    "    t = thresholds[i]\n",
    "\n",
    "    TP_t = np.logical_and( y_pred_test > t, y_test==1 ).sum()\n",
    "    TN_t = np.logical_and( y_pred_test <=t, y_test==0 ).sum()\n",
    "    FP_t = np.logical_and( y_pred_test > t, y_test==0 ).sum()\n",
    "    FN_t = np.logical_and( y_pred_test <=t, y_test==1 ).sum()\n",
    "\n",
    "    FPR_t = FP_t / float(FP_t + TN_t)\n",
    "    ROC[i,0] = FPR_t\n",
    "\n",
    "    TPR_t = TP_t / float(TP_t + FN_t)\n",
    "    ROC[i,1] = TPR_t\n",
    "\n",
    "# Plot the ROC curve.\n",
    "fig = plt.figure(figsize=(6,6))\n",
    "plt.plot(ROC[:,0], ROC[:,1], lw=2)\n",
    "plt.xlabel('$FPR(t)$')\n",
    "plt.ylabel('$TPR(t)$')\n",
    "plt.grid()"
   ]
  },
  {
   "cell_type": "code",
   "execution_count": 21,
   "metadata": {},
   "outputs": [
    {
     "data": {
      "text/plain": [
       "0.9045551222970579"
      ]
     },
     "execution_count": 21,
     "metadata": {},
     "output_type": "execute_result"
    }
   ],
   "source": [
    "AUC = 0.\n",
    "for i in range(100):\n",
    "    AUC += (ROC[i+1,0]-ROC[i,0]) * (ROC[i+1,1]+ROC[i,1])\n",
    "AUC *= 0.5\n",
    "AUC"
   ]
  },
  {
   "cell_type": "code",
   "execution_count": null,
   "metadata": {},
   "outputs": [],
   "source": []
  }
 ],
 "metadata": {
  "kernelspec": {
   "display_name": "Python 3",
   "language": "python",
   "name": "python3"
  },
  "language_info": {
   "codemirror_mode": {
    "name": "ipython",
    "version": 3
   },
   "file_extension": ".py",
   "mimetype": "text/x-python",
   "name": "python",
   "nbconvert_exporter": "python",
   "pygments_lexer": "ipython3",
   "version": "3.6.6"
  }
 },
 "nbformat": 4,
 "nbformat_minor": 2
}
