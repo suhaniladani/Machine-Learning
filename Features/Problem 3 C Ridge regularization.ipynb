{
 "cells": [
  {
   "cell_type": "code",
   "execution_count": 1,
   "metadata": {},
   "outputs": [],
   "source": [
    "import numpy as np\n",
    "import pandas as pd\n",
    "from numpy.linalg import pinv\n",
    "import matplotlib.pyplot as plt\n",
    "import seaborn as sns\n",
    "%matplotlib inline\n",
    "\n",
    "import random\n",
    "from pprint import pprint"
   ]
  },
  {
   "cell_type": "code",
   "execution_count": 2,
   "metadata": {},
   "outputs": [],
   "source": [
    "X_train = pd.read_csv(\"spam_polluted/train_feature.txt\", delim_whitespace=True, header=None) \n",
    "X_test = pd.read_csv(\"spam_polluted/test_feature.txt\", delim_whitespace=True, header=None)\n",
    "y_train = pd.read_csv(\"spam_polluted/train_label.txt\", delim_whitespace=True, header=None)\n",
    "y_test = pd.read_csv(\"spam_polluted/test_label.txt\", delim_whitespace=True, header=None)\n"
   ]
  },
  {
   "cell_type": "code",
   "execution_count": 3,
   "metadata": {},
   "outputs": [],
   "source": [
    "y_train.columns = ['label']\n",
    "y_test.columns = ['label']"
   ]
  },
  {
   "cell_type": "code",
   "execution_count": 4,
   "metadata": {},
   "outputs": [],
   "source": [
    "m, n = X_train.shape\n",
    "p, q = X_test.shape\n",
    "total = m+p"
   ]
  },
  {
   "cell_type": "code",
   "execution_count": 5,
   "metadata": {},
   "outputs": [],
   "source": [
    "df = X_train.append(X_test)\n",
    "df = (df - df.mean()) / (df.max() - df.min())"
   ]
  },
  {
   "cell_type": "code",
   "execution_count": 6,
   "metadata": {},
   "outputs": [],
   "source": [
    "X_train = df.iloc[0:m, :]\n",
    "X_test = df.iloc[m:total, :]"
   ]
  },
  {
   "cell_type": "code",
   "execution_count": 7,
   "metadata": {},
   "outputs": [],
   "source": [
    "train_df = X_train.join(y_train)\n",
    "test_df = X_test.join(y_test)"
   ]
  },
  {
   "cell_type": "code",
   "execution_count": 8,
   "metadata": {},
   "outputs": [],
   "source": [
    "col_nums = train_df.shape[1]\n",
    "\n",
    "train_X = train_df.iloc[:,0:col_nums-1]  \n",
    "train_y = train_df.iloc[:,col_nums-1:col_nums] "
   ]
  },
  {
   "cell_type": "code",
   "execution_count": 9,
   "metadata": {},
   "outputs": [],
   "source": [
    "X = np.array(train_X)\n",
    "ones = np.ones(len(X))\n",
    "X = np.column_stack((ones,X))\n",
    "y = np.array(train_y)   "
   ]
  },
  {
   "cell_type": "code",
   "execution_count": 10,
   "metadata": {},
   "outputs": [],
   "source": [
    "def ridge_regression(X, y, lam):\n",
    "    \n",
    "\n",
    "    Xt = np.transpose(X)\n",
    "    lambda_identity = lam*np.identity(len(Xt))\n",
    "    inverse_term = np.linalg.inv(np.dot(Xt, X)+lambda_identity)\n",
    "    w = np.dot(np.dot(inverse_term, Xt), y)\n",
    "    return w"
   ]
  },
  {
   "cell_type": "code",
   "execution_count": 11,
   "metadata": {},
   "outputs": [],
   "source": [
    "# test_df.insert(0, 'Ones', 1)\n",
    "# col_nums = test_df.shape[1]\n",
    "# X = test_df.iloc[:,0:col_nums-1]  \n",
    "# y = test_df.iloc[:,col_nums-1:col_nums] \n",
    "# y_pred = coefficient.T.dot(X.T)\n",
    "\n",
    "# y_pred"
   ]
  },
  {
   "cell_type": "code",
   "execution_count": 12,
   "metadata": {},
   "outputs": [],
   "source": [
    "# y_pred = y_pred.T \n",
    "# mse = np.mean((y - y_pred)**2)\n",
    "# mse"
   ]
  },
  {
   "cell_type": "code",
   "execution_count": 13,
   "metadata": {},
   "outputs": [],
   "source": [
    "w = ridge_regression(X, y, 0.001)"
   ]
  },
  {
   "cell_type": "code",
   "execution_count": 14,
   "metadata": {},
   "outputs": [
    {
     "data": {
      "text/plain": [
       "array([[ 0.39669247],\n",
       "       [-0.25337873],\n",
       "       [-0.17618901],\n",
       "       ...,\n",
       "       [ 0.18037301],\n",
       "       [-0.03181818],\n",
       "       [ 0.18829914]])"
      ]
     },
     "execution_count": 14,
     "metadata": {},
     "output_type": "execute_result"
    }
   ],
   "source": [
    "w"
   ]
  },
  {
   "cell_type": "code",
   "execution_count": 15,
   "metadata": {},
   "outputs": [
    {
     "data": {
      "text/plain": [
       "0.08050002136802738"
      ]
     },
     "execution_count": 15,
     "metadata": {},
     "output_type": "execute_result"
    }
   ],
   "source": [
    "y_pred_train = w.T.dot(X.T)\n",
    "y_pred_train = y_pred_train.T \n",
    "mse_train = np.mean((y - y_pred_train)**2)\n",
    "mse_train\n"
   ]
  },
  {
   "cell_type": "code",
   "execution_count": 16,
   "metadata": {},
   "outputs": [],
   "source": [
    "threshold = 0.4\n",
    "y_pred_train[y_pred_train < threshold] = 0\n",
    "y_pred_train[y_pred_train > threshold] = 1\n"
   ]
  },
  {
   "cell_type": "code",
   "execution_count": 17,
   "metadata": {},
   "outputs": [
    {
     "name": "stdout",
     "output_type": "stream",
     "text": [
      "Accuracy: 0.9260869565217391\n"
     ]
    }
   ],
   "source": [
    "print(\"Accuracy:\", np.mean(y == y_pred_train)) "
   ]
  },
  {
   "cell_type": "code",
   "execution_count": 18,
   "metadata": {
    "scrolled": false
   },
   "outputs": [],
   "source": [
    "\n",
    "col_nums = test_df.shape[1]\n",
    "X_test = test_df.iloc[:,0:col_nums-1]  \n",
    "y_test = test_df.iloc[:,col_nums-1:col_nums] \n",
    "\n",
    "X_test = np.array(X_test)\n",
    "ones = np.ones(len(X_test))\n",
    "X_test = np.column_stack((ones,X_test))\n",
    "y_test = np.array(y_test)\n",
    "\n",
    "y_pred = w.T.dot(X_test.T)\n"
   ]
  },
  {
   "cell_type": "code",
   "execution_count": 19,
   "metadata": {},
   "outputs": [
    {
     "data": {
      "text/plain": [
       "0.13468122398508897"
      ]
     },
     "execution_count": 19,
     "metadata": {},
     "output_type": "execute_result"
    }
   ],
   "source": [
    "y_pred = y_pred.T \n",
    "mse = np.mean((y_test - y_pred)**2)\n",
    "mse"
   ]
  },
  {
   "cell_type": "code",
   "execution_count": 22,
   "metadata": {},
   "outputs": [
    {
     "data": {
      "text/plain": [
       "(461, 1)"
      ]
     },
     "execution_count": 22,
     "metadata": {},
     "output_type": "execute_result"
    }
   ],
   "source": [
    "threshold = 0.4\n",
    "y_pred[y_pred < threshold] = 0\n",
    "y_pred[y_pred > threshold] = 1\n",
    "y_pred.shape"
   ]
  },
  {
   "cell_type": "code",
   "execution_count": 23,
   "metadata": {},
   "outputs": [
    {
     "name": "stdout",
     "output_type": "stream",
     "text": [
      "Accuracy: 0.8698481561822126\n"
     ]
    }
   ],
   "source": [
    "print(\"Accuracy:\", np.mean(y_test == y_pred)) "
   ]
  },
  {
   "cell_type": "code",
   "execution_count": 24,
   "metadata": {},
   "outputs": [],
   "source": [
    "TP = np.sum(np.logical_and(y_pred == 1, y_test == 1))\n",
    " \n",
    "TN = np.sum(np.logical_and(y_pred == 0, y_test == 0))\n",
    " \n",
    "FP = np.sum(np.logical_and(y_pred == 1, y_test == 0))\n",
    " \n",
    "FN = np.sum(np.logical_and(y_pred == 0, y_test == 1))"
   ]
  },
  {
   "cell_type": "code",
   "execution_count": 25,
   "metadata": {},
   "outputs": [
    {
     "name": "stdout",
     "output_type": "stream",
     "text": [
      "TP= 165 TN= 236 FP= 43 FN= 17\n"
     ]
    }
   ],
   "source": [
    "print(\"TP=\", TP, \"TN=\",TN, \"FP=\",FP, \"FN=\",FN)"
   ]
  },
  {
   "cell_type": "code",
   "execution_count": null,
   "metadata": {},
   "outputs": [],
   "source": []
  }
 ],
 "metadata": {
  "kernelspec": {
   "display_name": "Python 3",
   "language": "python",
   "name": "python3"
  },
  "language_info": {
   "codemirror_mode": {
    "name": "ipython",
    "version": 3
   },
   "file_extension": ".py",
   "mimetype": "text/x-python",
   "name": "python",
   "nbconvert_exporter": "python",
   "pygments_lexer": "ipython3",
   "version": "3.6.6"
  }
 },
 "nbformat": 4,
 "nbformat_minor": 2
}
