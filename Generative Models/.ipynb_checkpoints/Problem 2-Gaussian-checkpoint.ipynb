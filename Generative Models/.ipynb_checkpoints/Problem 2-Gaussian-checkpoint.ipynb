{
 "cells": [
  {
   "cell_type": "code",
   "execution_count": 1,
   "metadata": {},
   "outputs": [],
   "source": [
    "import numpy as np\n",
    "import pandas as pd\n",
    "import math\n",
    "import matplotlib.pyplot as plt\n",
    "import seaborn as sns\n",
    "%matplotlib inline\n",
    "import random"
   ]
  },
  {
   "cell_type": "code",
   "execution_count": 2,
   "metadata": {},
   "outputs": [],
   "source": [
    "word_labels = [\"make\", \"address\", \"all\", \"3d\", \"our\", \"over\", \"remove\", \"internet\",\n",
    "                \"order\", \"mail\", \"receive\", \"will\", \"people\", \"report\", \"addresses\",\n",
    "                \"free\", \"business\", \"email\", \"you\", \"credit\", \"your\", \"font\", \"000\",\n",
    "                \"money\", \"hp\", \"hpl\", \"george\", \"650\", \"lab\", \"labs\", \"telnet\", \"857\",\n",
    "                \"data\", \"415\", \"85\", \"technology\", \"1999\", \"parts\", \"pm\", \"direct\", \"cs\",\n",
    "                \"meeting\", \"original\", \"project\", \"re\", \"edu\", \"table\", \"conference\", \"char_freq1\", \"char_freq2\", \"char_freq3\", \n",
    "              \"char_freq4\", \"char_freq5\", \"char_freq6\", \"cap_run_length_avg\", \"cap_run_length_longest\", \"cap_run_length_total\", \"label\"]\n",
    "df = pd.read_csv(\"../spambase/spambase.data\", names = word_labels, header=None) \n"
   ]
  },
  {
   "cell_type": "code",
   "execution_count": 3,
   "metadata": {},
   "outputs": [
    {
     "data": {
      "text/html": [
       "<div>\n",
       "<style scoped>\n",
       "    .dataframe tbody tr th:only-of-type {\n",
       "        vertical-align: middle;\n",
       "    }\n",
       "\n",
       "    .dataframe tbody tr th {\n",
       "        vertical-align: top;\n",
       "    }\n",
       "\n",
       "    .dataframe thead th {\n",
       "        text-align: right;\n",
       "    }\n",
       "</style>\n",
       "<table border=\"1\" class=\"dataframe\">\n",
       "  <thead>\n",
       "    <tr style=\"text-align: right;\">\n",
       "      <th></th>\n",
       "      <th>make</th>\n",
       "      <th>address</th>\n",
       "      <th>all</th>\n",
       "      <th>3d</th>\n",
       "      <th>our</th>\n",
       "      <th>over</th>\n",
       "      <th>remove</th>\n",
       "      <th>internet</th>\n",
       "      <th>order</th>\n",
       "      <th>mail</th>\n",
       "      <th>...</th>\n",
       "      <th>char_freq1</th>\n",
       "      <th>char_freq2</th>\n",
       "      <th>char_freq3</th>\n",
       "      <th>char_freq4</th>\n",
       "      <th>char_freq5</th>\n",
       "      <th>char_freq6</th>\n",
       "      <th>cap_run_length_avg</th>\n",
       "      <th>cap_run_length_longest</th>\n",
       "      <th>cap_run_length_total</th>\n",
       "      <th>label</th>\n",
       "    </tr>\n",
       "  </thead>\n",
       "  <tbody>\n",
       "    <tr>\n",
       "      <th>0</th>\n",
       "      <td>0.00</td>\n",
       "      <td>0.64</td>\n",
       "      <td>0.64</td>\n",
       "      <td>0.0</td>\n",
       "      <td>0.32</td>\n",
       "      <td>0.00</td>\n",
       "      <td>0.00</td>\n",
       "      <td>0.00</td>\n",
       "      <td>0.00</td>\n",
       "      <td>0.00</td>\n",
       "      <td>...</td>\n",
       "      <td>0.00</td>\n",
       "      <td>0.000</td>\n",
       "      <td>0.0</td>\n",
       "      <td>0.778</td>\n",
       "      <td>0.000</td>\n",
       "      <td>0.000</td>\n",
       "      <td>3.756</td>\n",
       "      <td>61</td>\n",
       "      <td>278</td>\n",
       "      <td>1</td>\n",
       "    </tr>\n",
       "    <tr>\n",
       "      <th>1</th>\n",
       "      <td>0.21</td>\n",
       "      <td>0.28</td>\n",
       "      <td>0.50</td>\n",
       "      <td>0.0</td>\n",
       "      <td>0.14</td>\n",
       "      <td>0.28</td>\n",
       "      <td>0.21</td>\n",
       "      <td>0.07</td>\n",
       "      <td>0.00</td>\n",
       "      <td>0.94</td>\n",
       "      <td>...</td>\n",
       "      <td>0.00</td>\n",
       "      <td>0.132</td>\n",
       "      <td>0.0</td>\n",
       "      <td>0.372</td>\n",
       "      <td>0.180</td>\n",
       "      <td>0.048</td>\n",
       "      <td>5.114</td>\n",
       "      <td>101</td>\n",
       "      <td>1028</td>\n",
       "      <td>1</td>\n",
       "    </tr>\n",
       "    <tr>\n",
       "      <th>2</th>\n",
       "      <td>0.06</td>\n",
       "      <td>0.00</td>\n",
       "      <td>0.71</td>\n",
       "      <td>0.0</td>\n",
       "      <td>1.23</td>\n",
       "      <td>0.19</td>\n",
       "      <td>0.19</td>\n",
       "      <td>0.12</td>\n",
       "      <td>0.64</td>\n",
       "      <td>0.25</td>\n",
       "      <td>...</td>\n",
       "      <td>0.01</td>\n",
       "      <td>0.143</td>\n",
       "      <td>0.0</td>\n",
       "      <td>0.276</td>\n",
       "      <td>0.184</td>\n",
       "      <td>0.010</td>\n",
       "      <td>9.821</td>\n",
       "      <td>485</td>\n",
       "      <td>2259</td>\n",
       "      <td>1</td>\n",
       "    </tr>\n",
       "    <tr>\n",
       "      <th>3</th>\n",
       "      <td>0.00</td>\n",
       "      <td>0.00</td>\n",
       "      <td>0.00</td>\n",
       "      <td>0.0</td>\n",
       "      <td>0.63</td>\n",
       "      <td>0.00</td>\n",
       "      <td>0.31</td>\n",
       "      <td>0.63</td>\n",
       "      <td>0.31</td>\n",
       "      <td>0.63</td>\n",
       "      <td>...</td>\n",
       "      <td>0.00</td>\n",
       "      <td>0.137</td>\n",
       "      <td>0.0</td>\n",
       "      <td>0.137</td>\n",
       "      <td>0.000</td>\n",
       "      <td>0.000</td>\n",
       "      <td>3.537</td>\n",
       "      <td>40</td>\n",
       "      <td>191</td>\n",
       "      <td>1</td>\n",
       "    </tr>\n",
       "    <tr>\n",
       "      <th>4</th>\n",
       "      <td>0.00</td>\n",
       "      <td>0.00</td>\n",
       "      <td>0.00</td>\n",
       "      <td>0.0</td>\n",
       "      <td>0.63</td>\n",
       "      <td>0.00</td>\n",
       "      <td>0.31</td>\n",
       "      <td>0.63</td>\n",
       "      <td>0.31</td>\n",
       "      <td>0.63</td>\n",
       "      <td>...</td>\n",
       "      <td>0.00</td>\n",
       "      <td>0.135</td>\n",
       "      <td>0.0</td>\n",
       "      <td>0.135</td>\n",
       "      <td>0.000</td>\n",
       "      <td>0.000</td>\n",
       "      <td>3.537</td>\n",
       "      <td>40</td>\n",
       "      <td>191</td>\n",
       "      <td>1</td>\n",
       "    </tr>\n",
       "  </tbody>\n",
       "</table>\n",
       "<p>5 rows × 58 columns</p>\n",
       "</div>"
      ],
      "text/plain": [
       "   make  address   all   3d   our  over  remove  internet  order  mail  ...    \\\n",
       "0  0.00     0.64  0.64  0.0  0.32  0.00    0.00      0.00   0.00  0.00  ...     \n",
       "1  0.21     0.28  0.50  0.0  0.14  0.28    0.21      0.07   0.00  0.94  ...     \n",
       "2  0.06     0.00  0.71  0.0  1.23  0.19    0.19      0.12   0.64  0.25  ...     \n",
       "3  0.00     0.00  0.00  0.0  0.63  0.00    0.31      0.63   0.31  0.63  ...     \n",
       "4  0.00     0.00  0.00  0.0  0.63  0.00    0.31      0.63   0.31  0.63  ...     \n",
       "\n",
       "   char_freq1  char_freq2  char_freq3  char_freq4  char_freq5  char_freq6  \\\n",
       "0        0.00       0.000         0.0       0.778       0.000       0.000   \n",
       "1        0.00       0.132         0.0       0.372       0.180       0.048   \n",
       "2        0.01       0.143         0.0       0.276       0.184       0.010   \n",
       "3        0.00       0.137         0.0       0.137       0.000       0.000   \n",
       "4        0.00       0.135         0.0       0.135       0.000       0.000   \n",
       "\n",
       "   cap_run_length_avg  cap_run_length_longest  cap_run_length_total  label  \n",
       "0               3.756                      61                   278      1  \n",
       "1               5.114                     101                  1028      1  \n",
       "2               9.821                     485                  2259      1  \n",
       "3               3.537                      40                   191      1  \n",
       "4               3.537                      40                   191      1  \n",
       "\n",
       "[5 rows x 58 columns]"
      ]
     },
     "execution_count": 3,
     "metadata": {},
     "output_type": "execute_result"
    }
   ],
   "source": [
    "df.head()"
   ]
  },
  {
   "cell_type": "code",
   "execution_count": 4,
   "metadata": {},
   "outputs": [],
   "source": [
    "def train_test_split(df, test_size):\n",
    "    \n",
    "    if isinstance(test_size, float):\n",
    "        test_size = round(test_size * len(df))\n",
    "\n",
    "    index_list = df.index.tolist()\n",
    "    test_indexes = random.sample(population=index_list, k=test_size)\n",
    "\n",
    "    test_df = df.loc[test_indexes]\n",
    "    train_df = df.drop(test_indexes)\n",
    "    \n",
    "    return train_df, test_df"
   ]
  },
  {
   "cell_type": "code",
   "execution_count": 5,
   "metadata": {},
   "outputs": [],
   "source": [
    "random.seed(3)\n",
    "train_df, test_df = train_test_split(df, 0.20)"
   ]
  },
  {
   "cell_type": "code",
   "execution_count": 7,
   "metadata": {},
   "outputs": [],
   "source": [
    "from random import randrange\n",
    "def make_kfolds(df, kfolds):\n",
    "    data_folds = list()\n",
    "    for i in range(kfolds):\n",
    "        data_folds.append(pd.DataFrame())\n",
    "    counter = 0\n",
    "    for i in range(len(df)):\n",
    "        if counter >= kfolds:\n",
    "            counter = 0\n",
    "        data_folds[counter] = data_folds[counter].append(df[i:i+1])\n",
    "        counter += 1\n",
    "    return data_folds"
   ]
  },
  {
   "cell_type": "code",
   "execution_count": 8,
   "metadata": {},
   "outputs": [
    {
     "data": {
      "text/html": [
       "<div>\n",
       "<style scoped>\n",
       "    .dataframe tbody tr th:only-of-type {\n",
       "        vertical-align: middle;\n",
       "    }\n",
       "\n",
       "    .dataframe tbody tr th {\n",
       "        vertical-align: top;\n",
       "    }\n",
       "\n",
       "    .dataframe thead th {\n",
       "        text-align: right;\n",
       "    }\n",
       "</style>\n",
       "<table border=\"1\" class=\"dataframe\">\n",
       "  <thead>\n",
       "    <tr style=\"text-align: right;\">\n",
       "      <th></th>\n",
       "      <th>make</th>\n",
       "      <th>address</th>\n",
       "      <th>all</th>\n",
       "      <th>3d</th>\n",
       "      <th>our</th>\n",
       "      <th>over</th>\n",
       "      <th>remove</th>\n",
       "      <th>internet</th>\n",
       "      <th>order</th>\n",
       "      <th>mail</th>\n",
       "      <th>...</th>\n",
       "      <th>char_freq1</th>\n",
       "      <th>char_freq2</th>\n",
       "      <th>char_freq3</th>\n",
       "      <th>char_freq4</th>\n",
       "      <th>char_freq5</th>\n",
       "      <th>char_freq6</th>\n",
       "      <th>cap_run_length_avg</th>\n",
       "      <th>cap_run_length_longest</th>\n",
       "      <th>cap_run_length_total</th>\n",
       "      <th>label</th>\n",
       "    </tr>\n",
       "  </thead>\n",
       "  <tbody>\n",
       "    <tr>\n",
       "      <th>1</th>\n",
       "      <td>0.21</td>\n",
       "      <td>0.28</td>\n",
       "      <td>0.50</td>\n",
       "      <td>0.0</td>\n",
       "      <td>0.14</td>\n",
       "      <td>0.28</td>\n",
       "      <td>0.21</td>\n",
       "      <td>0.07</td>\n",
       "      <td>0.00</td>\n",
       "      <td>0.94</td>\n",
       "      <td>...</td>\n",
       "      <td>0.000</td>\n",
       "      <td>0.132</td>\n",
       "      <td>0.000</td>\n",
       "      <td>0.372</td>\n",
       "      <td>0.180</td>\n",
       "      <td>0.048</td>\n",
       "      <td>5.114</td>\n",
       "      <td>101</td>\n",
       "      <td>1028</td>\n",
       "      <td>1</td>\n",
       "    </tr>\n",
       "    <tr>\n",
       "      <th>11</th>\n",
       "      <td>0.00</td>\n",
       "      <td>0.00</td>\n",
       "      <td>0.25</td>\n",
       "      <td>0.0</td>\n",
       "      <td>0.38</td>\n",
       "      <td>0.25</td>\n",
       "      <td>0.25</td>\n",
       "      <td>0.00</td>\n",
       "      <td>0.00</td>\n",
       "      <td>0.00</td>\n",
       "      <td>...</td>\n",
       "      <td>0.022</td>\n",
       "      <td>0.044</td>\n",
       "      <td>0.000</td>\n",
       "      <td>0.663</td>\n",
       "      <td>0.000</td>\n",
       "      <td>0.000</td>\n",
       "      <td>1.243</td>\n",
       "      <td>11</td>\n",
       "      <td>184</td>\n",
       "      <td>1</td>\n",
       "    </tr>\n",
       "    <tr>\n",
       "      <th>21</th>\n",
       "      <td>0.05</td>\n",
       "      <td>0.07</td>\n",
       "      <td>0.10</td>\n",
       "      <td>0.0</td>\n",
       "      <td>0.76</td>\n",
       "      <td>0.05</td>\n",
       "      <td>0.15</td>\n",
       "      <td>0.02</td>\n",
       "      <td>0.55</td>\n",
       "      <td>0.00</td>\n",
       "      <td>...</td>\n",
       "      <td>0.042</td>\n",
       "      <td>0.101</td>\n",
       "      <td>0.016</td>\n",
       "      <td>0.250</td>\n",
       "      <td>0.046</td>\n",
       "      <td>0.059</td>\n",
       "      <td>2.569</td>\n",
       "      <td>66</td>\n",
       "      <td>2259</td>\n",
       "      <td>1</td>\n",
       "    </tr>\n",
       "    <tr>\n",
       "      <th>31</th>\n",
       "      <td>0.00</td>\n",
       "      <td>0.00</td>\n",
       "      <td>3.03</td>\n",
       "      <td>0.0</td>\n",
       "      <td>0.00</td>\n",
       "      <td>0.00</td>\n",
       "      <td>0.00</td>\n",
       "      <td>0.00</td>\n",
       "      <td>0.00</td>\n",
       "      <td>0.00</td>\n",
       "      <td>...</td>\n",
       "      <td>0.000</td>\n",
       "      <td>0.352</td>\n",
       "      <td>0.000</td>\n",
       "      <td>2.112</td>\n",
       "      <td>0.000</td>\n",
       "      <td>0.000</td>\n",
       "      <td>3.909</td>\n",
       "      <td>11</td>\n",
       "      <td>43</td>\n",
       "      <td>1</td>\n",
       "    </tr>\n",
       "    <tr>\n",
       "      <th>41</th>\n",
       "      <td>0.00</td>\n",
       "      <td>0.00</td>\n",
       "      <td>0.00</td>\n",
       "      <td>0.0</td>\n",
       "      <td>2.94</td>\n",
       "      <td>0.00</td>\n",
       "      <td>0.00</td>\n",
       "      <td>0.00</td>\n",
       "      <td>0.00</td>\n",
       "      <td>0.00</td>\n",
       "      <td>...</td>\n",
       "      <td>0.335</td>\n",
       "      <td>0.335</td>\n",
       "      <td>0.000</td>\n",
       "      <td>0.671</td>\n",
       "      <td>0.000</td>\n",
       "      <td>0.000</td>\n",
       "      <td>4.000</td>\n",
       "      <td>12</td>\n",
       "      <td>28</td>\n",
       "      <td>1</td>\n",
       "    </tr>\n",
       "  </tbody>\n",
       "</table>\n",
       "<p>5 rows × 58 columns</p>\n",
       "</div>"
      ],
      "text/plain": [
       "    make  address   all   3d   our  over  remove  internet  order  mail  \\\n",
       "1   0.21     0.28  0.50  0.0  0.14  0.28    0.21      0.07   0.00  0.94   \n",
       "11  0.00     0.00  0.25  0.0  0.38  0.25    0.25      0.00   0.00  0.00   \n",
       "21  0.05     0.07  0.10  0.0  0.76  0.05    0.15      0.02   0.55  0.00   \n",
       "31  0.00     0.00  3.03  0.0  0.00  0.00    0.00      0.00   0.00  0.00   \n",
       "41  0.00     0.00  0.00  0.0  2.94  0.00    0.00      0.00   0.00  0.00   \n",
       "\n",
       "    ...    char_freq1  char_freq2  char_freq3  char_freq4  char_freq5  \\\n",
       "1   ...         0.000       0.132       0.000       0.372       0.180   \n",
       "11  ...         0.022       0.044       0.000       0.663       0.000   \n",
       "21  ...         0.042       0.101       0.016       0.250       0.046   \n",
       "31  ...         0.000       0.352       0.000       2.112       0.000   \n",
       "41  ...         0.335       0.335       0.000       0.671       0.000   \n",
       "\n",
       "    char_freq6  cap_run_length_avg  cap_run_length_longest  \\\n",
       "1        0.048               5.114                     101   \n",
       "11       0.000               1.243                      11   \n",
       "21       0.059               2.569                      66   \n",
       "31       0.000               3.909                      11   \n",
       "41       0.000               4.000                      12   \n",
       "\n",
       "    cap_run_length_total  label  \n",
       "1                   1028      1  \n",
       "11                   184      1  \n",
       "21                  2259      1  \n",
       "31                    43      1  \n",
       "41                    28      1  \n",
       "\n",
       "[5 rows x 58 columns]"
      ]
     },
     "execution_count": 8,
     "metadata": {},
     "output_type": "execute_result"
    }
   ],
   "source": [
    "data_folds = make_kfolds(df, 10)\n",
    "data_folds[1].head()"
   ]
  },
  {
   "cell_type": "code",
   "execution_count": 9,
   "metadata": {},
   "outputs": [],
   "source": [
    "X_train = train_df.iloc[: , :-1]\n",
    "y_train = train_df.iloc[: , -1]\n",
    "\n",
    "X_test = test_df.iloc[: , :-1]\n",
    "y_test = test_df.iloc[: , -1]"
   ]
  },
  {
   "cell_type": "code",
   "execution_count": 10,
   "metadata": {},
   "outputs": [
    {
     "name": "stdout",
     "output_type": "stream",
     "text": [
      "Spam: 1813\n",
      "Non-spam  2788\n",
      "Total:  4601\n"
     ]
    }
   ],
   "source": [
    "num_spam = df['label'][df['label'] == 1].count()\n",
    "num_non_spame = df['label'][df['label'] == 0].count()\n",
    "total = len(df)\n",
    "\n",
    "print('Spam:',num_spam)\n",
    "print('Non-spam ',num_non_spame)\n",
    "print('Total: ',total)"
   ]
  },
  {
   "cell_type": "code",
   "execution_count": 11,
   "metadata": {},
   "outputs": [
    {
     "name": "stdout",
     "output_type": "stream",
     "text": [
      "Probability spam:  0.39404477287546186\n",
      "Probability non-spam:  0.6059552271245382\n"
     ]
    }
   ],
   "source": [
    "prob_spam = num_spam/total\n",
    "print('Probability spam: ',prob_spam)\n",
    "\n",
    "prob_non_spam = num_non_spame/total\n",
    "print('Probability non-spam: ',prob_non_spam)"
   ]
  },
  {
   "cell_type": "code",
   "execution_count": 12,
   "metadata": {},
   "outputs": [],
   "source": [
    "\n",
    "data_mean = df.groupby('label').mean()\n",
    "\n",
    "data_variance = df.groupby('label').var()*(1/6)\n"
   ]
  },
  {
   "cell_type": "code",
   "execution_count": 13,
   "metadata": {},
   "outputs": [],
   "source": [
    "def prob_x_y(x, mean_y, variance_y):\n",
    "    prob = 1/(np.sqrt(2*np.pi*variance_y)) * np.exp((-(x-mean_y)**2)/(2*variance_y))\n",
    "    return prob"
   ]
  },
  {
   "cell_type": "code",
   "execution_count": 14,
   "metadata": {},
   "outputs": [],
   "source": [
    "y_pred = []"
   ]
  },
  {
   "cell_type": "code",
   "execution_count": 15,
   "metadata": {},
   "outputs": [],
   "source": [
    "for row in range(0,len(X_train)):\n",
    "        prod_0 = prob_non_spam\n",
    "        prod_1 = prob_spam\n",
    "        for col in X_train.columns:   \n",
    "            prod_0 *= prob_x_y(X_train[col].iloc[row], data_mean[col][0], data_variance[col][0])\n",
    "            prod_1 *= prob_x_y(X_train[col].iloc[row], data_mean[col][1], data_variance[col][1])\n",
    "    \n",
    "\n",
    "        if prod_0 > prod_1:\n",
    "            y_pred.append(0)\n",
    "        else:\n",
    "            y_pred.append(1)\n"
   ]
  },
  {
   "cell_type": "code",
   "execution_count": 16,
   "metadata": {},
   "outputs": [
    {
     "data": {
      "text/plain": [
       "array([1, 1, 1, ..., 0, 0, 0])"
      ]
     },
     "execution_count": 16,
     "metadata": {},
     "output_type": "execute_result"
    }
   ],
   "source": [
    "\n",
    "np.array(y_train)"
   ]
  },
  {
   "cell_type": "code",
   "execution_count": 17,
   "metadata": {},
   "outputs": [
    {
     "data": {
      "text/plain": [
       "0.8375441456126053"
      ]
     },
     "execution_count": 17,
     "metadata": {},
     "output_type": "execute_result"
    }
   ],
   "source": [
    "np.mean(np.array(y_pred) == np.array(y_train))"
   ]
  },
  {
   "cell_type": "code",
   "execution_count": 18,
   "metadata": {},
   "outputs": [
    {
     "data": {
      "image/png": "[encoded data removed]",
      "text/plain": [
       "<Figure size 432x432 with 1 Axes>"
      ]
     },
     "metadata": {},
     "output_type": "display_data"
    }
   ],
   "source": [
    "thresholds = np.linspace(2,-2,105)\n",
    "\n",
    "ROC = np.zeros((105,2))\n",
    "\n",
    "for i in range(105):\n",
    "    t = thresholds[i]\n",
    "    \n",
    "    TP_t = np.logical_and( y_pred > t, y_train==1 ).sum()\n",
    "    TN_t = np.logical_and( y_pred <=t, y_train==0 ).sum()\n",
    "    FP_t = np.logical_and( y_pred > t, y_train==0 ).sum()\n",
    "    FN_t = np.logical_and( y_pred <=t, y_train==1 ).sum()\n",
    "\n",
    "    FPR_t = FP_t / float(FP_t + TN_t)\n",
    "    ROC[i,0] = FPR_t\n",
    "\n",
    "    TPR_t = TP_t / float(TP_t + FN_t)\n",
    "    ROC[i,1] = TPR_t\n",
    "\n",
    "fig = plt.figure(figsize=(6,6))\n",
    "plt.plot(ROC[:,0], ROC[:,1], lw=2)\n",
    "plt.xlabel('$FPR(t)$')\n",
    "plt.ylabel('$TPR(t)$')\n",
    "plt.grid()"
   ]
  },
  {
   "cell_type": "code",
   "execution_count": 19,
   "metadata": {},
   "outputs": [
    {
     "data": {
      "text/plain": [
       "0.8505780799220937"
      ]
     },
     "execution_count": 19,
     "metadata": {},
     "output_type": "execute_result"
    }
   ],
   "source": [
    "AUC = 0.\n",
    "for i in range(100):\n",
    "    AUC += (ROC[i+1,0]-ROC[i,0]) * (ROC[i+1,1]+ROC[i,1])\n",
    "AUC *= 0.5\n",
    "AUC"
   ]
  },
  {
   "cell_type": "code",
   "execution_count": null,
   "metadata": {},
   "outputs": [],
   "source": []
  }
 ],
 "metadata": {
  "kernelspec": {
   "display_name": "Python 3",
   "language": "python",
   "name": "python3"
  },
  "language_info": {
   "codemirror_mode": {
    "name": "ipython",
    "version": 3
   },
   "file_extension": ".py",
   "mimetype": "text/x-python",
   "name": "python",
   "nbconvert_exporter": "python",
   "pygments_lexer": "ipython3",
   "version": "3.6.6"
  }
 },
 "nbformat": 4,
 "nbformat_minor": 2
}
