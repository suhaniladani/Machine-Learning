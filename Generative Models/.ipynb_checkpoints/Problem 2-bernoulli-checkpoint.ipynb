{
 "cells": [
  {
   "cell_type": "code",
   "execution_count": 1,
   "metadata": {},
   "outputs": [],
   "source": [
    "import numpy as np\n",
    "import pandas as pd\n",
    "\n",
    "import math\n",
    "\n",
    "from scipy.stats import norm\n",
    "from scipy.stats import laplace\n",
    "\n",
    "import matplotlib.pyplot as plt\n",
    "import seaborn as sns\n",
    "%matplotlib inline\n",
    "\n",
    "import random\n",
    "from pprint import pprint"
   ]
  },
  {
   "cell_type": "code",
   "execution_count": 2,
   "metadata": {},
   "outputs": [],
   "source": [
    "word_labels = [\"make\", \"address\", \"all\", \"3d\", \"our\", \"over\", \"remove\", \"internet\",\n",
    "                \"order\", \"mail\", \"receive\", \"will\", \"people\", \"report\", \"addresses\",\n",
    "                \"free\", \"business\", \"email\", \"you\", \"credit\", \"your\", \"font\", \"000\",\n",
    "                \"money\", \"hp\", \"hpl\", \"george\", \"650\", \"lab\", \"labs\", \"telnet\", \"857\",\n",
    "                \"data\", \"415\", \"85\", \"technology\", \"1999\", \"parts\", \"pm\", \"direct\", \"cs\",\n",
    "                \"meeting\", \"original\", \"project\", \"re\", \"edu\", \"table\", \"conference\", \"char_freq1\", \"char_freq2\", \"char_freq3\", \n",
    "              \"char_freq4\", \"char_freq5\", \"char_freq6\", \"cap_run_length_avg\", \"cap_run_length_longest\", \"cap_run_length_total\", \"label\"]\n",
    "df = pd.read_csv(\"../spambase/spambase.data\", names = word_labels, header=None) \n",
    "# df_norm = df.iloc[:, :-1]\n",
    "# df_norm = (df_norm - df_norm.mean()) / df_norm.std()\n",
    "# df = df_norm.join(df.iloc[:, -1])"
   ]
  },
  {
   "cell_type": "code",
   "execution_count": 3,
   "metadata": {},
   "outputs": [
    {
     "data": {
      "text/html": [
       "<div>\n",
       "<style scoped>\n",
       "    .dataframe tbody tr th:only-of-type {\n",
       "        vertical-align: middle;\n",
       "    }\n",
       "\n",
       "    .dataframe tbody tr th {\n",
       "        vertical-align: top;\n",
       "    }\n",
       "\n",
       "    .dataframe thead th {\n",
       "        text-align: right;\n",
       "    }\n",
       "</style>\n",
       "<table border=\"1\" class=\"dataframe\">\n",
       "  <thead>\n",
       "    <tr style=\"text-align: right;\">\n",
       "      <th></th>\n",
       "      <th>make</th>\n",
       "      <th>address</th>\n",
       "      <th>all</th>\n",
       "      <th>3d</th>\n",
       "      <th>our</th>\n",
       "      <th>over</th>\n",
       "      <th>remove</th>\n",
       "      <th>internet</th>\n",
       "      <th>order</th>\n",
       "      <th>mail</th>\n",
       "      <th>...</th>\n",
       "      <th>char_freq1</th>\n",
       "      <th>char_freq2</th>\n",
       "      <th>char_freq3</th>\n",
       "      <th>char_freq4</th>\n",
       "      <th>char_freq5</th>\n",
       "      <th>char_freq6</th>\n",
       "      <th>cap_run_length_avg</th>\n",
       "      <th>cap_run_length_longest</th>\n",
       "      <th>cap_run_length_total</th>\n",
       "      <th>label</th>\n",
       "    </tr>\n",
       "  </thead>\n",
       "  <tbody>\n",
       "  </tbody>\n",
       "</table>\n",
       "<p>0 rows × 58 columns</p>\n",
       "</div>"
      ],
      "text/plain": [
       "Empty DataFrame\n",
       "Columns: [make, address, all, 3d, our, over, remove, internet, order, mail, receive, will, people, report, addresses, free, business, email, you, credit, your, font, 000, money, hp, hpl, george, 650, lab, labs, telnet, 857, data, 415, 85, technology, 1999, parts, pm, direct, cs, meeting, original, project, re, edu, table, conference, char_freq1, char_freq2, char_freq3, char_freq4, char_freq5, char_freq6, cap_run_length_avg, cap_run_length_longest, cap_run_length_total, label]\n",
       "Index: []\n",
       "\n",
       "[0 rows x 58 columns]"
      ]
     },
     "execution_count": 3,
     "metadata": {},
     "output_type": "execute_result"
    }
   ],
   "source": [
    "df[3:3]\n"
   ]
  },
  {
   "cell_type": "code",
   "execution_count": 4,
   "metadata": {},
   "outputs": [],
   "source": [
    "def train_test_split(df, test_size):\n",
    "    \n",
    "    if isinstance(test_size, float):\n",
    "        test_size = round(test_size * len(df))\n",
    "\n",
    "    index_list = df.index.tolist()\n",
    "    test_indexes = random.sample(population=index_list, k=test_size)\n",
    "\n",
    "    test_df = df.loc[test_indexes]\n",
    "    train_df = df.drop(test_indexes)\n",
    "    \n",
    "    return train_df, test_df"
   ]
  },
  {
   "cell_type": "code",
   "execution_count": 5,
   "metadata": {},
   "outputs": [
    {
     "data": {
      "text/plain": [
       "make                         0.210\n",
       "address                      0.280\n",
       "all                          0.500\n",
       "3d                           0.000\n",
       "our                          0.140\n",
       "over                         0.280\n",
       "remove                       0.210\n",
       "internet                     0.070\n",
       "order                        0.000\n",
       "mail                         0.940\n",
       "receive                      0.210\n",
       "will                         0.790\n",
       "people                       0.650\n",
       "report                       0.210\n",
       "addresses                    0.140\n",
       "free                         0.140\n",
       "business                     0.070\n",
       "email                        0.280\n",
       "you                          3.470\n",
       "credit                       0.000\n",
       "your                         1.590\n",
       "font                         0.000\n",
       "000                          0.430\n",
       "money                        0.430\n",
       "hp                           0.000\n",
       "hpl                          0.000\n",
       "george                       0.000\n",
       "650                          0.000\n",
       "lab                          0.000\n",
       "labs                         0.000\n",
       "telnet                       0.000\n",
       "857                          0.000\n",
       "data                         0.000\n",
       "415                          0.000\n",
       "85                           0.000\n",
       "technology                   0.000\n",
       "1999                         0.070\n",
       "parts                        0.000\n",
       "pm                           0.000\n",
       "direct                       0.000\n",
       "cs                           0.000\n",
       "meeting                      0.000\n",
       "original                     0.000\n",
       "project                      0.000\n",
       "re                           0.000\n",
       "edu                          0.000\n",
       "table                        0.000\n",
       "conference                   0.000\n",
       "char_freq1                   0.000\n",
       "char_freq2                   0.132\n",
       "char_freq3                   0.000\n",
       "char_freq4                   0.372\n",
       "char_freq5                   0.180\n",
       "char_freq6                   0.048\n",
       "cap_run_length_avg           5.114\n",
       "cap_run_length_longest     101.000\n",
       "cap_run_length_total      1028.000\n",
       "label                        1.000\n",
       "Name: 1, dtype: float64"
      ]
     },
     "execution_count": 5,
     "metadata": {},
     "output_type": "execute_result"
    }
   ],
   "source": [
    "df.iloc[1, :]"
   ]
  },
  {
   "cell_type": "code",
   "execution_count": 6,
   "metadata": {},
   "outputs": [],
   "source": [
    "# test_df.head()"
   ]
  },
  {
   "cell_type": "code",
   "execution_count": 7,
   "metadata": {},
   "outputs": [],
   "source": [
    "# from random import randrange\n",
    "# def make_kfolds(df, kfolds):\n",
    "#     data_folds = list()\n",
    "#     df_list = df.values.tolist()\n",
    "#     fold_size = int(len(df) / kfolds)\n",
    "#     for i in range(kfolds):\n",
    "#         fold = list()\n",
    "#         while len(fold) < fold_size:\n",
    "#             x = len(df_list);\n",
    "#             index = randrange(x)\n",
    "#             fold.append(df_list.pop(index))\n",
    "#         data_folds.append(pd.DataFrame(fold))\n",
    "#     return data_folds\n",
    "\n",
    "from random import randrange\n",
    "def make_kfolds(df, kfolds):\n",
    "    data_folds = list()\n",
    "    for i in range(kfolds):\n",
    "        data_folds.append(pd.DataFrame())\n",
    "    cntr = 0\n",
    "    for i in range(len(df)):\n",
    "        if cntr >= kfolds:\n",
    "            cntr = 0\n",
    "        data_folds[cntr] = data_folds[cntr].append(df[i:i+1])\n",
    "        cntr += 1\n",
    "    return data_folds"
   ]
  },
  {
   "cell_type": "code",
   "execution_count": 8,
   "metadata": {},
   "outputs": [],
   "source": [
    "data_folds = make_kfolds(df, 10)"
   ]
  },
  {
   "cell_type": "code",
   "execution_count": 9,
   "metadata": {},
   "outputs": [
    {
     "data": {
      "text/html": [
       "<div>\n",
       "<style scoped>\n",
       "    .dataframe tbody tr th:only-of-type {\n",
       "        vertical-align: middle;\n",
       "    }\n",
       "\n",
       "    .dataframe tbody tr th {\n",
       "        vertical-align: top;\n",
       "    }\n",
       "\n",
       "    .dataframe thead th {\n",
       "        text-align: right;\n",
       "    }\n",
       "</style>\n",
       "<table border=\"1\" class=\"dataframe\">\n",
       "  <thead>\n",
       "    <tr style=\"text-align: right;\">\n",
       "      <th></th>\n",
       "      <th>make</th>\n",
       "      <th>address</th>\n",
       "      <th>all</th>\n",
       "      <th>3d</th>\n",
       "      <th>our</th>\n",
       "      <th>over</th>\n",
       "      <th>remove</th>\n",
       "      <th>internet</th>\n",
       "      <th>order</th>\n",
       "      <th>mail</th>\n",
       "      <th>...</th>\n",
       "      <th>char_freq1</th>\n",
       "      <th>char_freq2</th>\n",
       "      <th>char_freq3</th>\n",
       "      <th>char_freq4</th>\n",
       "      <th>char_freq5</th>\n",
       "      <th>char_freq6</th>\n",
       "      <th>cap_run_length_avg</th>\n",
       "      <th>cap_run_length_longest</th>\n",
       "      <th>cap_run_length_total</th>\n",
       "      <th>label</th>\n",
       "    </tr>\n",
       "  </thead>\n",
       "  <tbody>\n",
       "    <tr>\n",
       "      <th>1</th>\n",
       "      <td>0.21</td>\n",
       "      <td>0.28</td>\n",
       "      <td>0.50</td>\n",
       "      <td>0.0</td>\n",
       "      <td>0.14</td>\n",
       "      <td>0.28</td>\n",
       "      <td>0.21</td>\n",
       "      <td>0.07</td>\n",
       "      <td>0.00</td>\n",
       "      <td>0.94</td>\n",
       "      <td>...</td>\n",
       "      <td>0.000</td>\n",
       "      <td>0.132</td>\n",
       "      <td>0.000</td>\n",
       "      <td>0.372</td>\n",
       "      <td>0.180</td>\n",
       "      <td>0.048</td>\n",
       "      <td>5.114</td>\n",
       "      <td>101</td>\n",
       "      <td>1028</td>\n",
       "      <td>1</td>\n",
       "    </tr>\n",
       "    <tr>\n",
       "      <th>11</th>\n",
       "      <td>0.00</td>\n",
       "      <td>0.00</td>\n",
       "      <td>0.25</td>\n",
       "      <td>0.0</td>\n",
       "      <td>0.38</td>\n",
       "      <td>0.25</td>\n",
       "      <td>0.25</td>\n",
       "      <td>0.00</td>\n",
       "      <td>0.00</td>\n",
       "      <td>0.00</td>\n",
       "      <td>...</td>\n",
       "      <td>0.022</td>\n",
       "      <td>0.044</td>\n",
       "      <td>0.000</td>\n",
       "      <td>0.663</td>\n",
       "      <td>0.000</td>\n",
       "      <td>0.000</td>\n",
       "      <td>1.243</td>\n",
       "      <td>11</td>\n",
       "      <td>184</td>\n",
       "      <td>1</td>\n",
       "    </tr>\n",
       "    <tr>\n",
       "      <th>21</th>\n",
       "      <td>0.05</td>\n",
       "      <td>0.07</td>\n",
       "      <td>0.10</td>\n",
       "      <td>0.0</td>\n",
       "      <td>0.76</td>\n",
       "      <td>0.05</td>\n",
       "      <td>0.15</td>\n",
       "      <td>0.02</td>\n",
       "      <td>0.55</td>\n",
       "      <td>0.00</td>\n",
       "      <td>...</td>\n",
       "      <td>0.042</td>\n",
       "      <td>0.101</td>\n",
       "      <td>0.016</td>\n",
       "      <td>0.250</td>\n",
       "      <td>0.046</td>\n",
       "      <td>0.059</td>\n",
       "      <td>2.569</td>\n",
       "      <td>66</td>\n",
       "      <td>2259</td>\n",
       "      <td>1</td>\n",
       "    </tr>\n",
       "    <tr>\n",
       "      <th>31</th>\n",
       "      <td>0.00</td>\n",
       "      <td>0.00</td>\n",
       "      <td>3.03</td>\n",
       "      <td>0.0</td>\n",
       "      <td>0.00</td>\n",
       "      <td>0.00</td>\n",
       "      <td>0.00</td>\n",
       "      <td>0.00</td>\n",
       "      <td>0.00</td>\n",
       "      <td>0.00</td>\n",
       "      <td>...</td>\n",
       "      <td>0.000</td>\n",
       "      <td>0.352</td>\n",
       "      <td>0.000</td>\n",
       "      <td>2.112</td>\n",
       "      <td>0.000</td>\n",
       "      <td>0.000</td>\n",
       "      <td>3.909</td>\n",
       "      <td>11</td>\n",
       "      <td>43</td>\n",
       "      <td>1</td>\n",
       "    </tr>\n",
       "    <tr>\n",
       "      <th>41</th>\n",
       "      <td>0.00</td>\n",
       "      <td>0.00</td>\n",
       "      <td>0.00</td>\n",
       "      <td>0.0</td>\n",
       "      <td>2.94</td>\n",
       "      <td>0.00</td>\n",
       "      <td>0.00</td>\n",
       "      <td>0.00</td>\n",
       "      <td>0.00</td>\n",
       "      <td>0.00</td>\n",
       "      <td>...</td>\n",
       "      <td>0.335</td>\n",
       "      <td>0.335</td>\n",
       "      <td>0.000</td>\n",
       "      <td>0.671</td>\n",
       "      <td>0.000</td>\n",
       "      <td>0.000</td>\n",
       "      <td>4.000</td>\n",
       "      <td>12</td>\n",
       "      <td>28</td>\n",
       "      <td>1</td>\n",
       "    </tr>\n",
       "  </tbody>\n",
       "</table>\n",
       "<p>5 rows × 58 columns</p>\n",
       "</div>"
      ],
      "text/plain": [
       "    make  address   all   3d   our  over  remove  internet  order  mail  \\\n",
       "1   0.21     0.28  0.50  0.0  0.14  0.28    0.21      0.07   0.00  0.94   \n",
       "11  0.00     0.00  0.25  0.0  0.38  0.25    0.25      0.00   0.00  0.00   \n",
       "21  0.05     0.07  0.10  0.0  0.76  0.05    0.15      0.02   0.55  0.00   \n",
       "31  0.00     0.00  3.03  0.0  0.00  0.00    0.00      0.00   0.00  0.00   \n",
       "41  0.00     0.00  0.00  0.0  2.94  0.00    0.00      0.00   0.00  0.00   \n",
       "\n",
       "    ...    char_freq1  char_freq2  char_freq3  char_freq4  char_freq5  \\\n",
       "1   ...         0.000       0.132       0.000       0.372       0.180   \n",
       "11  ...         0.022       0.044       0.000       0.663       0.000   \n",
       "21  ...         0.042       0.101       0.016       0.250       0.046   \n",
       "31  ...         0.000       0.352       0.000       2.112       0.000   \n",
       "41  ...         0.335       0.335       0.000       0.671       0.000   \n",
       "\n",
       "    char_freq6  cap_run_length_avg  cap_run_length_longest  \\\n",
       "1        0.048               5.114                     101   \n",
       "11       0.000               1.243                      11   \n",
       "21       0.059               2.569                      66   \n",
       "31       0.000               3.909                      11   \n",
       "41       0.000               4.000                      12   \n",
       "\n",
       "    cap_run_length_total  label  \n",
       "1                   1028      1  \n",
       "11                   184      1  \n",
       "21                  2259      1  \n",
       "31                    43      1  \n",
       "41                    28      1  \n",
       "\n",
       "[5 rows x 58 columns]"
      ]
     },
     "execution_count": 9,
     "metadata": {},
     "output_type": "execute_result"
    }
   ],
   "source": [
    "data_folds[1].head()"
   ]
  },
  {
   "cell_type": "code",
   "execution_count": 10,
   "metadata": {},
   "outputs": [],
   "source": [
    "# X =train_df.iloc[:, :-1]\n",
    "# y =train_df.iloc[:, -1]"
   ]
  },
  {
   "cell_type": "code",
   "execution_count": 11,
   "metadata": {},
   "outputs": [],
   "source": [
    "# len(labels)"
   ]
  },
  {
   "cell_type": "code",
   "execution_count": 12,
   "metadata": {},
   "outputs": [],
   "source": [
    "#labels = ['low-mean-value', 'overall-mean-value', 'high-mean-value', 'max-value']\n",
    "labels = ['1', '2']\n",
    "for j in df.columns[:-1]:\n",
    "    mean = df[j].mean()\n",
    "    bins = [-1*np.inf, mean, np.inf]\n",
    "    df[j] = df[j].replace(0,mean) #Replace 0 with mean\n",
    "    df[j] = pd.cut(df[j],bins,labels=labels)"
   ]
  },
  {
   "cell_type": "code",
   "execution_count": 13,
   "metadata": {},
   "outputs": [],
   "source": [
    "def count(data,feature_name,label,target):\n",
    "    cond = (data[feature_name] == label) & (data['label'] == target)\n",
    "    return len(data[cond])"
   ]
  },
  {
   "cell_type": "code",
   "execution_count": 14,
   "metadata": {},
   "outputs": [],
   "source": [
    "prob_dict = {0:{},1:{}}"
   ]
  },
  {
   "cell_type": "code",
   "execution_count": 15,
   "metadata": {},
   "outputs": [],
   "source": [
    "random.seed(0)\n",
    "train, test = train_test_split(df, 0.20)\n",
    "\n",
    "train_X = train\n",
    "test_X = test.iloc[:,:-1]\n",
    "test_y = test.iloc[:,-1]"
   ]
  },
  {
   "cell_type": "code",
   "execution_count": 16,
   "metadata": {},
   "outputs": [],
   "source": [
    "cnt_label_0 = count(train_X,'label',0,0)\n",
    "cnt_label_1 = count(train_X,'label',1,1)\n",
    "    \n",
    "probability0 = cnt_label_0/len(train_X)\n",
    "probability1 = cnt_label_1/len(train_X)"
   ]
  },
  {
   "cell_type": "code",
   "execution_count": 17,
   "metadata": {},
   "outputs": [
    {
     "data": {
      "text/plain": [
       "1440"
      ]
     },
     "execution_count": 17,
     "metadata": {},
     "output_type": "execute_result"
    }
   ],
   "source": [
    "cnt_label_1"
   ]
  },
  {
   "cell_type": "code",
   "execution_count": 18,
   "metadata": {},
   "outputs": [],
   "source": [
    "for col in train_X.columns[:-1]:\n",
    "        prob_dict[0][col] = {}\n",
    "        prob_dict[1][col] = {}\n",
    "        \n",
    "        for bin_cat in labels:\n",
    "            cnt_cat_0 = count(train_X,col,bin_cat,0)\n",
    "            cnt_cat_1 = count(train_X,col,bin_cat,1)\n",
    "            \n",
    "            prob_dict[0][col][bin_cat] = (cnt_cat_0 +1) / (cnt_label_0+2)\n",
    "            prob_dict[1][col][bin_cat] = (cnt_cat_1+1) / (cnt_label_1+2)"
   ]
  },
  {
   "cell_type": "code",
   "execution_count": 19,
   "metadata": {},
   "outputs": [
    {
     "data": {
      "text/plain": [
       "{0: {'make': {'1': 0.8854213107445386, '2': 0.11457868925546144},\n",
       "  'address': {'1': 0.9326794471689701, '2': 0.06732055283102988},\n",
       "  'all': {'1': 0.8096299598751672, '2': 0.1903700401248328},\n",
       "  '3d': {'1': 0.9968791796700847, '2': 0.003120820329915292},\n",
       "  'our': {'1': 0.8528756130182791, '2': 0.14712438698172092},\n",
       "  'over': {'1': 0.9072670530539456, '2': 0.0927329469460544},\n",
       "  'remove': {'1': 0.9848417298261257, '2': 0.015158270173874276},\n",
       "  'internet': {'1': 0.9411502452073116, '2': 0.058849754792688364},\n",
       "  'order': {'1': 0.9331252786446723, '2': 0.06687472135532768},\n",
       "  'mail': {'1': 0.8600089166295141, '2': 0.13999108337048596},\n",
       "  'receive': {'1': 0.9545251894783772, '2': 0.045474810521622826},\n",
       "  'will': {'1': 0.700401248328132, '2': 0.29959875167186806},\n",
       "  'people': {'1': 0.9001337494427106, '2': 0.09986625055728934},\n",
       "  'report': {'1': 0.9549710209540794, '2': 0.04502897904592064},\n",
       "  'addresses': {'1': 0.9848417298261257, '2': 0.015158270173874276},\n",
       "  'free': {'1': 0.9402585822559073, '2': 0.05974141774409273},\n",
       "  'business': {'1': 0.9237628176549264, '2': 0.07623718234507357},\n",
       "  'email': {'1': 0.8987962550156041, '2': 0.1012037449843959},\n",
       "  'you': {'1': 0.7039679001337494, '2': 0.29603209986625056},\n",
       "  'credit': {'1': 0.9870708872046366, '2': 0.012929112795363353},\n",
       "  'your': {'1': 0.8198840838163174, '2': 0.18011591618368256},\n",
       "  'font': {'1': 0.9933125278644672, '2': 0.006687472135532769},\n",
       "  '000': {'1': 0.9812750780205083, '2': 0.018724921979491754},\n",
       "  'money': {'1': 0.9835042353990192, '2': 0.01649576460098083},\n",
       "  'hp': {'1': 0.6941596076683014, '2': 0.30584039233169863},\n",
       "  'hpl': {'1': 0.7405260811413286, '2': 0.25947391885867144},\n",
       "  'george': {'1': 0.8096299598751672, '2': 0.1903700401248328},\n",
       "  '650': {'1': 0.8555506018724922, '2': 0.1444493981275078},\n",
       "  'lab': {'1': 0.8747213553276861, '2': 0.12527864467231387},\n",
       "  'labs': {'1': 0.8470798038341507, '2': 0.15292019616584931},\n",
       "  'telnet': {'1': 0.8974587605884975, '2': 0.10254123941150245},\n",
       "  '857': {'1': 0.9268836379848417, '2': 0.07311636201515827},\n",
       "  'data': {'1': 0.884083816317432, '2': 0.115916183682568},\n",
       "  '415': {'1': 0.9264378065091395, '2': 0.07356219349086046},\n",
       "  '85': {'1': 0.8493089612126616, '2': 0.1506910387873384},\n",
       "  'technology': {'1': 0.8395006687472135, '2': 0.16049933125278645},\n",
       "  '1999': {'1': 0.7588051716451182, '2': 0.24119482835488185},\n",
       "  'parts': {'1': 0.9826125724476148, '2': 0.017387427552385197},\n",
       "  'pm': {'1': 0.8858671422202408, '2': 0.11413285777975925},\n",
       "  'direct': {'1': 0.9166295140436915, '2': 0.08337048595630851},\n",
       "  'cs': {'1': 0.9509585376727597, '2': 0.049041462327240305},\n",
       "  'meeting': {'1': 0.896121266161391, '2': 0.103878733838609},\n",
       "  'original': {'1': 0.9019170753455193, '2': 0.09808292465448061},\n",
       "  'project': {'1': 0.9041462327240303, '2': 0.09585376727596968},\n",
       "  're': {'1': 0.7454302273740526, '2': 0.2545697726259474},\n",
       "  'edu': {'1': 0.8510922871154704, '2': 0.14890771288452964},\n",
       "  'table': {'1': 0.9843958983504235, '2': 0.01560410164957646},\n",
       "  'conference': {'1': 0.9322336156932679, '2': 0.06776638430673206},\n",
       "  'char_freq1': {'1': 0.8564422648238965, '2': 0.14355773517610343},\n",
       "  'char_freq2': {'1': 0.6214890771288453, '2': 0.3785109228711547},\n",
       "  'char_freq3': {'1': 0.8586714222024074, '2': 0.1413285777975925},\n",
       "  'char_freq4': {'1': 0.9023629068212216, '2': 0.09763709317877842},\n",
       "  'char_freq5': {'1': 0.9616584930896122, '2': 0.038341506910387874},\n",
       "  'char_freq6': {'1': 0.9326794471689701, '2': 0.06732055283102988},\n",
       "  'cap_run_length_avg': {'1': 0.9585376727596968, '2': 0.041462327240303166},\n",
       "  'cap_run_length_longest': {'1': 0.9282211324119483,\n",
       "   '2': 0.07177886758805171},\n",
       "  'cap_run_length_total': {'1': 0.8609005795809184, '2': 0.13909942041908158}},\n",
       " 1: {'make': {'1': 0.70249653259362, '2': 0.29750346740638},\n",
       "  'address': {'1': 0.7517337031900139, '2': 0.24826629680998613},\n",
       "  'all': {'1': 0.4840499306518724, '2': 0.5159500693481276},\n",
       "  '3d': {'1': 0.9791955617198336, '2': 0.020804438280166437},\n",
       "  'our': {'1': 0.5090152565880721, '2': 0.4909847434119279},\n",
       "  'over': {'1': 0.6622746185852982, '2': 0.3377253814147018},\n",
       "  'remove': {'1': 0.6421636615811374, '2': 0.3578363384188627},\n",
       "  'internet': {'1': 0.6941747572815534, '2': 0.3058252427184466},\n",
       "  'order': {'1': 0.7219140083217753, '2': 0.2780859916782247},\n",
       "  'mail': {'1': 0.6234396671289875, '2': 0.3765603328710125},\n",
       "  'receive': {'1': 0.6914008321775312, '2': 0.30859916782246877},\n",
       "  'will': {'1': 0.5665742024965326, '2': 0.4334257975034674},\n",
       "  'people': {'1': 0.7094313453536755, '2': 0.29056865464632453},\n",
       "  'report': {'1': 0.875866851595007, '2': 0.12413314840499307},\n",
       "  'addresses': {'1': 0.8536754507628294, '2': 0.1463245492371706},\n",
       "  'free': {'1': 0.5575589459084604, '2': 0.44244105409153955},\n",
       "  'business': {'1': 0.6539528432732317, '2': 0.3460471567267684},\n",
       "  'email': {'1': 0.6830790568654647, '2': 0.3169209431345354},\n",
       "  'you': {'1': 0.36893203883495146, '2': 0.6310679611650486},\n",
       "  'credit': {'1': 0.7961165048543689, '2': 0.20388349514563106},\n",
       "  'your': {'1': 0.3356449375866852, '2': 0.6643550624133149},\n",
       "  'font': {'1': 0.9479889042995839, '2': 0.052011095700416086},\n",
       "  '000': {'1': 0.680998613037448, '2': 0.31900138696255204},\n",
       "  'money': {'1': 0.665742024965326, '2': 0.3342579750346741},\n",
       "  'hp': {'1': 0.9882108183079057, '2': 0.011789181692094313},\n",
       "  'hpl': {'1': 0.9895977808599168, '2': 0.010402219140083218},\n",
       "  'george': {'1': 0.9993065187239945, '2': 0.0006934812760055479},\n",
       "  '650': {'1': 0.9833564493758669, '2': 0.016643550624133148},\n",
       "  'lab': {'1': 0.9965325936199723, '2': 0.0034674063800277394},\n",
       "  'labs': {'1': 0.9902912621359223, '2': 0.009708737864077669},\n",
       "  'telnet': {'1': 0.9979195561719834, '2': 0.0020804438280166435},\n",
       "  '857': {'1': 0.9979195561719834, '2': 0.0020804438280166435},\n",
       "  'data': {'1': 0.9715672676837726, '2': 0.028432732316227463},\n",
       "  '415': {'1': 0.9937586685159501, '2': 0.0062413314840499305},\n",
       "  '85': {'1': 0.9854368932038835, '2': 0.014563106796116505},\n",
       "  'technology': {'1': 0.9479889042995839, '2': 0.052011095700416086},\n",
       "  '1999': {'1': 0.9528432732316228, '2': 0.047156726768377254},\n",
       "  'parts': {'1': 0.9812760055478502, '2': 0.01872399445214979},\n",
       "  'pm': {'1': 0.9680998613037448, '2': 0.0319001386962552},\n",
       "  'direct': {'1': 0.8925104022191401, '2': 0.10748959778085991},\n",
       "  'cs': {'1': 0.9993065187239945, '2': 0.0006934812760055479},\n",
       "  'meeting': {'1': 0.9944521497919556, '2': 0.005547850208044383},\n",
       "  'original': {'1': 0.9535367545076283, '2': 0.046463245492371706},\n",
       "  'project': {'1': 0.9805825242718447, '2': 0.019417475728155338},\n",
       "  're': {'1': 0.8536754507628294, '2': 0.1463245492371706},\n",
       "  'edu': {'1': 0.984743411927878, '2': 0.015256588072122053},\n",
       "  'table': {'1': 0.9875173370319001, '2': 0.012482662968099861},\n",
       "  'conference': {'1': 0.9909847434119279, '2': 0.009015256588072122},\n",
       "  'char_freq1': {'1': 0.9140083217753121, '2': 0.08599167822468794},\n",
       "  'char_freq2': {'1': 0.7406380027739251, '2': 0.2593619972260749},\n",
       "  'char_freq3': {'1': 0.9320388349514563, '2': 0.06796116504854369},\n",
       "  'char_freq4': {'1': 0.4459084604715673, '2': 0.5540915395284327},\n",
       "  'char_freq5': {'1': 0.48613037447988905, '2': 0.513869625520111},\n",
       "  'char_freq6': {'1': 0.7988904299583911, '2': 0.20110957004160887},\n",
       "  'cap_run_length_avg': {'1': 0.7066574202496533, '2': 0.2933425797503467},\n",
       "  'cap_run_length_longest': {'1': 0.587378640776699, '2': 0.41262135922330095},\n",
       "  'cap_run_length_total': {'1': 0.6074895977808599, '2': 0.3925104022191401}}}"
      ]
     },
     "execution_count": 19,
     "metadata": {},
     "output_type": "execute_result"
    }
   ],
   "source": [
    "prob_dict"
   ]
  },
  {
   "cell_type": "code",
   "execution_count": 20,
   "metadata": {},
   "outputs": [],
   "source": [
    "y_pred = []"
   ]
  },
  {
   "cell_type": "code",
   "execution_count": 21,
   "metadata": {},
   "outputs": [],
   "source": [
    "for i in range(0,len(test_X)):\n",
    "        product0 = probability0\n",
    "        product1 = probability1\n",
    "        for column in test_X.columns:   #p of x give y\n",
    "            product0 *= prob_dict[0][column][test_X[column].iloc[i]]\n",
    "            product1 *= prob_dict[1][column][test_X[column].iloc[i]]\n",
    "        \n",
    "        #Predict the outcome\n",
    "        if product0 > product1:\n",
    "            y_pred.append(0)\n",
    "        else:\n",
    "            y_pred.append(1)\n"
   ]
  },
  {
   "cell_type": "code",
   "execution_count": 22,
   "metadata": {},
   "outputs": [],
   "source": [
    "tp,tn,fp,fn = 0,0,0,0\n",
    "for j in range(0,len(y_pred)):\n",
    "    if y_pred[j] == 0:\n",
    "        if test_y.iloc[j] == 0:\n",
    "            tp += 1\n",
    "        else:\n",
    "            fp += 1\n",
    "    else:\n",
    "        if test_y.iloc[j] == 1:\n",
    "            tn += 1\n",
    "        else:\n",
    "            fn += 1"
   ]
  },
  {
   "cell_type": "code",
   "execution_count": 23,
   "metadata": {},
   "outputs": [],
   "source": [
    "accuracy = (tp + tn)/len(test_y)"
   ]
  },
  {
   "cell_type": "code",
   "execution_count": 24,
   "metadata": {},
   "outputs": [
    {
     "name": "stdout",
     "output_type": "stream",
     "text": [
      "Accuracy for training length  89.67391304347827\n"
     ]
    }
   ],
   "source": [
    "print('Accuracy:',((tp+tn)/len(test_y))*100)"
   ]
  },
  {
   "cell_type": "code",
   "execution_count": 25,
   "metadata": {},
   "outputs": [
    {
     "data": {
      "image/png": "[encoded data removed]",
      "text/plain": [
       "<Figure size 432x432 with 1 Axes>"
      ]
     },
     "metadata": {},
     "output_type": "display_data"
    }
   ],
   "source": [
    "thresholds = np.linspace(2,-2,105)\n",
    "\n",
    "ROC = np.zeros((105,2))\n",
    "\n",
    "for i in range(105):\n",
    "    t = thresholds[i]\n",
    "\n",
    "    TP_t = np.logical_and( y_pred > t, test_y==1 ).sum()\n",
    "    TN_t = np.logical_and( y_pred <=t, test_y==0 ).sum()\n",
    "    FP_t = np.logical_and( y_pred > t, test_y==0 ).sum()\n",
    "    FN_t = np.logical_and( y_pred <=t, test_y==1 ).sum()\n",
    "\n",
    "\n",
    "    FPR_t = FP_t / float(FP_t + TN_t)\n",
    "    ROC[i,0] = FPR_t\n",
    "    TPR_t = TP_t / float(TP_t + FN_t)\n",
    "    ROC[i,1] = TPR_t\n",
    "\n",
    "# Plot the ROC curve.\n",
    "fig = plt.figure(figsize=(6,6))\n",
    "plt.plot(ROC[:,0], ROC[:,1], lw=2)\n",
    "plt.xlabel('$FPR(t)$')\n",
    "plt.ylabel('$TPR(t)$')\n",
    "plt.grid()"
   ]
  },
  {
   "cell_type": "code",
   "execution_count": 26,
   "metadata": {},
   "outputs": [
    {
     "data": {
      "text/plain": [
       "0.8845935176517294"
      ]
     },
     "execution_count": 26,
     "metadata": {},
     "output_type": "execute_result"
    }
   ],
   "source": [
    "AUC = 0.\n",
    "for i in range(100):\n",
    "    AUC += (ROC[i+1,0]-ROC[i,0]) * (ROC[i+1,1]+ROC[i,1])\n",
    "AUC *= 0.5\n",
    "AUC"
   ]
  },
  {
   "cell_type": "code",
   "execution_count": null,
   "metadata": {},
   "outputs": [],
   "source": []
  }
 ],
 "metadata": {
  "kernelspec": {
   "display_name": "Python 3",
   "language": "python",
   "name": "python3"
  },
  "language_info": {
   "codemirror_mode": {
    "name": "ipython",
    "version": 3
   },
   "file_extension": ".py",
   "mimetype": "text/x-python",
   "name": "python",
   "nbconvert_exporter": "python",
   "pygments_lexer": "ipython3",
   "version": "3.6.6"
  }
 },
 "nbformat": 4,
 "nbformat_minor": 2
}
