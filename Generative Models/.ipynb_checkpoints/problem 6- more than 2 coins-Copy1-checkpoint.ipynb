{
 "cells": [
  {
   "cell_type": "code",
   "execution_count": 1,
   "metadata": {},
   "outputs": [],
   "source": [
    "import random\n",
    "import numpy as np"
   ]
  },
  {
   "cell_type": "code",
   "execution_count": 2,
   "metadata": {},
   "outputs": [],
   "source": [
    "np.random.seed(0)\n",
    "def flip(p):\n",
    "    return 'H' if np.random.random() < p else 'T'"
   ]
  },
  {
   "cell_type": "code",
   "execution_count": 3,
   "metadata": {},
   "outputs": [],
   "source": [
    "def generate_mixture(p):\n",
    "    return flip(0.75) if np.random.random() < p else flip(0.4)"
   ]
  },
  {
   "cell_type": "code",
   "execution_count": 4,
   "metadata": {},
   "outputs": [],
   "source": [
    "flips = list()\n",
    "for i in range(10):\n",
    "    flips.append([generate_mixture(0.8) for i in range(10)])"
   ]
  },
  {
   "cell_type": "code",
   "execution_count": 5,
   "metadata": {},
   "outputs": [
    {
     "data": {
      "text/plain": [
       "[['H', 'H', 'H', 'T', 'H', 'H', 'T', 'H', 'T', 'T'],\n",
       " ['T', 'T', 'H', 'T', 'H', 'T', 'H', 'H', 'H', 'T'],\n",
       " ['H', 'H', 'H', 'H', 'H', 'H', 'H', 'H', 'H', 'H'],\n",
       " ['H', 'H', 'H', 'H', 'H', 'T', 'T', 'H', 'H', 'H'],\n",
       " ['H', 'H', 'H', 'H', 'T', 'H', 'H', 'H', 'H', 'H'],\n",
       " ['H', 'T', 'H', 'H', 'T', 'T', 'H', 'H', 'T', 'T'],\n",
       " ['H', 'T', 'H', 'H', 'H', 'H', 'H', 'H', 'H', 'H'],\n",
       " ['H', 'T', 'T', 'T', 'T', 'T', 'H', 'T', 'T', 'H'],\n",
       " ['H', 'T', 'T', 'H', 'H', 'H', 'H', 'H', 'T', 'H'],\n",
       " ['H', 'H', 'T', 'H', 'H', 'H', 'T', 'H', 'H', 'H']]"
      ]
     },
     "execution_count": 5,
     "metadata": {},
     "output_type": "execute_result"
    }
   ],
   "source": [
    "flips"
   ]
  },
  {
   "cell_type": "code",
   "execution_count": 14,
   "metadata": {},
   "outputs": [],
   "source": [
    "# n= 10\n",
    "# p = 0.75\n",
    "# r = 0.4\n",
    "# s = np.random.binomial(n, p, 800)\n",
    "# t = np.random.binomial(n, r, 200)\n",
    "# flips = list()\n",
    "# flips.append(s)\n",
    "# flips.append(t)\n",
    "pi = [0.4864862, 0.6837931, 0.372863]"
   ]
  },
  {
   "cell_type": "code",
   "execution_count": 15,
   "metadata": {},
   "outputs": [],
   "source": [
    "def coin_em(flips, maxiter, T):\n",
    "    # Initial Guess\n",
    "    pi = list()\n",
    "    for i in range(T):\n",
    "        pi.append(np.random.random())\n",
    "    thetas = [0.5, 0.7, 0.4]\n",
    "    # Iterate\n",
    "    for c in range(maxiter):\n",
    "#         print(c, pi)\n",
    "        heads, tails = e_step(flips, pi)\n",
    "        for i in range(len(pi)):\n",
    "            pi = m_step(heads, tails)\n",
    "        \n",
    "#     thetas.append((pi))  \n",
    "    return pi\n",
    "\n"
   ]
  },
  {
   "cell_type": "code",
   "execution_count": 16,
   "metadata": {},
   "outputs": [],
   "source": [
    "# Produce the expected value for heads_A, tails_A, heads_B, tails_B \n",
    "#   over the flips given the coin biases\n",
    "    \n",
    "def e_step(flips, pi):\n",
    "    heads = list()\n",
    "    tails = list()\n",
    "    llh = list()\n",
    "    all_p = list()\n",
    "    for trial in flips:\n",
    "        for i in range(len(pi)):\n",
    "            llh.append(coin_llh(trial, pi[i]))\n",
    "        for i in range(len(pi)):\n",
    "            all_p.append(llh[i] / sum(llh))\n",
    "        for i in range(len(pi)):\n",
    "            heads.append(0)\n",
    "            tails.append(0)\n",
    "        for i in range(len(tails)):\n",
    "            tails[i] = tails[i] + all_p[i] * trial.count(\"T\")\n",
    "            heads[i] = heads[i] + all_p[i] * trial.count(\"H\")\n",
    "    return heads, tails\n",
    "\n"
   ]
  },
  {
   "cell_type": "code",
   "execution_count": 17,
   "metadata": {},
   "outputs": [],
   "source": [
    "#     Produce the values for theta that maximize the expected number of heads/tails\n",
    "def m_step(heads, tails):\n",
    "    pi = list()\n",
    "    for i in range(len(heads)):\n",
    "        pi.append(heads[i] / (heads[i] + tails[i]))\n",
    "    return pi\n",
    "\n"
   ]
  },
  {
   "cell_type": "code",
   "execution_count": 18,
   "metadata": {},
   "outputs": [],
   "source": [
    "def coin_llh(flip, bias):\n",
    "    # P(X | Z, p)\n",
    "    numHeads = flip.count('H')\n",
    "    flips_num = len(flip)\n",
    "    return pow(bias, numHeads) * pow(1-bias, flips_num-numHeads)"
   ]
  },
  {
   "cell_type": "code",
   "execution_count": 19,
   "metadata": {},
   "outputs": [],
   "source": [
    "thetas = coin_em(flips, 6, 3)"
   ]
  },
  {
   "cell_type": "code",
   "execution_count": 20,
   "metadata": {},
   "outputs": [
    {
     "data": {
      "text/plain": [
       "[0.4864862, 0.6837931, 0.372863]"
      ]
     },
     "execution_count": 20,
     "metadata": {},
     "output_type": "execute_result"
    }
   ],
   "source": [
    "pi"
   ]
  },
  {
   "cell_type": "code",
   "execution_count": null,
   "metadata": {},
   "outputs": [],
   "source": [
    "a = [2, 3, 4, 5]\n",
    "for i in range(len(a)):\n",
    "    a[i] = a[i] + 1\n",
    "    \n",
    "print (a)"
   ]
  },
  {
   "cell_type": "code",
   "execution_count": null,
   "metadata": {},
   "outputs": [],
   "source": []
  }
 ],
 "metadata": {
  "kernelspec": {
   "display_name": "Python 3",
   "language": "python",
   "name": "python3"
  },
  "language_info": {
   "codemirror_mode": {
    "name": "ipython",
    "version": 3
   },
   "file_extension": ".py",
   "mimetype": "text/x-python",
   "name": "python",
   "nbconvert_exporter": "python",
   "pygments_lexer": "ipython3",
   "version": "3.6.6"
  }
 },
 "nbformat": 4,
 "nbformat_minor": 2
}
