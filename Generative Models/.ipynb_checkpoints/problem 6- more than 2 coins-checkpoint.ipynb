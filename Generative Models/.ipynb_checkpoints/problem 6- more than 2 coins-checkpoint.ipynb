{
 "cells": [
  {
   "cell_type": "code",
   "execution_count": 1,
   "metadata": {},
   "outputs": [],
   "source": [
    "import random\n",
    "import numpy as np"
   ]
  },
  {
   "cell_type": "code",
   "execution_count": 2,
   "metadata": {},
   "outputs": [],
   "source": [
    "np.random.seed(0)\n",
    "def flip(p):\n",
    "    return 'H' if np.random.random() < p else 'T'"
   ]
  },
  {
   "cell_type": "code",
   "execution_count": 3,
   "metadata": {},
   "outputs": [],
   "source": [
    "def generate_mixture(p):\n",
    "    return flip(0.75) if np.random.random() < p else flip(0.4)"
   ]
  },
  {
   "cell_type": "code",
   "execution_count": 4,
   "metadata": {},
   "outputs": [],
   "source": [
    "flips = list()\n",
    "for i in range(10):\n",
    "    flips.append([generate_mixture(0.8) for i in range(10)])"
   ]
  },
  {
   "cell_type": "code",
   "execution_count": 5,
   "metadata": {},
   "outputs": [
    {
     "data": {
      "text/plain": [
       "[['H', 'H', 'H', 'T', 'H', 'H', 'T', 'H', 'T', 'T'],\n",
       " ['T', 'T', 'H', 'T', 'H', 'T', 'H', 'H', 'H', 'T'],\n",
       " ['H', 'H', 'H', 'H', 'H', 'H', 'H', 'H', 'H', 'H'],\n",
       " ['H', 'H', 'H', 'H', 'H', 'T', 'T', 'H', 'H', 'H'],\n",
       " ['H', 'H', 'H', 'H', 'T', 'H', 'H', 'H', 'H', 'H'],\n",
       " ['H', 'T', 'H', 'H', 'T', 'T', 'H', 'H', 'T', 'T'],\n",
       " ['H', 'T', 'H', 'H', 'H', 'H', 'H', 'H', 'H', 'H'],\n",
       " ['H', 'T', 'T', 'T', 'T', 'T', 'H', 'T', 'T', 'H'],\n",
       " ['H', 'T', 'T', 'H', 'H', 'H', 'H', 'H', 'T', 'H'],\n",
       " ['H', 'H', 'T', 'H', 'H', 'H', 'T', 'H', 'H', 'H']]"
      ]
     },
     "execution_count": 5,
     "metadata": {},
     "output_type": "execute_result"
    }
   ],
   "source": [
    "flips"
   ]
  },
  {
   "cell_type": "code",
   "execution_count": 6,
   "metadata": {},
   "outputs": [],
   "source": [
    "# n= 10\n",
    "# p = 0.75\n",
    "# r = 0.4\n",
    "# s = np.random.binomial(n, p, 800)\n",
    "# t = np.random.binomial(n, r, 200)\n",
    "# flips = list()\n",
    "# flips.append(s)\n",
    "# flips.append(t)"
   ]
  },
  {
   "cell_type": "code",
   "execution_count": 7,
   "metadata": {},
   "outputs": [],
   "source": [
    "def coin_em(flips, maxiter, T):\n",
    "    # Initial Guess\n",
    "    pi = list()\n",
    "    for i in range(T):\n",
    "        pi.append(np.random.random())\n",
    "        print (pi)\n",
    "    thetas = []\n",
    "    # Iterate\n",
    "    for c in range(maxiter):\n",
    "        print(c, pi)\n",
    "        heads, tails = e_step(flips, pi)\n",
    "        pi = m_step(heads, tails)\n",
    "        \n",
    "#     thetas.append((pi))    \n",
    "    return pi\n",
    "\n"
   ]
  },
  {
   "cell_type": "code",
   "execution_count": 8,
   "metadata": {},
   "outputs": [],
   "source": [
    "# Produce the expected value for heads_A, tails_A, heads_B, tails_B \n",
    "#   over the flips given the coin biases\n",
    "    \n",
    "def e_step(flips, pi):\n",
    "    heads = list()\n",
    "    tails = list()\n",
    "    for trial in flips:\n",
    "        llh = list()\n",
    "        all_p = list()\n",
    "        for i in range(len(pi)):\n",
    "            llh.append(coin_llh(trial, pi[i]))\n",
    "        for i in range(len(pi)):\n",
    "            all_p.append(llh[i] / sum(llh))\n",
    "        for i in range(len(pi)):\n",
    "            heads.append(0)\n",
    "            tails.append(0)\n",
    "        for tail in tails:\n",
    "            tail = tail + all_p[i] * trial.count(\"T\")\n",
    "        for head in heads:\n",
    "            head = head + all_p[i] * trial.count(\"H\")\n",
    "    print(heads)\n",
    "    return heads, tails\n",
    "\n"
   ]
  },
  {
   "cell_type": "code",
   "execution_count": 9,
   "metadata": {},
   "outputs": [],
   "source": [
    "#     Produce the values for theta that maximize the expected number of heads/tails\n",
    "def m_step(heads, tails):\n",
    "    pi = list()\n",
    "    for i in range(len(heads)):\n",
    "        pi.append(heads[i] / (heads[i] + tails[i]))\n",
    "    return pi\n",
    "\n"
   ]
  },
  {
   "cell_type": "code",
   "execution_count": 10,
   "metadata": {},
   "outputs": [],
   "source": [
    "def coin_llh(flip, bias):\n",
    "    # P(X | Z, p)\n",
    "    numHeads = flip.count('H')\n",
    "    flips_num = len(flip)\n",
    "    return pow(bias, numHeads) * pow(1-bias, flips_num-numHeads)"
   ]
  },
  {
   "cell_type": "code",
   "execution_count": 11,
   "metadata": {},
   "outputs": [
    {
     "name": "stdout",
     "output_type": "stream",
     "text": [
      "[0.3117958819941026]\n",
      "[0.3117958819941026, 0.6963434888154595]\n",
      "0 [0.3117958819941026, 0.6963434888154595]\n",
      "[0, 0, 0, 0, 0, 0, 0, 0, 0, 0, 0, 0, 0, 0, 0, 0, 0, 0, 0, 0]\n"
     ]
    },
    {
     "ename": "ZeroDivisionError",
     "evalue": "division by zero",
     "output_type": "error",
     "traceback": [
      "\u001b[0;31m---------------------------------------------------------------------------\u001b[0m",
      "\u001b[0;31mZeroDivisionError\u001b[0m                         Traceback (most recent call last)",
      "\u001b[0;32m<ipython-input-11-d1f1d3d47c06>\u001b[0m in \u001b[0;36m<module>\u001b[0;34m()\u001b[0m\n\u001b[0;32m----> 1\u001b[0;31m \u001b[0mthetas\u001b[0m \u001b[0;34m=\u001b[0m \u001b[0mcoin_em\u001b[0m\u001b[0;34m(\u001b[0m\u001b[0mflips\u001b[0m\u001b[0;34m,\u001b[0m \u001b[0;36m6\u001b[0m\u001b[0;34m,\u001b[0m \u001b[0;36m2\u001b[0m\u001b[0;34m)\u001b[0m\u001b[0;34m\u001b[0m\u001b[0m\n\u001b[0m",
      "\u001b[0;32m<ipython-input-7-9b40d112ef12>\u001b[0m in \u001b[0;36mcoin_em\u001b[0;34m(flips, maxiter, T)\u001b[0m\n\u001b[1;32m     10\u001b[0m         \u001b[0mprint\u001b[0m\u001b[0;34m(\u001b[0m\u001b[0mc\u001b[0m\u001b[0;34m,\u001b[0m \u001b[0mpi\u001b[0m\u001b[0;34m)\u001b[0m\u001b[0;34m\u001b[0m\u001b[0m\n\u001b[1;32m     11\u001b[0m         \u001b[0mheads\u001b[0m\u001b[0;34m,\u001b[0m \u001b[0mtails\u001b[0m \u001b[0;34m=\u001b[0m \u001b[0me_step\u001b[0m\u001b[0;34m(\u001b[0m\u001b[0mflips\u001b[0m\u001b[0;34m,\u001b[0m \u001b[0mpi\u001b[0m\u001b[0;34m)\u001b[0m\u001b[0;34m\u001b[0m\u001b[0m\n\u001b[0;32m---> 12\u001b[0;31m         \u001b[0mpi\u001b[0m \u001b[0;34m=\u001b[0m \u001b[0mm_step\u001b[0m\u001b[0;34m(\u001b[0m\u001b[0mheads\u001b[0m\u001b[0;34m,\u001b[0m \u001b[0mtails\u001b[0m\u001b[0;34m)\u001b[0m\u001b[0;34m\u001b[0m\u001b[0m\n\u001b[0m\u001b[1;32m     13\u001b[0m \u001b[0;34m\u001b[0m\u001b[0m\n\u001b[1;32m     14\u001b[0m \u001b[0;31m#     thetas.append((pi))\u001b[0m\u001b[0;34m\u001b[0m\u001b[0;34m\u001b[0m\u001b[0m\n",
      "\u001b[0;32m<ipython-input-9-579a7f232a6d>\u001b[0m in \u001b[0;36mm_step\u001b[0;34m(heads, tails)\u001b[0m\n\u001b[1;32m      3\u001b[0m     \u001b[0mpi\u001b[0m \u001b[0;34m=\u001b[0m \u001b[0mlist\u001b[0m\u001b[0;34m(\u001b[0m\u001b[0;34m)\u001b[0m\u001b[0;34m\u001b[0m\u001b[0m\n\u001b[1;32m      4\u001b[0m     \u001b[0;32mfor\u001b[0m \u001b[0mi\u001b[0m \u001b[0;32min\u001b[0m \u001b[0mrange\u001b[0m\u001b[0;34m(\u001b[0m\u001b[0mlen\u001b[0m\u001b[0;34m(\u001b[0m\u001b[0mheads\u001b[0m\u001b[0;34m)\u001b[0m\u001b[0;34m)\u001b[0m\u001b[0;34m:\u001b[0m\u001b[0;34m\u001b[0m\u001b[0m\n\u001b[0;32m----> 5\u001b[0;31m         \u001b[0mpi\u001b[0m\u001b[0;34m.\u001b[0m\u001b[0mappend\u001b[0m\u001b[0;34m(\u001b[0m\u001b[0mheads\u001b[0m\u001b[0;34m[\u001b[0m\u001b[0mi\u001b[0m\u001b[0;34m]\u001b[0m \u001b[0;34m/\u001b[0m \u001b[0;34m(\u001b[0m\u001b[0mheads\u001b[0m\u001b[0;34m[\u001b[0m\u001b[0mi\u001b[0m\u001b[0;34m]\u001b[0m \u001b[0;34m+\u001b[0m \u001b[0mtails\u001b[0m\u001b[0;34m[\u001b[0m\u001b[0mi\u001b[0m\u001b[0;34m]\u001b[0m\u001b[0;34m)\u001b[0m\u001b[0;34m)\u001b[0m\u001b[0;34m\u001b[0m\u001b[0m\n\u001b[0m\u001b[1;32m      6\u001b[0m     \u001b[0;32mreturn\u001b[0m \u001b[0mpi\u001b[0m\u001b[0;34m\u001b[0m\u001b[0m\n",
      "\u001b[0;31mZeroDivisionError\u001b[0m: division by zero"
     ]
    }
   ],
   "source": [
    "thetas = coin_em(flips, 6, 2)"
   ]
  },
  {
   "cell_type": "code",
   "execution_count": null,
   "metadata": {},
   "outputs": [],
   "source": [
    "thetas"
   ]
  },
  {
   "cell_type": "code",
   "execution_count": null,
   "metadata": {},
   "outputs": [],
   "source": []
  }
 ],
 "metadata": {
  "kernelspec": {
   "display_name": "Python 3",
   "language": "python",
   "name": "python3"
  },
  "language_info": {
   "codemirror_mode": {
    "name": "ipython",
    "version": 3
   },
   "file_extension": ".py",
   "mimetype": "text/x-python",
   "name": "python",
   "nbconvert_exporter": "python",
   "pygments_lexer": "ipython3",
   "version": "3.6.6"
  }
 },
 "nbformat": 4,
 "nbformat_minor": 2
}
