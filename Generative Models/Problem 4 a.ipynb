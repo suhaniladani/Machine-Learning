{
 "cells": [
  {
   "cell_type": "code",
   "execution_count": 14,
   "metadata": {},
   "outputs": [],
   "source": [
    "import numpy as np\n",
    "import pandas as pd\n",
    "import scipy.stats as stat\n",
    "from random import random as rand"
   ]
  },
  {
   "cell_type": "code",
   "execution_count": 15,
   "metadata": {},
   "outputs": [],
   "source": [
    "df = pd.read_csv(\"2gaussian.txt\", delim_whitespace=True,  header=None) "
   ]
  },
  {
   "cell_type": "code",
   "execution_count": 16,
   "metadata": {},
   "outputs": [
    {
     "data": {
      "text/html": [
       "<div>\n",
       "<style scoped>\n",
       "    .dataframe tbody tr th:only-of-type {\n",
       "        vertical-align: middle;\n",
       "    }\n",
       "\n",
       "    .dataframe tbody tr th {\n",
       "        vertical-align: top;\n",
       "    }\n",
       "\n",
       "    .dataframe thead th {\n",
       "        text-align: right;\n",
       "    }\n",
       "</style>\n",
       "<table border=\"1\" class=\"dataframe\">\n",
       "  <thead>\n",
       "    <tr style=\"text-align: right;\">\n",
       "      <th></th>\n",
       "      <th>0</th>\n",
       "      <th>1</th>\n",
       "    </tr>\n",
       "  </thead>\n",
       "  <tbody>\n",
       "    <tr>\n",
       "      <th>0</th>\n",
       "      <td>7.571044</td>\n",
       "      <td>3.530274</td>\n",
       "    </tr>\n",
       "    <tr>\n",
       "      <th>1</th>\n",
       "      <td>7.337218</td>\n",
       "      <td>4.262713</td>\n",
       "    </tr>\n",
       "    <tr>\n",
       "      <th>2</th>\n",
       "      <td>3.071828</td>\n",
       "      <td>1.118019</td>\n",
       "    </tr>\n",
       "    <tr>\n",
       "      <th>3</th>\n",
       "      <td>6.226851</td>\n",
       "      <td>3.667489</td>\n",
       "    </tr>\n",
       "    <tr>\n",
       "      <th>4</th>\n",
       "      <td>3.513142</td>\n",
       "      <td>1.603125</td>\n",
       "    </tr>\n",
       "  </tbody>\n",
       "</table>\n",
       "</div>"
      ],
      "text/plain": [
       "          0         1\n",
       "0  7.571044  3.530274\n",
       "1  7.337218  4.262713\n",
       "2  3.071828  1.118019\n",
       "3  6.226851  3.667489\n",
       "4  3.513142  1.603125"
      ]
     },
     "execution_count": 16,
     "metadata": {},
     "output_type": "execute_result"
    }
   ],
   "source": [
    "df.head()"
   ]
  },
  {
   "cell_type": "code",
   "execution_count": 17,
   "metadata": {},
   "outputs": [],
   "source": [
    "X = np.array(df)"
   ]
  },
  {
   "cell_type": "code",
   "execution_count": 18,
   "metadata": {},
   "outputs": [],
   "source": [
    "m, n = X.shape\n",
    "data = X.copy()\n",
    "\n",
    "k = 2\n",
    "\n",
    "mean = np.asmatrix(np.random.random((k, n)))\n",
    "sigma = np.array([np.asmatrix(np.identity(n)) for i in range(k)])\n",
    "phi = np.ones(k)/k\n",
    "wt = np.asmatrix(np.empty((m, k), dtype=float))\n",
    "    \n"
   ]
  },
  {
   "cell_type": "code",
   "execution_count": 19,
   "metadata": {},
   "outputs": [],
   "source": [
    "tolerance=1e-4\n",
    "iterations = 0\n",
    "llh = 1\n",
    "previous_llh = 0\n",
    "while(llh-previous_llh > tolerance):\n",
    "    previous_llh = llh_function()\n",
    "    e_step()\n",
    "    m_step()\n",
    "    iterations += 1\n",
    "    llh = llh_function()\n",
    "    print('loglikelihood: ', llh)\n",
    "    \n"
   ]
  },
  {
   "cell_type": "code",
   "execution_count": 20,
   "metadata": {},
   "outputs": [],
   "source": [
    "def llh_function():\n",
    "    llh = 0\n",
    "    for i in range(m):\n",
    "        p = 0\n",
    "        for j in range(k):\n",
    "            #print(self.sigma[j])\n",
    "            p += sp.multivariate_normal.pdf(data[i, :],  mean[j, :].A1, sigma[j, :])\n",
    "        llh += np.log(p) \n",
    "    return llh\n",
    "    \n"
   ]
  },
  {
   "cell_type": "code",
   "execution_count": 22,
   "metadata": {},
   "outputs": [],
   "source": [
    "def e_step():\n",
    "    for i in range(m):\n",
    "        sum = 0\n",
    "        for j in range(k):\n",
    "            q = stat.multivariate_normal.pdf(data[i, :], mean[j].A1, sigma[j])   \n",
    "            sum += q\n",
    "            wt[i, j] = q\n",
    "        wt[i, :] /= sum\n",
    "        assert wt[i, :].sum() - 1 < 1e-4\n"
   ]
  },
  {
   "cell_type": "code",
   "execution_count": 23,
   "metadata": {},
   "outputs": [],
   "source": [
    "def m_step():\n",
    "    for j in range(k):\n",
    "        const = w[:, j].sum()\n",
    "        phi[j] = 1/m * const\n",
    "        muj = np.zeros(n)\n",
    "        sigmaj = np.zeros((n, n))\n",
    "        for i in range(m):\n",
    "            muj += (data[i, :] * w[i, j])\n",
    "            sigmaj += w[i, j] * ((data[i, :] - mean[j, :]).T * (data[i, :] - mean[j, :]))\n",
    "        mean[j] = muj / const\n",
    "        sigma[j] = sigmaj / const"
   ]
  },
  {
   "cell_type": "code",
   "execution_count": 25,
   "metadata": {},
   "outputs": [
    {
     "data": {
      "text/plain": [
       "matrix([[7.01304473, 3.98307499],\n",
       "        [2.99393244, 3.05212035]])"
      ]
     },
     "execution_count": 25,
     "metadata": {},
     "output_type": "execute_result"
    }
   ],
   "source": [
    "mean"
   ]
  },
  {
   "cell_type": "code",
   "execution_count": 26,
   "metadata": {},
   "outputs": [
    {
     "data": {
      "text/plain": [
       "array([[[0.97493952, 0.49757281],\n",
       "        [0.49757281, 1.00122917]],\n",
       "\n",
       "       [[1.00990488, 0.02722738],\n",
       "        [0.02722738, 2.93797782]]])"
      ]
     },
     "execution_count": 26,
     "metadata": {},
     "output_type": "execute_result"
    }
   ],
   "source": [
    "sigma"
   ]
  },
  {
   "cell_type": "code",
   "execution_count": null,
   "metadata": {},
   "outputs": [],
   "source": []
  }
 ],
 "metadata": {
  "kernelspec": {
   "display_name": "Python 3",
   "language": "python",
   "name": "python3"
  },
  "language_info": {
   "codemirror_mode": {
    "name": "ipython",
    "version": 3
   },
   "file_extension": ".py",
   "mimetype": "text/x-python",
   "name": "python",
   "nbconvert_exporter": "python",
   "pygments_lexer": "ipython3",
   "version": "3.6.6"
  }
 },
 "nbformat": 4,
 "nbformat_minor": 2
}
