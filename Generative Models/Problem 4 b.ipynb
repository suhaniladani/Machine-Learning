{
 "cells": [
  {
   "cell_type": "code",
   "execution_count": 1,
   "metadata": {},
   "outputs": [],
   "source": [
    "import numpy as np\n",
    "import pandas as pd\n",
    "import scipy.stats as sp\n",
    "from random import random as rand"
   ]
  },
  {
   "cell_type": "code",
   "execution_count": 2,
   "metadata": {},
   "outputs": [],
   "source": [
    "df = pd.read_csv(\"3gaussian.txt\", delim_whitespace=True,  header=None) "
   ]
  },
  {
   "cell_type": "code",
   "execution_count": 3,
   "metadata": {},
   "outputs": [
    {
     "data": {
      "text/html": [
       "<div>\n",
       "<style scoped>\n",
       "    .dataframe tbody tr th:only-of-type {\n",
       "        vertical-align: middle;\n",
       "    }\n",
       "\n",
       "    .dataframe tbody tr th {\n",
       "        vertical-align: top;\n",
       "    }\n",
       "\n",
       "    .dataframe thead th {\n",
       "        text-align: right;\n",
       "    }\n",
       "</style>\n",
       "<table border=\"1\" class=\"dataframe\">\n",
       "  <thead>\n",
       "    <tr style=\"text-align: right;\">\n",
       "      <th></th>\n",
       "      <th>0</th>\n",
       "      <th>1</th>\n",
       "    </tr>\n",
       "  </thead>\n",
       "  <tbody>\n",
       "    <tr>\n",
       "      <th>0</th>\n",
       "      <td>2.946933</td>\n",
       "      <td>3.162225</td>\n",
       "    </tr>\n",
       "    <tr>\n",
       "      <th>1</th>\n",
       "      <td>5.983996</td>\n",
       "      <td>4.846717</td>\n",
       "    </tr>\n",
       "    <tr>\n",
       "      <th>2</th>\n",
       "      <td>5.301430</td>\n",
       "      <td>8.168113</td>\n",
       "    </tr>\n",
       "    <tr>\n",
       "      <th>3</th>\n",
       "      <td>6.498912</td>\n",
       "      <td>8.594854</td>\n",
       "    </tr>\n",
       "    <tr>\n",
       "      <th>4</th>\n",
       "      <td>4.994876</td>\n",
       "      <td>8.675435</td>\n",
       "    </tr>\n",
       "  </tbody>\n",
       "</table>\n",
       "</div>"
      ],
      "text/plain": [
       "          0         1\n",
       "0  2.946933  3.162225\n",
       "1  5.983996  4.846717\n",
       "2  5.301430  8.168113\n",
       "3  6.498912  8.594854\n",
       "4  4.994876  8.675435"
      ]
     },
     "execution_count": 3,
     "metadata": {},
     "output_type": "execute_result"
    }
   ],
   "source": [
    "df.head()"
   ]
  },
  {
   "cell_type": "code",
   "execution_count": 4,
   "metadata": {},
   "outputs": [],
   "source": [
    "X = np.array(df)"
   ]
  },
  {
   "cell_type": "code",
   "execution_count": 5,
   "metadata": {},
   "outputs": [],
   "source": [
    "m, n = X.shape\n",
    "data = X.copy()\n",
    "\n",
    "k = 3\n",
    "\n",
    "mean = np.asmatrix(np.random.random((k, n)))\n",
    "sigma = np.array([np.asmatrix(np.identity(n)) for i in range(k)])\n",
    "phi = np.ones(k)/k\n",
    "w = np.asmatrix(np.empty((m, k), dtype=float))"
   ]
  },
  {
   "cell_type": "code",
   "execution_count": 6,
   "metadata": {},
   "outputs": [],
   "source": [
    "tolerance=1e-4\n",
    "iteratins = 0\n",
    "llh = 1\n",
    "previous_llh = 0\n",
    "while(llh-previous_llh > tolerance):\n",
    "    previous_llh = llh_function()\n",
    "    e_step()\n",
    "    m_step()\n",
    "    iteratins += 1\n",
    "    llh = llh_function()\n",
    "    print('loglikelihood: ', llh)\n"
   ]
  },
  {
   "cell_type": "code",
   "execution_count": 7,
   "metadata": {},
   "outputs": [],
   "source": [
    "def llh_function():\n",
    "    llh = 0\n",
    "    for i in range(m):\n",
    "        p = 0\n",
    "        for j in range(k):\n",
    "            #print(self.sigma[j])\n",
    "            p += sp.multivariate_normal.pdf(data[i, :], mean[j, :].A1, sigma[j, :]) \n",
    "        llh += np.log(p) \n",
    "    return llh\n",
    "    \n"
   ]
  },
  {
   "cell_type": "code",
   "execution_count": 9,
   "metadata": {},
   "outputs": [],
   "source": [
    "def e_step():\n",
    "    for i in range(m):\n",
    "        sum = 0\n",
    "        for j in range(k):\n",
    "            q = sp.multivariate_normal.pdf(data[i, :], mean[j].A1, sigma[j]) \n",
    "            sum += q\n",
    "            wt[i, j] = q\n",
    "        wt[i, :] /= sum\n",
    "        assert wt[i, :].sum() - 1 < 1e-4\n",
    "\n",
    " "
   ]
  },
  {
   "cell_type": "code",
   "execution_count": 10,
   "metadata": {},
   "outputs": [],
   "source": [
    "def m_step():\n",
    "    for j in range(k):\n",
    "        const = w[:, j].sum()\n",
    "        phi[j] = 1/m * const\n",
    "        muj = np.zeros(n)\n",
    "        sigmaj = np.zeros((n, n))\n",
    "        for i in range(m):\n",
    "            muj += (data[i, :] * w[i, j])\n",
    "            sigmaj += w[i, j] * ((data[i, :] - mean[j, :]).T * (data[i, :] - mean[j, :]))\n",
    "        mean[j] = muj / const\n",
    "        sigma[j] = sigmaj / const"
   ]
  },
  {
   "cell_type": "code",
   "execution_count": 12,
   "metadata": {},
   "outputs": [
    {
     "data": {
      "text/plain": [
       "matrix([[3.03917604, 3.04702065],\n",
       "        [5.01146989, 7.00124225],\n",
       "        [7.02145207, 4.01540156]])"
      ]
     },
     "execution_count": 12,
     "metadata": {},
     "output_type": "execute_result"
    }
   ],
   "source": [
    "mean"
   ]
  },
  {
   "cell_type": "code",
   "execution_count": 13,
   "metadata": {},
   "outputs": [
    {
     "data": {
      "text/plain": [
       "array([[[1.02810384, 0.02586213],\n",
       "        [0.02586213, 3.38173554]],\n",
       "\n",
       "       [[0.98002876, 0.18535552],\n",
       "        [0.18535552, 0.97485245]],\n",
       "\n",
       "       [[0.99059863, 0.50103089],\n",
       "        [0.50103089, 0.99565697]]])"
      ]
     },
     "execution_count": 13,
     "metadata": {},
     "output_type": "execute_result"
    }
   ],
   "source": [
    "sigma"
   ]
  },
  {
   "cell_type": "code",
   "execution_count": null,
   "metadata": {},
   "outputs": [],
   "source": []
  }
 ],
 "metadata": {
  "kernelspec": {
   "display_name": "Python 3",
   "language": "python",
   "name": "python3"
  },
  "language_info": {
   "codemirror_mode": {
    "name": "ipython",
    "version": 3
   },
   "file_extension": ".py",
   "mimetype": "text/x-python",
   "name": "python",
   "nbconvert_exporter": "python",
   "pygments_lexer": "ipython3",
   "version": "3.6.6"
  }
 },
 "nbformat": 4,
 "nbformat_minor": 2
}
