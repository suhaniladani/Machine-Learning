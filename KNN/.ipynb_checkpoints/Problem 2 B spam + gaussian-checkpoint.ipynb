{
 "cells": [
  {
   "cell_type": "code",
   "execution_count": 1,
   "metadata": {},
   "outputs": [],
   "source": [
    "from __future__ import print_function, division\n",
    "import numpy as np\n",
    "import pandas as pd\n",
    "import random\n",
    "import math\n",
    "\n",
    "from scipy.stats import multivariate_normal\n",
    "import scipy.stats\n",
    "from scipy import stats\n",
    "import matplotlib.pyplot as plt\n",
    "from mpl_toolkits.mplot3d import Axes3D"
   ]
  },
  {
   "cell_type": "code",
   "execution_count": 2,
   "metadata": {},
   "outputs": [],
   "source": [
    "word_labels = [\"make\", \"address\", \"all\", \"3d\", \"our\", \"over\", \"remove\", \"internet\",\n",
    "                \"order\", \"mail\", \"receive\", \"will\", \"people\", \"report\", \"addresses\",\n",
    "                \"free\", \"business\", \"email\", \"you\", \"credit\", \"your\", \"font\", \"000\",\n",
    "                \"money\", \"hp\", \"hpl\", \"george\", \"650\", \"lab\", \"labs\", \"telnet\", \"857\",\n",
    "                \"data\", \"415\", \"85\", \"technology\", \"1999\", \"parts\", \"pm\", \"direct\", \"cs\",\n",
    "                \"meeting\", \"original\", \"project\", \"re\", \"edu\", \"table\", \"conference\", \"char_freq1\", \"char_freq2\", \"char_freq3\", \n",
    "              \"char_freq4\", \"char_freq5\", \"char_freq6\", \"cap_run_length_avg\", \"cap_run_length_longest\", \"cap_run_length_total\", \"label\"]\n",
    "df = pd.read_csv(\"../spambase/spambase.data\", names = word_labels, header=None) \n",
    "df_norm = df.iloc[:, :-1]\n",
    "df_norm = (df_norm - df_norm.mean()) / df_norm.std()\n",
    "df = df_norm.join(df.iloc[:, -1])\n",
    "\n",
    "data = df"
   ]
  },
  {
   "cell_type": "code",
   "execution_count": 3,
   "metadata": {},
   "outputs": [],
   "source": [
    "def train_test_split(df, test_size):\n",
    "    \n",
    "    if isinstance(test_size, float):\n",
    "        test_size = round(test_size * len(df))\n",
    "\n",
    "    index_list = df.index.tolist()\n",
    "    test_indexes = random.sample(population=index_list, k=test_size)\n",
    "\n",
    "    test_df = df.loc[test_indexes]\n",
    "    train_df = df.drop(test_indexes)\n",
    "    \n",
    "    return train_df, test_df"
   ]
  },
  {
   "cell_type": "code",
   "execution_count": 4,
   "metadata": {},
   "outputs": [],
   "source": [
    "random.seed(0)\n",
    "train_df, test_df = train_test_split(df, 0.20)"
   ]
  },
  {
   "cell_type": "code",
   "execution_count": 5,
   "metadata": {},
   "outputs": [],
   "source": [
    "X_train = np.array(train_df.iloc[: , :-1])\n",
    "y_train = np.array(train_df.iloc[: , -1])\n",
    "\n",
    "X_test = np.array(test_df.iloc[: , :-1])\n",
    "y_test = np.array(test_df.iloc[: , -1])"
   ]
  },
  {
   "cell_type": "code",
   "execution_count": 6,
   "metadata": {},
   "outputs": [
    {
     "name": "stdout",
     "output_type": "stream",
     "text": [
      "Spam: 1813\n",
      "Non-spam  2788\n",
      "Total:  4601\n"
     ]
    }
   ],
   "source": [
    "num_spam = df['label'][df['label'] == 1].count()\n",
    "num_non_spame = df['label'][df['label'] == 0].count()\n",
    "total = len(df)\n",
    "\n",
    "print('Spam:',num_spam)\n",
    "print('Non-spam ',num_non_spame)\n",
    "print('Total: ',total)"
   ]
  },
  {
   "cell_type": "code",
   "execution_count": 7,
   "metadata": {},
   "outputs": [
    {
     "name": "stdout",
     "output_type": "stream",
     "text": [
      "Probability spam:  0.39404477287546186\n",
      "Probability non-spam:  0.6059552271245382\n"
     ]
    }
   ],
   "source": [
    "prob_spam = num_spam/total\n",
    "print('Probability spam: ',prob_spam)\n",
    "\n",
    "prob_non_spam = num_non_spame/total\n",
    "print('Probability non-spam: ',prob_non_spam)\n",
    "\n",
    "# def class_prob(cls):\n",
    "#     n = len([item for item in (y_train) if item == cls])\n",
    "#     d = len(y_train)\n",
    "#     return n * 1.0 /d"
   ]
  },
  {
   "cell_type": "code",
   "execution_count": 8,
   "metadata": {},
   "outputs": [],
   "source": [
    "data_mean = df.groupby('label').mean()\n",
    "\n",
    "data_variance = df.groupby('label').var()*(1/6)"
   ]
  },
  {
   "cell_type": "code",
   "execution_count": 9,
   "metadata": {},
   "outputs": [],
   "source": [
    "sigma = 1\n",
    "def gauss_kernel(x1,x2):\n",
    "    distance = np.linalg.norm(x1 - x2) ** 2\n",
    "    return np.exp(-sigma * distance)"
   ]
  },
  {
   "cell_type": "code",
   "execution_count": 10,
   "metadata": {},
   "outputs": [],
   "source": [
    "y_pred = []"
   ]
  },
  {
   "cell_type": "code",
   "execution_count": 11,
   "metadata": {},
   "outputs": [
    {
     "data": {
      "text/plain": [
       "array([0, 1])"
      ]
     },
     "execution_count": 11,
     "metadata": {},
     "output_type": "execute_result"
    }
   ],
   "source": [
    "unique_classes = np.unique(y_train)\n",
    "\n",
    "unique_classes"
   ]
  },
  {
   "cell_type": "code",
   "execution_count": 12,
   "metadata": {},
   "outputs": [],
   "source": [
    "def llh_func(X):\n",
    "    llh = np.zeros((X.shape[0], np.size(unique_classes)))\n",
    "    llh[:,0] += np.log(prob_non_spam)\n",
    "    llh[:,1] += np.log(prob_spam)\n",
    "    #print llh\n",
    "    for i, x in enumerate(X):\n",
    "        for cls in unique_classes:\n",
    "            prob = 0\n",
    "            for j, f in enumerate(X_train):\n",
    "                if y_train[j] != cls: continue\n",
    "                prob += gauss_kernel(x, f)\n",
    "            c = np.where(unique_classes == cls)\n",
    "            #print prob\n",
    "            llh[i, c] += np.log(prob)\n",
    "    #print llh\n",
    "    return llh.T\n"
   ]
  },
  {
   "cell_type": "code",
   "execution_count": 13,
   "metadata": {},
   "outputs": [],
   "source": [
    "def predict(X):\n",
    "    llh = llh_func(X)\n",
    "#     print(llh)\n",
    "    return unique_classes[np.argmax(llh, axis=0)]\n"
   ]
  },
  {
   "cell_type": "code",
   "execution_count": 14,
   "metadata": {},
   "outputs": [
    {
     "name": "stderr",
     "output_type": "stream",
     "text": [
      "/Users/suhaniladani/anaconda3/lib/python3.6/site-packages/ipykernel_launcher.py:20: RuntimeWarning: divide by zero encountered in log\n"
     ]
    }
   ],
   "source": [
    "y_pred = predict(X_test)"
   ]
  },
  {
   "cell_type": "code",
   "execution_count": 18,
   "metadata": {},
   "outputs": [
    {
     "data": {
      "text/plain": [
       "0.7869565217391304"
      ]
     },
     "execution_count": 18,
     "metadata": {},
     "output_type": "execute_result"
    }
   ],
   "source": [
    "np.mean(y_pred == y_test)"
   ]
  },
  {
   "cell_type": "code",
   "execution_count": null,
   "metadata": {},
   "outputs": [],
   "source": []
  }
 ],
 "metadata": {
  "kernelspec": {
   "display_name": "Python 3",
   "language": "python",
   "name": "python3"
  },
  "language_info": {
   "codemirror_mode": {
    "name": "ipython",
    "version": 3
   },
   "file_extension": ".py",
   "mimetype": "text/x-python",
   "name": "python",
   "nbconvert_exporter": "python",
   "pygments_lexer": "ipython3",
   "version": "3.6.6"
  }
 },
 "nbformat": 4,
 "nbformat_minor": 2
}
