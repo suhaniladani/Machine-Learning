{
 "cells": [
  {
   "cell_type": "code",
   "execution_count": 1,
   "metadata": {},
   "outputs": [],
   "source": [
    "from __future__ import print_function, division\n",
    "import numpy as np\n",
    "import pandas as pd\n",
    "import random\n",
    "import math\n",
    "\n",
    "from scipy.stats import multivariate_normal\n",
    "import scipy.stats\n",
    "from scipy import stats\n",
    "import matplotlib.pyplot as plt\n",
    "from mpl_toolkits.mplot3d import Axes3D"
   ]
  },
  {
   "cell_type": "code",
   "execution_count": 2,
   "metadata": {},
   "outputs": [],
   "source": [
    "# word_labels = [\"make\", \"address\", \"all\", \"3d\", \"our\", \"over\", \"remove\", \"internet\",\n",
    "#                 \"order\", \"mail\", \"receive\", \"will\", \"people\", \"report\", \"addresses\",\n",
    "#                 \"free\", \"business\", \"email\", \"you\", \"credit\", \"your\", \"font\", \"000\",\n",
    "#                 \"money\", \"hp\", \"hpl\", \"george\", \"650\", \"lab\", \"labs\", \"telnet\", \"857\",\n",
    "#                 \"data\", \"415\", \"85\", \"technology\", \"1999\", \"parts\", \"pm\", \"direct\", \"cs\",\n",
    "#                 \"meeting\", \"original\", \"project\", \"re\", \"edu\", \"table\", \"conference\", \"char_freq1\", \"char_freq2\", \"char_freq3\", \n",
    "#               \"char_freq4\", \"char_freq5\", \"char_freq6\", \"cap_run_length_avg\", \"cap_run_length_longest\", \"cap_run_length_total\", \"label\"]\n",
    "# df = pd.read_csv(\"../spambase/spambase.data\", names = word_labels, header=None) \n",
    "# # df_norm = df.iloc[:, :-1]\n",
    "# # df_norm = (df_norm - df_norm.mean()) / df_norm.std()\n",
    "# # df = df_norm.join(df.iloc[:, -1])\n",
    "\n",
    "# data = df\n",
    "\n",
    "arr_train = np.load(\"../haar_train_full.npy\")\n",
    "arr_test = np.load(\"../haar_test_full.npy\")\n"
   ]
  },
  {
   "cell_type": "code",
   "execution_count": 3,
   "metadata": {},
   "outputs": [
    {
     "data": {
      "text/html": [
       "<div>\n",
       "<style scoped>\n",
       "    .dataframe tbody tr th:only-of-type {\n",
       "        vertical-align: middle;\n",
       "    }\n",
       "\n",
       "    .dataframe tbody tr th {\n",
       "        vertical-align: top;\n",
       "    }\n",
       "\n",
       "    .dataframe thead th {\n",
       "        text-align: right;\n",
       "    }\n",
       "</style>\n",
       "<table border=\"1\" class=\"dataframe\">\n",
       "  <thead>\n",
       "    <tr style=\"text-align: right;\">\n",
       "      <th></th>\n",
       "      <th>0</th>\n",
       "      <th>1</th>\n",
       "      <th>2</th>\n",
       "      <th>3</th>\n",
       "      <th>4</th>\n",
       "      <th>5</th>\n",
       "      <th>6</th>\n",
       "      <th>7</th>\n",
       "      <th>8</th>\n",
       "      <th>9</th>\n",
       "      <th>...</th>\n",
       "      <th>191</th>\n",
       "      <th>192</th>\n",
       "      <th>193</th>\n",
       "      <th>194</th>\n",
       "      <th>195</th>\n",
       "      <th>196</th>\n",
       "      <th>197</th>\n",
       "      <th>198</th>\n",
       "      <th>199</th>\n",
       "      <th>200</th>\n",
       "    </tr>\n",
       "  </thead>\n",
       "  <tbody>\n",
       "    <tr>\n",
       "      <th>0</th>\n",
       "      <td>-14</td>\n",
       "      <td>32</td>\n",
       "      <td>2</td>\n",
       "      <td>8</td>\n",
       "      <td>-13</td>\n",
       "      <td>61</td>\n",
       "      <td>-26</td>\n",
       "      <td>66</td>\n",
       "      <td>-27</td>\n",
       "      <td>-71</td>\n",
       "      <td>...</td>\n",
       "      <td>36</td>\n",
       "      <td>-15</td>\n",
       "      <td>37</td>\n",
       "      <td>-38</td>\n",
       "      <td>-66</td>\n",
       "      <td>-11</td>\n",
       "      <td>15</td>\n",
       "      <td>-12</td>\n",
       "      <td>18</td>\n",
       "      <td>7</td>\n",
       "    </tr>\n",
       "    <tr>\n",
       "      <th>1</th>\n",
       "      <td>-15</td>\n",
       "      <td>57</td>\n",
       "      <td>-18</td>\n",
       "      <td>54</td>\n",
       "      <td>-23</td>\n",
       "      <td>23</td>\n",
       "      <td>-21</td>\n",
       "      <td>53</td>\n",
       "      <td>-22</td>\n",
       "      <td>-20</td>\n",
       "      <td>...</td>\n",
       "      <td>39</td>\n",
       "      <td>-2</td>\n",
       "      <td>38</td>\n",
       "      <td>-28</td>\n",
       "      <td>-36</td>\n",
       "      <td>-10</td>\n",
       "      <td>10</td>\n",
       "      <td>-17</td>\n",
       "      <td>17</td>\n",
       "      <td>2</td>\n",
       "    </tr>\n",
       "    <tr>\n",
       "      <th>2</th>\n",
       "      <td>-8</td>\n",
       "      <td>22</td>\n",
       "      <td>7</td>\n",
       "      <td>9</td>\n",
       "      <td>-25</td>\n",
       "      <td>25</td>\n",
       "      <td>-6</td>\n",
       "      <td>46</td>\n",
       "      <td>-27</td>\n",
       "      <td>-17</td>\n",
       "      <td>...</td>\n",
       "      <td>0</td>\n",
       "      <td>-5</td>\n",
       "      <td>5</td>\n",
       "      <td>-30</td>\n",
       "      <td>-18</td>\n",
       "      <td>0</td>\n",
       "      <td>0</td>\n",
       "      <td>0</td>\n",
       "      <td>0</td>\n",
       "      <td>1</td>\n",
       "    </tr>\n",
       "    <tr>\n",
       "      <th>3</th>\n",
       "      <td>-33</td>\n",
       "      <td>63</td>\n",
       "      <td>7</td>\n",
       "      <td>35</td>\n",
       "      <td>-42</td>\n",
       "      <td>98</td>\n",
       "      <td>-42</td>\n",
       "      <td>88</td>\n",
       "      <td>-54</td>\n",
       "      <td>-68</td>\n",
       "      <td>...</td>\n",
       "      <td>1</td>\n",
       "      <td>0</td>\n",
       "      <td>28</td>\n",
       "      <td>-68</td>\n",
       "      <td>-78</td>\n",
       "      <td>-30</td>\n",
       "      <td>30</td>\n",
       "      <td>-19</td>\n",
       "      <td>19</td>\n",
       "      <td>0</td>\n",
       "    </tr>\n",
       "    <tr>\n",
       "      <th>4</th>\n",
       "      <td>-42</td>\n",
       "      <td>58</td>\n",
       "      <td>-10</td>\n",
       "      <td>10</td>\n",
       "      <td>-28</td>\n",
       "      <td>78</td>\n",
       "      <td>-19</td>\n",
       "      <td>35</td>\n",
       "      <td>-21</td>\n",
       "      <td>-33</td>\n",
       "      <td>...</td>\n",
       "      <td>-7</td>\n",
       "      <td>16</td>\n",
       "      <td>10</td>\n",
       "      <td>-33</td>\n",
       "      <td>-45</td>\n",
       "      <td>-23</td>\n",
       "      <td>29</td>\n",
       "      <td>-18</td>\n",
       "      <td>20</td>\n",
       "      <td>4</td>\n",
       "    </tr>\n",
       "  </tbody>\n",
       "</table>\n",
       "<p>5 rows × 201 columns</p>\n",
       "</div>"
      ],
      "text/plain": [
       "   0    1    2    3    4    5    6    7    8    9   ...   191  192  193  194  \\\n",
       "0  -14   32    2    8  -13   61  -26   66  -27  -71 ...    36  -15   37  -38   \n",
       "1  -15   57  -18   54  -23   23  -21   53  -22  -20 ...    39   -2   38  -28   \n",
       "2   -8   22    7    9  -25   25   -6   46  -27  -17 ...     0   -5    5  -30   \n",
       "3  -33   63    7   35  -42   98  -42   88  -54  -68 ...     1    0   28  -68   \n",
       "4  -42   58  -10   10  -28   78  -19   35  -21  -33 ...    -7   16   10  -33   \n",
       "\n",
       "   195  196  197  198  199  200  \n",
       "0  -66  -11   15  -12   18    7  \n",
       "1  -36  -10   10  -17   17    2  \n",
       "2  -18    0    0    0    0    1  \n",
       "3  -78  -30   30  -19   19    0  \n",
       "4  -45  -23   29  -18   20    4  \n",
       "\n",
       "[5 rows x 201 columns]"
      ]
     },
     "execution_count": 3,
     "metadata": {},
     "output_type": "execute_result"
    }
   ],
   "source": [
    "train_df = pd.DataFrame(arr_train)\n",
    "test_df = pd.DataFrame(arr_test)\n",
    "test_df.head()"
   ]
  },
  {
   "cell_type": "code",
   "execution_count": null,
   "metadata": {},
   "outputs": [],
   "source": []
  },
  {
   "cell_type": "code",
   "execution_count": 4,
   "metadata": {},
   "outputs": [],
   "source": [
    "X_train = np.array(train_df.iloc[:12000 , :-1])\n",
    "y_train = np.array(train_df.iloc[:12000 , -1])\n",
    "\n",
    "X_test = np.array(test_df.iloc[:6000 , :-1])\n",
    "y_test = np.array(test_df.iloc[:6000 , -1])"
   ]
  },
  {
   "cell_type": "code",
   "execution_count": 5,
   "metadata": {},
   "outputs": [],
   "source": [
    "num = [None] * 10\n",
    "num[0] = list(y_train).count(0)\n",
    "num[1] = list(y_train).count(1)\n",
    "num[2] = list(y_train).count(2)\n",
    "num[3] = list(y_train).count(3)\n",
    "num[4] = list(y_train).count(4)\n",
    "num[5] = list(y_train).count(5)\n",
    "num[6] = list(y_train).count(6)\n",
    "num[7] = list(y_train).count(7)\n",
    "num[8] = list(y_train).count(8)\n",
    "num[9] = list(y_train).count(9)\n",
    "# num_1 = [y == 1].count()\n",
    "# num_2 =[y == 2].count()\n",
    "total = len(y_train)\n",
    "\n"
   ]
  },
  {
   "cell_type": "code",
   "execution_count": 6,
   "metadata": {},
   "outputs": [],
   "source": [
    "# prob_spam = num_spam/total\n",
    "# print('Probability spam: ',prob_spam)\n",
    "\n",
    "# prob_non_spam = num_non_spame/total\n",
    "# print('Probability non-spam: ',prob_non_spam)\n",
    "\n",
    "prob_arr = [None] * 10\n",
    "\n",
    "for i in range (10):\n",
    "    prob_arr[i] = num[i]/total\n",
    "\n",
    "# def class_prob(cls):\n",
    "#     n = len([item for item in (y_train) if item == cls])\n",
    "#     d = len(y_train)\n",
    "#     return n * 1.0 /d"
   ]
  },
  {
   "cell_type": "code",
   "execution_count": 7,
   "metadata": {},
   "outputs": [
    {
     "data": {
      "text/plain": [
       "[0.1005,\n",
       " 0.11258333333333333,\n",
       " 0.098,\n",
       " 0.10233333333333333,\n",
       " 0.09866666666666667,\n",
       " 0.08733333333333333,\n",
       " 0.10066666666666667,\n",
       " 0.10658333333333334,\n",
       " 0.09391666666666666,\n",
       " 0.09941666666666667]"
      ]
     },
     "execution_count": 7,
     "metadata": {},
     "output_type": "execute_result"
    }
   ],
   "source": [
    "# data_mean = df.groupby('label').mean()\n",
    "\n",
    "# data_variance = df.groupby('label').var()*(1/6)\n",
    "prob_arr"
   ]
  },
  {
   "cell_type": "code",
   "execution_count": 8,
   "metadata": {},
   "outputs": [],
   "source": [
    "\n",
    "sigma = 1\n",
    "def gauss_kernel(x1,x2):\n",
    "    distance = np.linalg.norm(x1 - x2) ** 2\n",
    "    return np.exp(-sigma * distance)"
   ]
  },
  {
   "cell_type": "code",
   "execution_count": 9,
   "metadata": {},
   "outputs": [],
   "source": [
    "y_pred = []"
   ]
  },
  {
   "cell_type": "code",
   "execution_count": 10,
   "metadata": {},
   "outputs": [
    {
     "data": {
      "text/plain": [
       "array([0, 1, 2, 3, 4, 5, 6, 7, 8, 9], dtype=int32)"
      ]
     },
     "execution_count": 10,
     "metadata": {},
     "output_type": "execute_result"
    }
   ],
   "source": [
    "unique_classes = np.unique(y_train)\n",
    "\n",
    "unique_classes"
   ]
  },
  {
   "cell_type": "code",
   "execution_count": 11,
   "metadata": {},
   "outputs": [],
   "source": [
    "def llh_func(X):\n",
    "    llh = np.zeros((X.shape[0], np.size(unique_classes)))\n",
    "    for i in range (10):\n",
    "        llh[:, i] += np.log(prob_arr[i])\n",
    "#     llh[:,0] += np.log(prob_arr[0])\n",
    "#     llh[:,1] += np.log(prob_arr[1])\n",
    "    #print llh\n",
    "    for i, x in enumerate(X):\n",
    "        for cls in unique_classes:\n",
    "            prob = 0\n",
    "            for j, f in enumerate(X_train):\n",
    "                if y_train[j] != cls: continue\n",
    "                prob += gauss_kernel(x, f)\n",
    "            c = np.where(unique_classes == cls)\n",
    "            #print prob\n",
    "            llh[i, c] += np.log(prob)\n",
    "    #print llh\n",
    "    return llh.T\n"
   ]
  },
  {
   "cell_type": "code",
   "execution_count": 12,
   "metadata": {},
   "outputs": [],
   "source": [
    "def predict(X):\n",
    "    llh = llh_func(X)\n",
    "#     print(llh)\n",
    "    return unique_classes[np.argmax(llh, axis=0)]\n"
   ]
  },
  {
   "cell_type": "code",
   "execution_count": null,
   "metadata": {},
   "outputs": [
    {
     "name": "stderr",
     "output_type": "stream",
     "text": [
      "/Users/suhaniladani/anaconda3/lib/python3.6/site-packages/ipykernel_launcher.py:16: RuntimeWarning: divide by zero encountered in log\n",
      "  app.launch_new_instance()\n"
     ]
    }
   ],
   "source": [
    "y_pred = predict(X_test)"
   ]
  },
  {
   "cell_type": "code",
   "execution_count": null,
   "metadata": {},
   "outputs": [],
   "source": [
    "np.mean(y_pred == y_test)"
   ]
  },
  {
   "cell_type": "code",
   "execution_count": null,
   "metadata": {},
   "outputs": [],
   "source": [
    "y_t = np.squeeze(y_test)"
   ]
  },
  {
   "cell_type": "code",
   "execution_count": null,
   "metadata": {},
   "outputs": [],
   "source": [
    "print(y_pred[50])"
   ]
  },
  {
   "cell_type": "code",
   "execution_count": null,
   "metadata": {},
   "outputs": [],
   "source": [
    "np.mean(y_pred == y_t)"
   ]
  },
  {
   "cell_type": "code",
   "execution_count": null,
   "metadata": {},
   "outputs": [],
   "source": [
    "y_pred[50]"
   ]
  },
  {
   "cell_type": "code",
   "execution_count": null,
   "metadata": {},
   "outputs": [],
   "source": []
  }
 ],
 "metadata": {
  "kernelspec": {
   "display_name": "Python 3",
   "language": "python",
   "name": "python3"
  },
  "language_info": {
   "codemirror_mode": {
    "name": "ipython",
    "version": 3
   },
   "file_extension": ".py",
   "mimetype": "text/x-python",
   "name": "python",
   "nbconvert_exporter": "python",
   "pygments_lexer": "ipython3",
   "version": "3.6.6"
  }
 },
 "nbformat": 4,
 "nbformat_minor": 2
}
