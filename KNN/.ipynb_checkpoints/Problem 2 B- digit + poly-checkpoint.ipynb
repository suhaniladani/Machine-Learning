{
 "cells": [
  {
   "cell_type": "code",
   "execution_count": 1,
   "metadata": {},
   "outputs": [],
   "source": [
    "from __future__ import print_function, division\n",
    "import numpy as np\n",
    "import pandas as pd\n",
    "import random\n",
    "import math\n",
    "\n",
    "from scipy.stats import multivariate_normal\n",
    "import scipy.stats\n",
    "from scipy import stats\n",
    "import matplotlib.pyplot as plt\n",
    "from mpl_toolkits.mplot3d import Axes3D"
   ]
  },
  {
   "cell_type": "code",
   "execution_count": 2,
   "metadata": {},
   "outputs": [],
   "source": [
    "# word_labels = [\"make\", \"address\", \"all\", \"3d\", \"our\", \"over\", \"remove\", \"internet\",\n",
    "#                 \"order\", \"mail\", \"receive\", \"will\", \"people\", \"report\", \"addresses\",\n",
    "#                 \"free\", \"business\", \"email\", \"you\", \"credit\", \"your\", \"font\", \"000\",\n",
    "#                 \"money\", \"hp\", \"hpl\", \"george\", \"650\", \"lab\", \"labs\", \"telnet\", \"857\",\n",
    "#                 \"data\", \"415\", \"85\", \"technology\", \"1999\", \"parts\", \"pm\", \"direct\", \"cs\",\n",
    "#                 \"meeting\", \"original\", \"project\", \"re\", \"edu\", \"table\", \"conference\", \"char_freq1\", \"char_freq2\", \"char_freq3\", \n",
    "#               \"char_freq4\", \"char_freq5\", \"char_freq6\", \"cap_run_length_avg\", \"cap_run_length_longest\", \"cap_run_length_total\", \"label\"]\n",
    "# df = pd.read_csv(\"../spambase/spambase.data\", names = word_labels, header=None) \n",
    "# # df_norm = df.iloc[:, :-1]\n",
    "# # df_norm = (df_norm - df_norm.mean()) / df_norm.std()\n",
    "# # df = df_norm.join(df.iloc[:, -1])\n",
    "\n",
    "# data = df\n",
    "\n",
    "arr_train = np.load(\"../haar_train_full.npy\")\n",
    "arr_test = np.load(\"../haar_test_full.npy\")\n",
    "\n"
   ]
  },
  {
   "cell_type": "code",
   "execution_count": 3,
   "metadata": {},
   "outputs": [],
   "source": [
    "train_df = pd.DataFrame(arr_train)\n",
    "test_df = pd.DataFrame(arr_test)\n",
    "test_df.head()\n",
    "df = train_df.append(test_df)\n",
    "df_norm = df.iloc[:, :-1]\n",
    "df_norm = (df_norm - df_norm.mean()) / df_norm.std()\n",
    "df = df_norm.join(df.iloc[:, -1])"
   ]
  },
  {
   "cell_type": "code",
   "execution_count": 4,
   "metadata": {},
   "outputs": [],
   "source": [
    "train_df = df.iloc[0:60000, :]\n",
    "test_df = df.iloc[60000: , :]"
   ]
  },
  {
   "cell_type": "code",
   "execution_count": 5,
   "metadata": {},
   "outputs": [],
   "source": [
    "X_train = np.array(train_df.iloc[:12000 , :-1])\n",
    "y_train = np.array(train_df.iloc[:12000 , -1])\n",
    "\n",
    "X_test = np.array(test_df.iloc[:6000 , :-1])\n",
    "y_test = np.array(test_df.iloc[:6000 , -1])"
   ]
  },
  {
   "cell_type": "code",
   "execution_count": 6,
   "metadata": {},
   "outputs": [],
   "source": [
    "num = [None] * 10\n",
    "num[0] = list(y_train).count(0)\n",
    "num[1] = list(y_train).count(1)\n",
    "num[2] = list(y_train).count(2)\n",
    "num[3] = list(y_train).count(3)\n",
    "num[4] = list(y_train).count(4)\n",
    "num[5] = list(y_train).count(5)\n",
    "num[6] = list(y_train).count(6)\n",
    "num[7] = list(y_train).count(7)\n",
    "num[8] = list(y_train).count(8)\n",
    "num[9] = list(y_train).count(9)\n",
    "# num_1 = [y == 1].count()\n",
    "# num_2 =[y == 2].count()\n",
    "total = len(y_train)\n",
    "\n"
   ]
  },
  {
   "cell_type": "code",
   "execution_count": 7,
   "metadata": {},
   "outputs": [],
   "source": [
    "# prob_spam = num_spam/total\n",
    "# print('Probability spam: ',prob_spam)\n",
    "\n",
    "# prob_non_spam = num_non_spame/total\n",
    "# print('Probability non-spam: ',prob_non_spam)\n",
    "\n",
    "prob_arr = [None] * 10\n",
    "\n",
    "for i in range (10):\n",
    "    prob_arr[i] = num[i]/total\n",
    "\n",
    "# def class_prob(cls):\n",
    "#     n = len([item for item in (y_train) if item == cls])\n",
    "#     d = len(y_train)\n",
    "#     return n * 1.0 /d"
   ]
  },
  {
   "cell_type": "code",
   "execution_count": 8,
   "metadata": {},
   "outputs": [
    {
     "data": {
      "text/plain": [
       "[0.09266666666666666,\n",
       " 0.11316666666666667,\n",
       " 0.102,\n",
       " 0.10183333333333333,\n",
       " 0.10716666666666666,\n",
       " 0.09283333333333334,\n",
       " 0.09633333333333334,\n",
       " 0.10583333333333333,\n",
       " 0.09116666666666666,\n",
       " 0.097]"
      ]
     },
     "execution_count": 8,
     "metadata": {},
     "output_type": "execute_result"
    }
   ],
   "source": [
    "# data_mean = df.groupby('label').mean()\n",
    "\n",
    "# data_variance = df.groupby('label').var()*(1/6)\n",
    "prob_arr"
   ]
  },
  {
   "cell_type": "code",
   "execution_count": 9,
   "metadata": {},
   "outputs": [],
   "source": [
    "\n",
    "sigma = 1\n",
    "def gauss_kernel(x1,x2):\n",
    "    distance = np.linalg.norm(x1 - x2) ** 2\n",
    "    return np.exp(-sigma * distance)"
   ]
  },
  {
   "cell_type": "code",
   "execution_count": 10,
   "metadata": {},
   "outputs": [],
   "source": [
    "y_pred = []"
   ]
  },
  {
   "cell_type": "code",
   "execution_count": 11,
   "metadata": {},
   "outputs": [
    {
     "data": {
      "text/plain": [
       "array([0, 1, 2, 3, 4, 5, 6, 7, 8, 9], dtype=int32)"
      ]
     },
     "execution_count": 11,
     "metadata": {},
     "output_type": "execute_result"
    }
   ],
   "source": [
    "unique_classes = np.unique(y_train)\n",
    "\n",
    "unique_classes"
   ]
  },
  {
   "cell_type": "code",
   "execution_count": 12,
   "metadata": {},
   "outputs": [],
   "source": [
    "def llh_func(X):\n",
    "    llh = np.zeros((X.shape[0], np.size(unique_classes)))\n",
    "    for i in range (10):\n",
    "        llh[:, i] += np.log(prob_arr[i])\n",
    "#     llh[:,0] += np.log(prob_arr[0])\n",
    "#     llh[:,1] += np.log(prob_arr[1])\n",
    "    #print llh\n",
    "    for i, x in enumerate(X):\n",
    "        for cls in unique_classes:\n",
    "            prob = 0\n",
    "            for j, f in enumerate(X_train):\n",
    "                if y_train[j] != cls: continue\n",
    "                prob += gauss_kernel(x, f)\n",
    "            c = np.where(unique_classes == cls)\n",
    "            #print prob\n",
    "            llh[i, c] += np.log(prob)\n",
    "    #print llh\n",
    "    return llh.T\n"
   ]
  },
  {
   "cell_type": "code",
   "execution_count": 13,
   "metadata": {},
   "outputs": [],
   "source": [
    "def predict(X):\n",
    "    llh = llh_func(X)\n",
    "#     print(llh)\n",
    "    return unique_classes[np.argmax(llh, axis=0)]\n"
   ]
  },
  {
   "cell_type": "code",
   "execution_count": 14,
   "metadata": {},
   "outputs": [],
   "source": [
    "y_pred = predict(X_test)"
   ]
  },
  {
   "cell_type": "code",
   "execution_count": 15,
   "metadata": {},
   "outputs": [
    {
     "data": {
      "text/plain": [
       "0.6113333333333333"
      ]
     },
     "execution_count": 15,
     "metadata": {},
     "output_type": "execute_result"
    }
   ],
   "source": [
    "np.mean(y_pred == y_test)"
   ]
  },
  {
   "cell_type": "code",
   "execution_count": null,
   "metadata": {},
   "outputs": [],
   "source": []
  }
 ],
 "metadata": {
  "kernelspec": {
   "display_name": "Python 3",
   "language": "python",
   "name": "python3"
  },
  "language_info": {
   "codemirror_mode": {
    "name": "ipython",
    "version": 3
   },
   "file_extension": ".py",
   "mimetype": "text/x-python",
   "name": "python",
   "nbconvert_exporter": "python",
   "pygments_lexer": "ipython3",
   "version": "3.6.6"
  }
 },
 "nbformat": 4,
 "nbformat_minor": 2
}
