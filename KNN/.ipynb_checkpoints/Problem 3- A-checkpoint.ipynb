{
 "cells": [
  {
   "cell_type": "code",
   "execution_count": 1,
   "metadata": {},
   "outputs": [],
   "source": [
    "import numpy as np\n",
    "from numpy import linalg\n",
    "from __future__ import print_function, division\n",
    "import pandas as pd\n",
    "import random\n",
    "import math\n"
   ]
  },
  {
   "cell_type": "code",
   "execution_count": 2,
   "metadata": {},
   "outputs": [
    {
     "data": {
      "text/html": [
       "<div>\n",
       "<style scoped>\n",
       "    .dataframe tbody tr th:only-of-type {\n",
       "        vertical-align: middle;\n",
       "    }\n",
       "\n",
       "    .dataframe tbody tr th {\n",
       "        vertical-align: top;\n",
       "    }\n",
       "\n",
       "    .dataframe thead th {\n",
       "        text-align: right;\n",
       "    }\n",
       "</style>\n",
       "<table border=\"1\" class=\"dataframe\">\n",
       "  <thead>\n",
       "    <tr style=\"text-align: right;\">\n",
       "      <th></th>\n",
       "      <th>0</th>\n",
       "      <th>1</th>\n",
       "      <th>2</th>\n",
       "    </tr>\n",
       "  </thead>\n",
       "  <tbody>\n",
       "    <tr>\n",
       "      <th>0</th>\n",
       "      <td>10.5192</td>\n",
       "      <td>-0.7170</td>\n",
       "      <td>-1.0</td>\n",
       "    </tr>\n",
       "    <tr>\n",
       "      <th>1</th>\n",
       "      <td>0.9987</td>\n",
       "      <td>-9.9681</td>\n",
       "      <td>-1.0</td>\n",
       "    </tr>\n",
       "    <tr>\n",
       "      <th>2</th>\n",
       "      <td>3.5763</td>\n",
       "      <td>8.3756</td>\n",
       "      <td>-1.0</td>\n",
       "    </tr>\n",
       "    <tr>\n",
       "      <th>3</th>\n",
       "      <td>1.9236</td>\n",
       "      <td>-10.6448</td>\n",
       "      <td>-1.0</td>\n",
       "    </tr>\n",
       "    <tr>\n",
       "      <th>4</th>\n",
       "      <td>8.1583</td>\n",
       "      <td>-5.9066</td>\n",
       "      <td>-1.0</td>\n",
       "    </tr>\n",
       "  </tbody>\n",
       "</table>\n",
       "</div>"
      ],
      "text/plain": [
       "         0        1    2\n",
       "0  10.5192  -0.7170 -1.0\n",
       "1   0.9987  -9.9681 -1.0\n",
       "2   3.5763   8.3756 -1.0\n",
       "3   1.9236 -10.6448 -1.0\n",
       "4   8.1583  -5.9066 -1.0"
      ]
     },
     "execution_count": 2,
     "metadata": {},
     "output_type": "execute_result"
    }
   ],
   "source": [
    "df = pd.read_csv(\"twoSpirals.txt\", delim_whitespace=True, header=None) \n",
    "df.head()"
   ]
  },
  {
   "cell_type": "code",
   "execution_count": 3,
   "metadata": {},
   "outputs": [],
   "source": [
    "def train_test_split(df, test_size):\n",
    "    \n",
    "    if isinstance(test_size, float):\n",
    "        test_size = round(test_size * len(df))\n",
    "\n",
    "    index_list = df.index.tolist()\n",
    "    test_indexes = random.sample(population=index_list, k=test_size)\n",
    "\n",
    "    test_df = df.loc[test_indexes]\n",
    "    train_df = df.drop(test_indexes)\n",
    "    \n",
    "    return train_df, test_df"
   ]
  },
  {
   "cell_type": "code",
   "execution_count": 4,
   "metadata": {},
   "outputs": [],
   "source": [
    "random.seed(3)\n",
    "train_df, test_df = train_test_split(df, 0.20)"
   ]
  },
  {
   "cell_type": "code",
   "execution_count": 5,
   "metadata": {},
   "outputs": [],
   "source": [
    "X_train = np.array(train_df.iloc[: , :-1])\n",
    "y_train = np.array(train_df.iloc[: , -1])\n",
    "\n",
    "X_test = np.array(test_df.iloc[: , :-1])\n",
    "y_test = np.array(test_df.iloc[: , -1])"
   ]
  },
  {
   "cell_type": "code",
   "execution_count": 6,
   "metadata": {},
   "outputs": [],
   "source": [
    "def linear_kernel(x1, x2):\n",
    "    return np.dot(x1, x2)"
   ]
  },
  {
   "cell_type": "code",
   "execution_count": 7,
   "metadata": {},
   "outputs": [],
   "source": [
    "def polynomial_kernel(x, y, p=3):\n",
    "    return (1 + np.dot(x, y)) ** p"
   ]
  },
  {
   "cell_type": "code",
   "execution_count": 8,
   "metadata": {},
   "outputs": [],
   "source": [
    "def gaussian_kernel(x, y, sigma=2.0):\n",
    "    return np.exp(-linalg.norm(x-y)**2 / (2 * (sigma ** 2)))\n"
   ]
  },
  {
   "cell_type": "code",
   "execution_count": 9,
   "metadata": {},
   "outputs": [
    {
     "name": "stdout",
     "output_type": "stream",
     "text": [
      "38 support vectors out of 800 points\n",
      "1.0\n"
     ]
    }
   ],
   "source": [
    "\n",
    "class Perceptron(object):\n",
    "\n",
    "    def __init__(self, T=1):\n",
    "        self.T = T\n",
    "\n",
    "    def fit(self, X, y):\n",
    "        n_samples, n_features = X.shape\n",
    "        self.w = np.zeros(n_features, dtype=np.float64)\n",
    "        self.b = 0.0\n",
    "\n",
    "        for t in range(self.T):\n",
    "            for i in range(n_samples):\n",
    "                if self.predict(X[i])[0] != y[i]:\n",
    "                    self.w += y[i] * X[i]\n",
    "                    self.b += y[i]\n",
    "\n",
    "    def project(self, X):\n",
    "        return np.dot(X, self.w) + self.b\n",
    "\n",
    "    def predict(self, X):\n",
    "        X = np.atleast_2d(X)\n",
    "        return np.sign(self.project(X))\n",
    "\n",
    "class KernelPerceptron(object):\n",
    "\n",
    "    def __init__(self, kernel=linear_kernel, T=1):\n",
    "        self.kernel = kernel\n",
    "        self.T = T\n",
    "\n",
    "    def fit(self, X, y):\n",
    "        n_samples, n_features = X.shape\n",
    "        #np.hstack((X, np.ones((n_samples, 1))))\n",
    "        self.alpha = np.zeros(n_samples, dtype=np.float64)\n",
    "\n",
    "        # Gram matrix\n",
    "        K = np.zeros((n_samples, n_samples))\n",
    "        for i in range(n_samples):\n",
    "            for j in range(n_samples):\n",
    "                K[i,j] = self.kernel(X[i], X[j])\n",
    "\n",
    "        for t in range(self.T):\n",
    "            for i in range(n_samples):\n",
    "                if np.sign(np.sum(K[:,i] * self.alpha * y)) != y[i]:\n",
    "                    self.alpha[i] += 1.0\n",
    "\n",
    "        # Support vectors\n",
    "        sv = self.alpha > 1e-5\n",
    "        ind = np.arange(len(self.alpha))[sv]\n",
    "        self.alpha = self.alpha[sv]\n",
    "        self.sv = X[sv]\n",
    "        self.sv_y = y[sv]\n",
    "        print (\"%d support vectors out of %d points\" % (len(self.alpha),\n",
    "                                                       n_samples))\n",
    "\n",
    "    def project(self, X):\n",
    "        y_predict = np.zeros(len(X))\n",
    "        for i in range(len(X)):\n",
    "            s = 0\n",
    "            for a, sv_y, sv in zip(self.alpha, self.sv_y, self.sv):\n",
    "                s += a * sv_y * self.kernel(X[i], sv)\n",
    "            y_predict[i] = s\n",
    "        return y_predict\n",
    "\n",
    "    def predict(self, X):\n",
    "        X = np.atleast_2d(X)\n",
    "        n_samples, n_features = X.shape\n",
    "        #np.hstack((X, np.ones((n_samples, 1))))\n",
    "        return np.sign(self.project(X))\n",
    "\n",
    "if __name__ == \"__main__\":\n",
    "    import pylab as pl\n",
    "\n",
    "    def test_linear():\n",
    "\n",
    "        clf = Perceptron(T=3)\n",
    "        clf.fit(X_train, y_train)\n",
    "\n",
    "        y_predict = clf.predict(X_test)\n",
    "        correct = np.sum(y_predict == y_test)\n",
    "        print (\"%d out of %d predictions correct\" % (correct, len(y_predict)))\n",
    "\n",
    "    def test_kernel():\n",
    "\n",
    "        clf = KernelPerceptron(gaussian_kernel, T=20)\n",
    "        clf.fit(X_train, y_train)\n",
    "\n",
    "        y_predict = clf.predict(X_test)\n",
    "        correct = np.mean(y_predict == y_test)\n",
    "        print (correct)\n",
    "\n",
    "    test_kernel()\n"
   ]
  }
 ],
 "metadata": {
  "kernelspec": {
   "display_name": "Python 3",
   "language": "python",
   "name": "python3"
  },
  "language_info": {
   "codemirror_mode": {
    "name": "ipython",
    "version": 3
   },
   "file_extension": ".py",
   "mimetype": "text/x-python",
   "name": "python",
   "nbconvert_exporter": "python",
   "pygments_lexer": "ipython3",
   "version": "3.6.6"
  }
 },
 "nbformat": 4,
 "nbformat_minor": 2
}
