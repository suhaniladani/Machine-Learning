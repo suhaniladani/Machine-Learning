{
 "cells": [
  {
   "cell_type": "code",
   "execution_count": 1,
   "metadata": {},
   "outputs": [],
   "source": [
    "from __future__ import print_function, division\n",
    "import numpy as np\n",
    "import pandas as pd\n",
    "import random\n",
    "import math\n",
    "from scipy.spatial.distance import cosine"
   ]
  },
  {
   "cell_type": "code",
   "execution_count": 2,
   "metadata": {},
   "outputs": [],
   "source": [
    "# word_labels = [\"make\", \"address\", \"all\", \"3d\", \"our\", \"over\", \"remove\", \"internet\",\n",
    "#                 \"order\", \"mail\", \"receive\", \"will\", \"people\", \"report\", \"addresses\",\n",
    "#                 \"free\", \"business\", \"email\", \"you\", \"credit\", \"your\", \"font\", \"000\",\n",
    "#                 \"money\", \"hp\", \"hpl\", \"george\", \"650\", \"lab\", \"labs\", \"telnet\", \"857\",\n",
    "#                 \"data\", \"415\", \"85\", \"technology\", \"1999\", \"parts\", \"pm\", \"direct\", \"cs\",\n",
    "#                 \"meeting\", \"original\", \"project\", \"re\", \"edu\", \"table\", \"conference\", \"char_freq1\", \"char_freq2\", \"char_freq3\", \n",
    "#               \"char_freq4\", \"char_freq5\", \"char_freq6\", \"cap_run_length_avg\", \"cap_run_length_longest\", \"cap_run_length_total\", \"label\"]\n",
    "# df = pd.read_csv(\"../spambase/spambase.data\", names = word_labels, header=None) \n",
    "# df_norm = df.iloc[:, :-1]\n",
    "# df_norm = (df_norm - df_norm.mean()) / df_norm.std()\n",
    "# df = df_norm.join(df.iloc[:, -1])\n",
    "data = np.load('../mnist_test_data')\n",
    "df_X = pd.read_csv(\"../Haar_Features/X_df.csv\")\n",
    "df_y = pd.read_csv(\"../Haar_Features/y_df.csv\")\n",
    "\n",
    "X = np.array(df_X)\n",
    "y = np.array(df_y)\n",
    "y = np.reshape(y, len(y))"
   ]
  },
  {
   "cell_type": "code",
   "execution_count": 3,
   "metadata": {},
   "outputs": [
    {
     "data": {
      "text/plain": [
       "array([-3398, -7848, -3905, -1469,  5180,  4090, -6405,  -617, -3543,\n",
       "         221, -1387,   201,  5920,  1038, -2474,  2528,  2648,  2578,\n",
       "       -3399, -3993, -1240,  2764, -2728,  1896, -6150,  2226, -3110,\n",
       "        -258,  3769,   -55,  -359, -7085,  5364,  -758, -4989,   339,\n",
       "       -3754,  3520,  3400,  -622, -2834,  2206,  2831,  2831, -1184,\n",
       "        1930, -5926, -2658,   540,  -574,  5996,  2884,  1220, -7272,\n",
       "       -2214,  2134, -3690, -4068, -3544,    98,  6774,    -4, -2087,\n",
       "       -5947, -1677, -3535, -2302,   -36, -3171,  1157, -1638, -1842,\n",
       "        5293,   201,   400, -3908,  2324, -5652,  2194,  -618,  4947,\n",
       "        -205,  4723,  1609,  1857,   111, -1024,  -826, -4190,  -258,\n",
       "        3110,  -410, -4438,  -304,   367,  1893, -6353, -1625, -2087,\n",
       "       -5947, -2933,  5101, -4904,  -690,   745, -6709, -4020,  -522,\n",
       "       -4828,   252,  1164,  2714, -4989, -4359, -4989, -4839, -1949,\n",
       "        -487,  -225,  -225,  5971,  1031,  3377,  2899,  -665,  3405,\n",
       "       -3368,  2530, -4172,  -810,  -856, -8622,  4936, -1082, -1664,\n",
       "       -6478, -6348,   172,  4693,  -449, -1184,  1930, -3875,  3019,\n",
       "        1428, -1462, -1061, -3571, -1506, -7488, -2933,  5101, -3478,\n",
       "        -960,  4947,  3559,  2808, -1082, -4233,  -497, -1198, -2624,\n",
       "        6233,   583, -1296,  -502,  7088,   632, -4224,   762,  8353,\n",
       "        1971, -4536,  -794, -3479,  -499,  -736,  3254, -3815,  2201,\n",
       "       -1930,  1930,  3323,  -545, -1696,  1338, -2267,   353,  4541,\n",
       "       -1507, -4389, -4239,   316, -6808, -5129,  -201,  2620, -1684,\n",
       "       -5326, -2058])"
      ]
     },
     "execution_count": 3,
     "metadata": {},
     "output_type": "execute_result"
    }
   ],
   "source": [
    "data[0]"
   ]
  },
  {
   "cell_type": "code",
   "execution_count": 4,
   "metadata": {},
   "outputs": [],
   "source": [
    "from sklearn.model_selection import train_test_split\n",
    "# def train_test_split(df, test_size):\n",
    "    \n",
    "#     if isinstance(test_size, float):\n",
    "#         test_size = round(test_size * len(df))\n",
    "\n",
    "#     index_list = df.index.tolist()\n",
    "#     test_indexes = random.sample(population=index_list, k=test_size)\n",
    "\n",
    "#     test_df = df.loc[test_indexes]\n",
    "#     train_df = df.drop(test_indexes)\n",
    "    \n",
    "#     return train_df, test_df\n",
    "\n",
    "X_train, X_test, y_train, y_test = train_test_split(X, y, test_size=0.33, random_state=42)"
   ]
  },
  {
   "cell_type": "code",
   "execution_count": 5,
   "metadata": {},
   "outputs": [],
   "source": [
    "# random.seed(0)\n",
    "# train_df, test_df = train_test_split(df, 0.20)"
   ]
  },
  {
   "cell_type": "code",
   "execution_count": 6,
   "metadata": {},
   "outputs": [],
   "source": [
    "# X_train = np.array(train_df.iloc[: , :-1])\n",
    "# y_train = np.array(train_df.iloc[: , -1])\n",
    "\n",
    "# X_test = np.array(test_df.iloc[: , :-1])\n",
    "# y_test = np.array(test_df.iloc[: , -1])"
   ]
  },
  {
   "cell_type": "code",
   "execution_count": 7,
   "metadata": {},
   "outputs": [],
   "source": [
    "def cosine_distance(p1, p2):\n",
    "    return cosine(p1, p2)"
   ]
  },
  {
   "cell_type": "code",
   "execution_count": 8,
   "metadata": {},
   "outputs": [],
   "source": [
    "r = 0.83\n",
    "\n",
    "def count_class(neighbor_labels):\n",
    "    counts = np.bincount(neighbor_labels.astype('int'))\n",
    "    return counts.argmax()\n",
    "\n",
    "def predict(X_test, X_train, y_train):\n",
    "    y_pred = np.empty(X_test.shape[0])\n",
    "    for i, test_row in enumerate(X_test):\n",
    "        p = [cosine_distance(test_row, x) for x in X_train]\n",
    "        indexes = np.argsort(p)\n",
    "        list(filter(lambda i: p[i] < r, indexes))\n",
    "        knn = np.array([y_train[i] for i in indexes])\n",
    "        y_pred[i] = count_class(knn)\n",
    "\n",
    "    return y_pred"
   ]
  },
  {
   "cell_type": "code",
   "execution_count": 9,
   "metadata": {},
   "outputs": [],
   "source": [
    "# np.reshape(X_train, len(X_train))\n",
    "y_pred = predict(X_test, X_train, y_train)\n",
    "\n",
    "y_pred = y_pred.astype(int)"
   ]
  },
  {
   "cell_type": "code",
   "execution_count": 10,
   "metadata": {},
   "outputs": [],
   "source": [
    "# acc = np.mean(y_pred == y_test)"
   ]
  },
  {
   "cell_type": "code",
   "execution_count": 11,
   "metadata": {},
   "outputs": [],
   "source": [
    "# acc"
   ]
  },
  {
   "cell_type": "code",
   "execution_count": 12,
   "metadata": {},
   "outputs": [],
   "source": [
    "correct = 0\n",
    "for i in range(y_pred.shape[0]):\n",
    "    if(y_pred[i] == y_test[i]):\n",
    "        correct += 1"
   ]
  },
  {
   "cell_type": "code",
   "execution_count": 13,
   "metadata": {},
   "outputs": [],
   "source": [
    "acc = correct/y_pred.shape[0]"
   ]
  },
  {
   "cell_type": "code",
   "execution_count": 14,
   "metadata": {},
   "outputs": [
    {
     "data": {
      "text/plain": [
       "0.87769"
      ]
     },
     "execution_count": 14,
     "metadata": {},
     "output_type": "execute_result"
    }
   ],
   "source": [
    "acc"
   ]
  },
  {
   "cell_type": "code",
   "execution_count": null,
   "metadata": {},
   "outputs": [],
   "source": []
  }
 ],
 "metadata": {
  "kernelspec": {
   "display_name": "Python 3",
   "language": "python",
   "name": "python3"
  },
  "language_info": {
   "codemirror_mode": {
    "name": "ipython",
    "version": 3
   },
   "file_extension": ".py",
   "mimetype": "text/x-python",
   "name": "python",
   "nbconvert_exporter": "python",
   "pygments_lexer": "ipython3",
   "version": "3.6.6"
  }
 },
 "nbformat": 4,
 "nbformat_minor": 2
}
