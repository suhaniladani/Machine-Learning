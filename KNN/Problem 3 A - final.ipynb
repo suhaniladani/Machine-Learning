{
 "cells": [
  {
   "cell_type": "code",
   "execution_count": 1,
   "metadata": {},
   "outputs": [],
   "source": [
    "import numpy as np\n",
    "from numpy import linalg\n",
    "from __future__ import print_function, division\n",
    "import pandas as pd\n",
    "import random\n",
    "import math\n"
   ]
  },
  {
   "cell_type": "code",
   "execution_count": 2,
   "metadata": {},
   "outputs": [
    {
     "data": {
      "text/html": [
       "<div>\n",
       "<style scoped>\n",
       "    .dataframe tbody tr th:only-of-type {\n",
       "        vertical-align: middle;\n",
       "    }\n",
       "\n",
       "    .dataframe tbody tr th {\n",
       "        vertical-align: top;\n",
       "    }\n",
       "\n",
       "    .dataframe thead th {\n",
       "        text-align: right;\n",
       "    }\n",
       "</style>\n",
       "<table border=\"1\" class=\"dataframe\">\n",
       "  <thead>\n",
       "    <tr style=\"text-align: right;\">\n",
       "      <th></th>\n",
       "      <th>0</th>\n",
       "      <th>1</th>\n",
       "      <th>2</th>\n",
       "      <th>3</th>\n",
       "      <th>4</th>\n",
       "    </tr>\n",
       "  </thead>\n",
       "  <tbody>\n",
       "    <tr>\n",
       "      <th>0</th>\n",
       "      <td>0.385205</td>\n",
       "      <td>0.183011</td>\n",
       "      <td>0.545166</td>\n",
       "      <td>0.598326</td>\n",
       "      <td>-1</td>\n",
       "    </tr>\n",
       "    <tr>\n",
       "      <th>1</th>\n",
       "      <td>0.065588</td>\n",
       "      <td>0.515544</td>\n",
       "      <td>0.645150</td>\n",
       "      <td>0.390085</td>\n",
       "      <td>-1</td>\n",
       "    </tr>\n",
       "    <tr>\n",
       "      <th>2</th>\n",
       "      <td>0.554554</td>\n",
       "      <td>0.111030</td>\n",
       "      <td>0.217264</td>\n",
       "      <td>0.703676</td>\n",
       "      <td>-1</td>\n",
       "    </tr>\n",
       "    <tr>\n",
       "      <th>3</th>\n",
       "      <td>0.307584</td>\n",
       "      <td>0.117353</td>\n",
       "      <td>0.568609</td>\n",
       "      <td>0.171143</td>\n",
       "      <td>-1</td>\n",
       "    </tr>\n",
       "    <tr>\n",
       "      <th>4</th>\n",
       "      <td>0.527311</td>\n",
       "      <td>0.593813</td>\n",
       "      <td>0.023508</td>\n",
       "      <td>0.393045</td>\n",
       "      <td>-1</td>\n",
       "    </tr>\n",
       "  </tbody>\n",
       "</table>\n",
       "</div>"
      ],
      "text/plain": [
       "          0         1         2         3  4\n",
       "0  0.385205  0.183011  0.545166  0.598326 -1\n",
       "1  0.065588  0.515544  0.645150  0.390085 -1\n",
       "2  0.554554  0.111030  0.217264  0.703676 -1\n",
       "3  0.307584  0.117353  0.568609  0.171143 -1\n",
       "4  0.527311  0.593813  0.023508  0.393045 -1"
      ]
     },
     "execution_count": 2,
     "metadata": {},
     "output_type": "execute_result"
    }
   ],
   "source": [
    "df = pd.read_csv(\"perceptronData.txt\", delim_whitespace=True, header=None) \n",
    "df.head()"
   ]
  },
  {
   "cell_type": "code",
   "execution_count": 3,
   "metadata": {},
   "outputs": [],
   "source": [
    "def train_test_split(df, test_size):\n",
    "    \n",
    "    if isinstance(test_size, float):\n",
    "        test_size = round(test_size * len(df))\n",
    "\n",
    "    index_list = df.index.tolist()\n",
    "    test_indexes = random.sample(population=index_list, k=test_size)\n",
    "\n",
    "    test_df = df.loc[test_indexes]\n",
    "    train_df = df.drop(test_indexes)\n",
    "    \n",
    "    return train_df, test_df"
   ]
  },
  {
   "cell_type": "code",
   "execution_count": 4,
   "metadata": {},
   "outputs": [],
   "source": [
    "random.seed(3)\n",
    "train_df, test_df = train_test_split(df, 0.20)"
   ]
  },
  {
   "cell_type": "code",
   "execution_count": 5,
   "metadata": {},
   "outputs": [],
   "source": [
    "X_train = np.array(train_df.iloc[: , :-1])\n",
    "y_train = np.array(train_df.iloc[: , -1])\n",
    "\n",
    "X_test = np.array(test_df.iloc[: , :-1])\n",
    "y_test = np.array(test_df.iloc[: , -1])"
   ]
  },
  {
   "cell_type": "code",
   "execution_count": 6,
   "metadata": {},
   "outputs": [],
   "source": [
    "def project(X):\n",
    "    return np.dot(X, w) + b\n",
    "\n",
    "def predict(X):\n",
    "    X = np.atleast_2d(X)\n",
    "    return np.sign(project(X))\n"
   ]
  },
  {
   "cell_type": "code",
   "execution_count": 7,
   "metadata": {},
   "outputs": [
    {
     "name": "stdout",
     "output_type": "stream",
     "text": [
      "correct:  198 / 200\n",
      "0.99\n"
     ]
    }
   ],
   "source": [
    "T=3\n",
    "X = X_train\n",
    "y = y_train\n",
    "n_samples, n_features = X.shape\n",
    "w = np.zeros(n_features, dtype=np.float64)\n",
    "b = 0.0\n",
    "\n",
    "for t in range(T):\n",
    "    for i in range(n_samples):\n",
    "        if predict(X[i])[0] != y[i]:\n",
    "            w += y[i] * X[i]\n",
    "            b += y[i]\n",
    "\n",
    "\n",
    "y_predict = predict(X_test)\n",
    "correct = np.sum(y_predict == y_test)\n",
    "print (\"correct: \", correct, \"/\", len(y_predict))\n",
    "acc = np.mean(y_predict == y_test)\n",
    "print(acc)"
   ]
  }
 ],
 "metadata": {
  "kernelspec": {
   "display_name": "Python 3",
   "language": "python",
   "name": "python3"
  },
  "language_info": {
   "codemirror_mode": {
    "name": "ipython",
    "version": 3
   },
   "file_extension": ".py",
   "mimetype": "text/x-python",
   "name": "python",
   "nbconvert_exporter": "python",
   "pygments_lexer": "ipython3",
   "version": "3.6.6"
  }
 },
 "nbformat": 4,
 "nbformat_minor": 2
}
