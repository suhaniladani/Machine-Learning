{
 "cells": [
  {
   "cell_type": "code",
   "execution_count": 1,
   "metadata": {},
   "outputs": [],
   "source": [
    "import numpy as np\n",
    "import pandas as pd\n",
    "from numpy.linalg import pinv\n",
    "import matplotlib.pyplot as plt\n",
    "%matplotlib inline\n",
    "\n",
    "import random"
   ]
  },
  {
   "cell_type": "code",
   "execution_count": 2,
   "metadata": {},
   "outputs": [],
   "source": [
    "word_labels = [\"CRIM\", \"ZN\", \"INDUS\", \"CHAS\", \"NOX\", \"RM\", \"AGE\", \"DIS\", \"RAD\", \"TAX\", \"PTRATIO\", \"B\", \"LSTAT\", \"label\"]\n",
    "train_df = pd.read_csv(\"HousingData/housing_train.txt\", delim_whitespace=True, names = word_labels, header=None) \n",
    "test_df = pd.read_csv(\"HousingData/housing_test.txt\", delim_whitespace=True, names = word_labels, header=None) \n"
   ]
  },
  {
   "cell_type": "code",
   "execution_count": 3,
   "metadata": {},
   "outputs": [],
   "source": [
    "col_nums = train_df.shape[1]\n",
    "\n",
    "train_X = train_df.iloc[:,0:col_nums-1]  \n",
    "train_y = train_df.iloc[:,col_nums-1:col_nums] "
   ]
  },
  {
   "cell_type": "code",
   "execution_count": 4,
   "metadata": {},
   "outputs": [],
   "source": [
    "X = np.array(train_X)\n",
    "ones = np.ones(len(X))\n",
    "X = np.column_stack((ones,X))\n",
    "y = np.array(train_y)\n"
   ]
  },
  {
   "cell_type": "code",
   "execution_count": 5,
   "metadata": {},
   "outputs": [],
   "source": [
    "def ridge_regression(X, y, lam):\n",
    "      \n",
    "    Xt = np.transpose(X)\n",
    "    lambda_identity = lam*np.identity(len(Xt))\n",
    "    inverse_term = pinv(np.dot(Xt, X)+lambda_identity)\n",
    "    w = np.dot(np.dot(inverse_term, Xt), y)\n",
    "    return w"
   ]
  },
  {
   "cell_type": "code",
   "execution_count": 6,
   "metadata": {},
   "outputs": [],
   "source": [
    "# test_df.insert(0, 'Ones', 1)\n",
    "# col_nums = test_df.shape[1]\n",
    "# X = test_df.iloc[:,0:col_nums-1]  \n",
    "# y = test_df.iloc[:,col_nums-1:col_nums] \n",
    "# y_pred = coefficient.T.dot(X.T)\n",
    "\n",
    "# y_pred"
   ]
  },
  {
   "cell_type": "code",
   "execution_count": 7,
   "metadata": {},
   "outputs": [],
   "source": [
    "# y_pred = y_pred.T \n",
    "# mse = np.mean((y - y_pred)**2)\n",
    "# mse"
   ]
  },
  {
   "cell_type": "code",
   "execution_count": 8,
   "metadata": {},
   "outputs": [],
   "source": [
    "w = ridge_regression(X, y, 1)"
   ]
  },
  {
   "cell_type": "code",
   "execution_count": 9,
   "metadata": {},
   "outputs": [
    {
     "data": {
      "text/plain": [
       "array([[ 1.48622145e+01],\n",
       "       [-9.85658172e-02],\n",
       "       [ 4.86195726e-02],\n",
       "       [-2.94971257e-02],\n",
       "       [ 3.16026913e+00],\n",
       "       [-4.12425073e+00],\n",
       "       [ 4.90156039e+00],\n",
       "       [-1.46512415e-03],\n",
       "       [-1.21594914e+00],\n",
       "       [ 2.91613389e-01],\n",
       "       [-1.45004225e-02],\n",
       "       [-6.24613946e-01],\n",
       "       [ 1.41627179e-02],\n",
       "       [-5.35756523e-01]])"
      ]
     },
     "execution_count": 9,
     "metadata": {},
     "output_type": "execute_result"
    }
   ],
   "source": [
    "w"
   ]
  },
  {
   "cell_type": "code",
   "execution_count": 10,
   "metadata": {},
   "outputs": [],
   "source": [
    "y_pred_train = w.T.dot(X.T)"
   ]
  },
  {
   "cell_type": "code",
   "execution_count": 11,
   "metadata": {},
   "outputs": [
    {
     "data": {
      "text/plain": [
       "23.042265946385722"
      ]
     },
     "execution_count": 11,
     "metadata": {},
     "output_type": "execute_result"
    }
   ],
   "source": [
    "y_pred_train = y_pred_train.T \n",
    "mse = np.mean((y - y_pred_train)**2)\n",
    "mse"
   ]
  },
  {
   "cell_type": "code",
   "execution_count": 12,
   "metadata": {},
   "outputs": [
    {
     "data": {
      "text/plain": [
       "array([[13.27196364, 16.00545167, 15.08281134, 20.84224132, 22.29981213,\n",
       "        17.10694219,  7.4021553 , 16.01201246, 21.29759191, 21.71232873,\n",
       "        19.91471715, 20.67693144, 28.54130218, 25.3080471 , 26.44269471,\n",
       "        18.55409824, 20.3178113 , 20.93788918, 16.04475956, 12.8036749 ,\n",
       "        18.02014052, 16.09833719, 15.98493399,  8.84694885, 20.50476834,\n",
       "        24.53469295, 25.07934534, 20.22000019, 30.84482092, 33.67214272,\n",
       "        30.10691242, 29.4463197 , 32.5890937 , 33.5330476 , 23.19499193,\n",
       "        32.5343472 , 24.73695126, 24.52844209, 25.25253123, 26.1363266 ,\n",
       "        32.63529367, 35.29349192, 35.54894662, 26.12816039, 19.88834732,\n",
       "        26.00261362, 15.5321175 , 18.10042917, 21.79740953, 25.25660766,\n",
       "        24.57331729, 20.99105204, -1.49361701, 26.87413232, 18.76722127,\n",
       "        12.52409445, 14.95892104, -2.62150581,  9.18421424, 13.47388835,\n",
       "        13.04635088, 13.25386883, 11.8142393 , 18.77370776, 19.54248706,\n",
       "        17.63388025, 12.66097713, 15.6744817 , 16.04050923, 12.57745057,\n",
       "        14.93023612, 20.41885493, 20.65203017, 16.7209229 ]])"
      ]
     },
     "execution_count": 12,
     "metadata": {},
     "output_type": "execute_result"
    }
   ],
   "source": [
    "\n",
    "col_nums = test_df.shape[1]\n",
    "X_test = test_df.iloc[:,0:col_nums-1]  \n",
    "y_test = test_df.iloc[:,col_nums-1:col_nums] \n",
    "\n",
    "X_test = np.array(X_test)\n",
    "ones = np.ones(len(X_test))\n",
    "X_test = np.column_stack((ones,X_test))\n",
    "y_test = np.array(y_test)\n",
    "\n",
    "y_pred = w.T.dot(X_test.T)\n",
    "\n",
    "y_pred"
   ]
  },
  {
   "cell_type": "code",
   "execution_count": 13,
   "metadata": {},
   "outputs": [
    {
     "data": {
      "text/plain": [
       "22.82852502942324"
      ]
     },
     "execution_count": 13,
     "metadata": {},
     "output_type": "execute_result"
    }
   ],
   "source": [
    "y_pred = y_pred.T \n",
    "mse = np.mean((y_test - y_pred)**2)\n",
    "mse"
   ]
  },
  {
   "cell_type": "code",
   "execution_count": null,
   "metadata": {},
   "outputs": [],
   "source": []
  }
 ],
 "metadata": {
  "kernelspec": {
   "display_name": "Python 3",
   "language": "python",
   "name": "python3"
  },
  "language_info": {
   "codemirror_mode": {
    "name": "ipython",
    "version": 3
   },
   "file_extension": ".py",
   "mimetype": "text/x-python",
   "name": "python",
   "nbconvert_exporter": "python",
   "pygments_lexer": "ipython3",
   "version": "3.6.6"
  }
 },
 "nbformat": 4,
 "nbformat_minor": 2
}
