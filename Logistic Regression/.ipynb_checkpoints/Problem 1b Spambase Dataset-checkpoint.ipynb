{
 "cells": [
  {
   "cell_type": "code",
   "execution_count": 1,
   "metadata": {},
   "outputs": [],
   "source": [
    "import numpy as np\n",
    "import pandas as pd\n",
    "from numpy.linalg import pinv\n",
    "import matplotlib.pyplot as plt\n",
    "import seaborn as sns\n",
    "%matplotlib inline\n",
    "\n",
    "import random\n",
    "from pprint import pprint"
   ]
  },
  {
   "cell_type": "code",
   "execution_count": 2,
   "metadata": {},
   "outputs": [],
   "source": [
    "word_labels = [\"make\", \"address\", \"all\", \"3d\", \"our\", \"over\", \"remove\", \"internet\",\n",
    "                \"order\", \"mail\", \"receive\", \"will\", \"people\", \"report\", \"addresses\",\n",
    "                \"free\", \"business\", \"email\", \"you\", \"credit\", \"your\", \"font\", \"000\",\n",
    "                \"money\", \"hp\", \"hpl\", \"george\", \"650\", \"lab\", \"labs\", \"telnet\", \"857\",\n",
    "                \"data\", \"415\", \"85\", \"technology\", \"1999\", \"parts\", \"pm\", \"direct\", \"cs\",\n",
    "                \"meeting\", \"original\", \"project\", \"re\", \"edu\", \"table\", \"conference\", \"char_freq1\", \"char_freq2\", \"char_freq3\", \n",
    "              \"char_freq4\", \"char_freq5\", \"char_freq6\", \"cap_run_length_avg\", \"cap_run_length_longest\", \"cap_run_length_total\", \"label\"]\n",
    "df = pd.read_csv(\"spambase/spambase.data\", names = word_labels, header=None) \n",
    "df_norm = df.iloc[:, :-1]\n",
    "df_norm = (df_norm - df_norm.mean()) / df_norm.std()\n",
    "df = df_norm.join(df.iloc[:, -1])\n"
   ]
  },
  {
   "cell_type": "code",
   "execution_count": 3,
   "metadata": {},
   "outputs": [],
   "source": [
    "def train_test_split(df, test_size):\n",
    "    \n",
    "    if isinstance(test_size, float):\n",
    "        test_size = round(test_size * len(df))\n",
    "\n",
    "    index_list = df.index.tolist()\n",
    "    test_indices = random.sample(population=index_list, k=test_size)\n",
    "\n",
    "    test_df = df.loc[test_indices]\n",
    "    train_df = df.drop(test_indices)\n",
    "    \n",
    "    return train_df, test_df"
   ]
  },
  {
   "cell_type": "code",
   "execution_count": 4,
   "metadata": {},
   "outputs": [],
   "source": [
    "random.seed(0)\n",
    "train_df, test_df = train_test_split(df, test_size=0.20)"
   ]
  },
  {
   "cell_type": "code",
   "execution_count": 5,
   "metadata": {},
   "outputs": [
    {
     "data": {
      "text/plain": [
       "58"
      ]
     },
     "execution_count": 5,
     "metadata": {},
     "output_type": "execute_result"
    }
   ],
   "source": [
    "theta_len = len(df.columns)\n",
    "theta_len"
   ]
  },
  {
   "cell_type": "code",
   "execution_count": 6,
   "metadata": {},
   "outputs": [
    {
     "data": {
      "text/plain": [
       "array([[ 1.        , -0.34239649, -0.16505397, ..., -0.05214446,\n",
       "        -0.06245937, -0.15220518],\n",
       "       [ 1.        , -0.34239649, -0.16505397, ..., -0.05214446,\n",
       "        -0.06245937, -0.15220518],\n",
       "       [ 1.        , -0.34239649, -0.16505397, ..., -0.0690688 ,\n",
       "        -0.190736  , -0.3781481 ],\n",
       "       ...,\n",
       "       [ 1.        , -0.34239649, -0.16505397, ..., -0.11461009,\n",
       "        -0.24717771, -0.44411683],\n",
       "       [ 1.        ,  0.6400583 , -0.16505397, ..., -0.11936908,\n",
       "        -0.23691558, -0.27259812],\n",
       "       [ 1.        , -0.34239649, -0.16505397, ..., -0.12422262,\n",
       "        -0.24204665, -0.40123715]])"
      ]
     },
     "execution_count": 6,
     "metadata": {},
     "output_type": "execute_result"
    }
   ],
   "source": [
    "\n",
    "x = train_df.iloc[:, :-1]\n",
    "y = train_df.iloc[:, -1]\n",
    "\n",
    "\n",
    "x = np.c_[np.ones(x.shape[0]), x] \n",
    "x"
   ]
  },
  {
   "cell_type": "code",
   "execution_count": 7,
   "metadata": {},
   "outputs": [],
   "source": [
    "alpha = 0.01 \n",
    "iterations = 2000 \n",
    "m = y.size \n",
    "np.random.seed(0) \n",
    "theta = np.random.rand(theta_len) \n",
    "\n",
    "\n",
    "def gradient_descent(x, y, theta, iterations, alpha):\n",
    "    past_costs = []\n",
    "    past_thetas = [theta]\n",
    "    for i in range(iterations):\n",
    "        hypothesis = np.dot(x, theta)\n",
    "        error = hypothesis - y\n",
    "        cost = 1/(2*m) * np.dot(error.T, error)\n",
    "        past_costs.append(cost)\n",
    "        theta = theta - (alpha * (1/m) * np.dot(x.T, error))\n",
    "        past_thetas.append(theta)\n",
    "        \n",
    "    return past_thetas, past_costs\n",
    "\n",
    "\n",
    "past_thetas, past_costs = gradient_descent(x, y, theta, iterations, alpha)\n",
    "theta = past_thetas[-1]\n"
   ]
  },
  {
   "cell_type": "code",
   "execution_count": null,
   "metadata": {},
   "outputs": [],
   "source": []
  },
  {
   "cell_type": "code",
   "execution_count": 8,
   "metadata": {},
   "outputs": [
    {
     "data": {
      "text/plain": [
       "array([ 0.39086813, -0.0158506 , -0.01602653,  0.01959455,  0.0139646 ,\n",
       "        0.06346891,  0.02700812,  0.08594861,  0.0431797 ,  0.01623084,\n",
       "        0.01108112,  0.01024997, -0.02611164,  0.00768015, -0.00293848,\n",
       "        0.00861416,  0.05963793,  0.01549666,  0.02424082,  0.02183024,\n",
       "        0.0314783 ,  0.06512296,  0.04213479,  0.06135307,  0.05187044,\n",
       "       -0.04028359, -0.01845756, -0.04259776,  0.005412  , -0.00387635,\n",
       "       -0.02451925, -0.00136418,  0.205017  , -0.02286757, -0.19405688,\n",
       "       -0.01608381,  0.01233013, -0.01270146, -0.01015455, -0.01254418,\n",
       "        0.01202199, -0.00300613, -0.02841211, -0.01406226, -0.01903029,\n",
       "       -0.03438072, -0.03293533, -0.01280288, -0.01903621, -0.03229143,\n",
       "       -0.01469626, -0.00712632,  0.06118386,  0.05106495,  0.01288767,\n",
       "        0.00782366,  0.00875939,  0.05234886])"
      ]
     },
     "execution_count": 8,
     "metadata": {},
     "output_type": "execute_result"
    }
   ],
   "source": [
    "theta\n"
   ]
  },
  {
   "cell_type": "code",
   "execution_count": 9,
   "metadata": {},
   "outputs": [
    {
     "data": {
      "text/plain": [
       "array([0.53667615, 0.53663484, 0.56559227, ..., 0.33606223, 0.13772448,\n",
       "       0.25444599])"
      ]
     },
     "execution_count": 9,
     "metadata": {},
     "output_type": "execute_result"
    }
   ],
   "source": [
    "y_pred = theta.T.dot(x.T)\n",
    "y_pred"
   ]
  },
  {
   "cell_type": "code",
   "execution_count": 10,
   "metadata": {},
   "outputs": [
    {
     "data": {
      "text/plain": [
       "0.10472204096952349"
      ]
     },
     "execution_count": 10,
     "metadata": {},
     "output_type": "execute_result"
    }
   ],
   "source": [
    "y_pred = y_pred.T \n",
    "mse = np.mean((y - y_pred)**2)\n",
    "mse"
   ]
  },
  {
   "cell_type": "code",
   "execution_count": 11,
   "metadata": {},
   "outputs": [],
   "source": [
    "threshold = 0.4\n",
    "y_pred[y_pred < threshold] = 0\n",
    "y_pred[y_pred > threshold] = 1"
   ]
  },
  {
   "cell_type": "code",
   "execution_count": 12,
   "metadata": {},
   "outputs": [
    {
     "name": "stdout",
     "output_type": "stream",
     "text": [
      "Accuracy: 0.9141537625645205\n"
     ]
    }
   ],
   "source": [
    "print(\"Accuracy:\", np.mean(y == y_pred)) "
   ]
  },
  {
   "cell_type": "code",
   "execution_count": 13,
   "metadata": {},
   "outputs": [
    {
     "data": {
      "text/plain": [
       "0.05236106593974322"
      ]
     },
     "execution_count": 13,
     "metadata": {},
     "output_type": "execute_result"
    }
   ],
   "source": [
    "costs = past_costs[-1]\n",
    "costs"
   ]
  },
  {
   "cell_type": "code",
   "execution_count": 14,
   "metadata": {},
   "outputs": [
    {
     "data": {
      "text/plain": [
       "array([[ 1.        , -0.34239649, -0.16505397, ..., -0.02494576,\n",
       "        -0.18560493, -0.43092308],\n",
       "       [ 1.        , -0.34239649, -0.16505397, ..., -0.13210173,\n",
       "        -0.26257091, -0.45401214],\n",
       "       [ 1.        , -0.34239649, -0.16505397, ..., -0.02179411,\n",
       "        -0.13942535, -0.3781481 ],\n",
       "       ...,\n",
       "       [ 1.        , -0.34239649, -0.16505397, ..., -0.09122488,\n",
       "        -0.20612919, -0.2890903 ],\n",
       "       [ 1.        , -0.34239649, -0.16505397, ..., -0.13210173,\n",
       "        -0.26257091, -0.45566136],\n",
       "       [ 1.        , -0.34239649, 10.89977983, ..., -0.10688856,\n",
       "        -0.24204665, -0.45236292]])"
      ]
     },
     "execution_count": 14,
     "metadata": {},
     "output_type": "execute_result"
    }
   ],
   "source": [
    "#Grab the relevant data, scale the predictor variable, and add a column of 1s for the gradient descent...\n",
    "x_test = test_df.iloc[:, :-1]\n",
    "y_test = test_df.iloc[:, -1]\n",
    "\n",
    "\n",
    "x_test = np.c_[np.ones(x_test.shape[0]), x_test] \n",
    "x_test"
   ]
  },
  {
   "cell_type": "code",
   "execution_count": 15,
   "metadata": {},
   "outputs": [
    {
     "data": {
      "text/plain": [
       "array([ 1.59961459e-01, -2.06076263e-01,  7.12612315e-01,  2.82147570e-01,\n",
       "        7.81149585e-02,  2.05891440e-01,  1.96446318e-01, -4.41686001e-02,\n",
       "        2.94150650e-01,  1.17344212e-01,  7.13343468e-01,  4.97352508e-01,\n",
       "        8.07380914e-01,  1.57245576e-01,  9.06159142e-01,  8.63159126e-01,\n",
       "       -1.27856138e-02,  1.98507479e-01,  1.27282554e+00,  3.58965628e-01,\n",
       "        8.61387651e-01,  8.17954088e-01, -6.26989079e-02,  6.68580524e-01,\n",
       "        1.10351430e-01,  6.45993549e-01,  3.15000260e-01, -1.45516543e-01,\n",
       "       -1.37264653e-01,  1.38328573e-01,  2.56000281e-01,  1.85095954e-01,\n",
       "       -5.44152012e-02,  2.37030073e-01,  2.52713759e-01,  8.77921507e-01,\n",
       "        9.35124858e-02,  4.56642933e-01,  5.10172725e-01,  1.91352947e-01,\n",
       "        5.45472982e-01,  2.07703437e-01,  2.06430987e-01,  4.41996561e-01,\n",
       "        5.28302081e-02,  2.90660872e-01,  8.13658370e-01, -1.89477312e-02,\n",
       "        1.56565367e-01,  8.97077317e-01,  9.40894672e-02, -5.44152012e-02,\n",
       "        1.62636511e-01,  5.18229348e-01, -1.09362605e-01,  2.50349295e-01,\n",
       "        2.19205157e-01,  1.08443067e-01,  1.58379638e-01,  2.34145925e-01,\n",
       "        3.29875579e-01,  9.35959664e-01,  1.01558024e-01,  5.03477967e-01,\n",
       "        2.59116115e-01,  6.64405981e-01,  3.74618517e-01, -1.14403178e-02,\n",
       "       -5.44152012e-02,  9.13077884e-01, -4.60928050e-01,  3.24444786e-02,\n",
       "        1.28419284e-01, -1.14358260e-02,  2.16268031e-01,  6.91766653e-01,\n",
       "        1.02791792e+00,  4.74998746e-01,  1.92656641e-01,  1.28660937e-01,\n",
       "        9.08938103e-01,  6.49658172e-01,  8.98565579e-01,  6.03879221e-01,\n",
       "        6.08166623e-01,  7.85910007e-01,  3.94704927e-01,  3.10168921e-01,\n",
       "        1.30883971e-01,  3.99149075e-01,  2.92224594e-01, -5.67328518e-03,\n",
       "        1.80853442e+00,  5.81001780e-01,  1.98593813e-01,  2.27537080e-01,\n",
       "        1.50618366e-01,  3.10099993e-01,  6.80839092e-01,  1.22592468e-01,\n",
       "        8.18391019e-01,  2.75758886e-01,  3.26049193e-01,  5.40358108e-01,\n",
       "        9.04523221e-02,  4.67527734e-01, -1.55681983e-02,  9.36818782e-01,\n",
       "        1.03127473e+00, -3.90279825e-03,  4.63853421e-01,  2.12287280e-01,\n",
       "       -1.09318226e-01,  1.22757354e+00,  4.75867120e-01,  5.38941605e-01,\n",
       "        5.75833384e-01,  1.38888677e-01,  6.61641313e-01,  1.08246281e+00,\n",
       "        2.75478595e-01,  8.78946797e-01,  1.00127784e+00,  9.36732744e-02,\n",
       "        5.52701150e-01,  4.78608497e-01,  9.40630164e-01,  7.20629380e-01,\n",
       "        5.59064482e-01,  6.62812355e-01,  8.20058554e-01,  1.03457869e+00,\n",
       "        2.24190204e-01,  9.62796584e-01,  2.02178508e-01,  4.51102588e-01,\n",
       "        1.85063997e-01,  3.69233697e-01,  5.86796962e-01,  1.82983857e-01,\n",
       "        6.12979721e-01,  9.56055026e-01,  3.57497780e-01, -7.40955181e-03,\n",
       "        2.30709861e-01,  6.09191022e-02,  5.74070356e-01,  1.92155869e-01,\n",
       "        1.72920130e-01,  5.35542354e-01,  1.14509540e+00,  3.30022759e-01,\n",
       "        2.59684834e-01,  2.60293008e-01,  2.97849612e-01,  8.32110162e-01,\n",
       "        6.38452708e-01,  5.49451512e-01,  7.78331834e-01,  2.84054812e-01,\n",
       "       -1.17199711e-01,  3.19012221e-01, -8.34806882e-02,  8.11849295e-01,\n",
       "       -5.44152012e-02,  6.30426786e-01,  1.47055655e-01,  5.05784203e-01,\n",
       "        2.23948256e-01,  2.15809756e-01, -3.83541789e-01,  1.99189282e-01,\n",
       "       -1.73066114e-01, -5.44152012e-02,  5.98271592e-01,  4.15741214e-01,\n",
       "        4.98831070e-01, -4.52602327e-02,  9.10875188e-01,  1.98593813e-01,\n",
       "        1.10401401e+00,  1.63134192e+00,  1.24214947e-01,  9.92848681e-01,\n",
       "        6.27018064e-02, -1.40240660e-01, -1.55447316e-01,  1.02145373e-01,\n",
       "        6.96130919e-01,  7.37682789e-01, -4.30048712e-01,  9.01367833e-01,\n",
       "        1.38334524e-01,  2.56947247e-01,  4.65898586e-01,  6.04703637e-01,\n",
       "        5.01875860e-01,  8.22518093e-01,  1.70041380e-01,  3.14227894e-01,\n",
       "       -5.44152012e-02,  2.19852584e-02,  8.23920919e-01,  8.96873076e-02,\n",
       "        2.95053075e-01,  4.18499688e-01,  9.17412338e-01, -5.44152012e-02,\n",
       "        1.04525831e+00,  1.00634864e-01,  8.48031849e-01, -5.44152012e-02,\n",
       "        4.82219974e-01,  2.69226946e-01,  1.92411471e-01,  4.69411514e-01,\n",
       "        4.60861796e-01,  3.97460696e-01,  1.46494237e-01,  3.34712652e-01,\n",
       "        1.72435719e-01,  6.92333007e-01,  3.61900198e-01,  2.78458161e-01,\n",
       "       -1.28993007e-02,  5.37994634e-01,  9.21484403e-01,  4.57437610e-01,\n",
       "        2.07663000e-01,  1.44813885e-01,  1.02637199e+00,  5.92990105e-01,\n",
       "        4.57497387e-01,  1.04331425e+00,  3.54498850e-01,  6.23119832e-01,\n",
       "        4.70074012e-01,  9.61768618e-01,  1.06347274e+00, -3.27523946e-03,\n",
       "        6.01580744e-01,  4.20311520e-01,  8.40286762e-01,  4.72521210e-01,\n",
       "        2.68450547e-01,  4.01785005e-01,  4.78807280e-01,  4.09108495e-01,\n",
       "        2.24524494e-01,  2.48445202e-01,  2.76636433e-01,  6.63711536e-01,\n",
       "        3.06237429e-02,  2.39955283e-02,  7.46070927e-01,  2.87296283e-01,\n",
       "        2.40282803e-01,  6.39167136e-01,  5.31656001e-01,  4.65638624e-01,\n",
       "        9.98221745e-01,  3.84371598e-01,  2.79006073e-01,  1.99065052e-01,\n",
       "        6.00945147e-01,  8.59286462e-01,  2.25757362e-01,  3.37130558e-01,\n",
       "        6.00945147e-01,  1.72642438e-01,  1.93765491e-01,  1.02080655e+00,\n",
       "        8.53529259e-01,  9.58184138e-02,  5.00060403e-01,  3.95281712e-01,\n",
       "        7.18344217e-01, -8.70288540e-02,  1.55517654e-01,  3.58812412e-01,\n",
       "        1.12247423e-01,  8.85902113e-01,  6.89949201e-02,  6.83688565e-01,\n",
       "        5.31656001e-01,  3.67823573e-02,  4.83054249e-01,  8.35595255e-01,\n",
       "        6.69035140e-02,  3.13214657e-01, -5.44152012e-02,  6.59420238e-01,\n",
       "        8.13401408e-02,  7.18855310e-01,  2.02439604e-01,  2.79868370e-01,\n",
       "        2.55973419e-01,  1.38678339e-01,  6.92611514e-01,  5.30034993e-02,\n",
       "        9.06117937e-01,  2.89125812e-01,  3.92549901e-01,  2.67879589e-01,\n",
       "       -1.12375239e-01,  2.29434849e-01,  4.55828473e-01,  5.12951733e-01,\n",
       "        5.17940166e-02,  2.06757467e-01, -1.78462256e-01,  2.02555252e-01,\n",
       "        1.42370151e-01,  6.28589757e-01,  2.53225757e-01,  4.02732157e-01,\n",
       "        4.69984186e-02,  6.17063264e-01,  3.38648901e-01,  1.82187352e-01,\n",
       "        8.94984501e-01,  6.02998334e-01,  6.16457849e-01,  7.22154903e-01,\n",
       "        8.32954290e-01,  6.03521386e-01,  6.90900291e-01,  1.03532775e-01,\n",
       "        6.38569185e-01,  4.65678993e-01,  6.41013029e-02,  2.85844294e-01,\n",
       "        3.40966006e-01,  1.01093912e-01,  2.48921148e-01, -2.55152327e-01,\n",
       "        9.45728935e-01,  2.01517740e-01,  8.17064275e-01, -1.69131838e-01,\n",
       "        8.20529446e-01,  9.33740549e-01,  1.82413220e-01,  9.00686773e-01,\n",
       "        1.63447354e-02,  6.86649456e-01,  2.45412974e-01,  2.71583631e-01,\n",
       "        1.16570428e+00,  2.44032684e-01,  2.47169655e-01,  4.43430357e-01,\n",
       "        3.95951192e-01,  7.61265795e-01,  2.05326174e-01,  1.98852359e-01,\n",
       "        1.49419675e-01,  2.02924563e-01,  4.03329981e-01,  3.98626319e-01,\n",
       "        2.61146038e-01, -7.10769287e-03,  6.91354917e-01,  1.58601323e-01,\n",
       "        1.04070349e-01,  5.26163664e-02,  2.13588512e-01, -1.81502359e-01,\n",
       "       -1.88276091e-01,  9.91313636e-02,  3.00516973e-01,  3.43567297e-01,\n",
       "        5.74309689e-01, -9.27834414e-02,  9.58776851e-02, -1.16986322e-01,\n",
       "        2.04157199e+00,  4.39078352e-01,  1.46024653e-01,  6.09264958e-01,\n",
       "        1.99279171e-01,  2.27307904e-01,  2.21377246e-01,  6.00320646e-01,\n",
       "        2.57033959e-01,  4.86114891e-01,  5.76722741e-01,  8.54051905e-01,\n",
       "        1.01596883e+00,  6.60183996e-01,  2.49470587e-01,  2.21371275e-01,\n",
       "        5.65037920e-01,  6.85429367e-01,  5.63789944e-02,  2.19852584e-02,\n",
       "        2.41233414e-01,  8.07949509e-02,  5.71689351e-01,  6.47303462e-01,\n",
       "        1.86930183e-01,  5.42292682e-01,  4.05495140e-02,  3.91520508e-01,\n",
       "       -1.42839803e-01,  1.21501319e+00,  1.99546610e-01, -4.55086706e-03,\n",
       "       -1.16895096e-01,  4.58982052e-01,  7.51636701e-01,  6.63412591e-01,\n",
       "        5.92373382e-01,  2.52333858e-01,  4.94454625e-01,  3.34018720e-01,\n",
       "        1.99279595e-01,  3.40268605e-01, -2.56583228e-01,  1.99706831e-01,\n",
       "        2.19852584e-02,  5.87939918e-01,  4.73751021e-01,  1.51140421e-01,\n",
       "        1.14601053e-01,  3.19130269e-01,  8.08295561e-01,  3.28707053e-01,\n",
       "        9.21866927e-01, -1.31635675e-02,  8.56577419e-01,  4.56241630e-02,\n",
       "        6.37240252e-01,  5.91608978e-01,  3.03713418e-01,  2.86650286e-01,\n",
       "        7.77099942e-01,  2.22317976e-01, -1.20763611e-02,  5.75885669e-02,\n",
       "        7.62776596e-01,  2.65119761e-01,  6.07437455e-01,  4.74998746e-01,\n",
       "        1.00026788e+00,  1.99501647e-01,  1.01419967e+00,  8.81111274e-02,\n",
       "        2.54738061e-01,  4.81336261e-01,  2.19852584e-02,  7.32423596e-02,\n",
       "        8.17089416e-01,  1.02162451e+00,  5.38579215e-01,  2.56534931e-01,\n",
       "        5.88903186e-02,  1.18452721e+00, -7.72276958e-02,  1.25127227e-01,\n",
       "        1.18343107e+00,  7.78399994e-01,  7.68813456e-01,  2.59836913e-01,\n",
       "       -5.44152012e-02,  3.01023335e-02,  3.49779243e-01,  1.60380083e-01,\n",
       "        5.35489729e-01,  4.90984868e-01,  1.42626585e+00,  1.65485574e-01,\n",
       "        2.42061622e-01,  1.51789686e-01,  1.14932718e+00, -6.27301092e-02,\n",
       "        8.56558795e-01,  9.61069467e-02,  2.12530247e-01,  2.09618835e-01,\n",
       "        2.29411188e-01,  7.28503430e-01,  6.89827179e-01, -3.81020590e-04,\n",
       "        3.32406248e-01,  9.42349936e-01,  1.98852359e-01,  1.04510830e+00,\n",
       "        2.95642739e-01,  1.00121541e+00,  8.82984701e-01, -6.88679843e-02,\n",
       "       -3.80984161e-02,  2.81549226e-01,  1.03527978e+00,  1.72404816e-02,\n",
       "        6.59706135e-02,  2.94337941e-01,  5.53790289e-01, -3.53512937e-01,\n",
       "        9.00487306e-01,  5.20975622e-01,  3.30499148e-01,  4.97950105e-01,\n",
       "        4.44597606e-01,  2.31265248e-01,  8.45309757e-01,  5.62115890e-01,\n",
       "        3.03648728e-01, -1.28781256e-01,  8.99165218e-01,  7.06368828e-01,\n",
       "        7.41666636e-01,  2.17805457e-01,  2.49571225e-01,  1.50958675e+00,\n",
       "        5.36399209e-01,  2.17938497e-01,  2.17685755e-01,  6.35517983e-01,\n",
       "        5.28482894e-02,  9.41706741e-01,  6.11784180e-01,  4.26664826e-01,\n",
       "        7.66737981e-01,  2.44225138e-01,  2.30025156e-01,  2.66283836e-01,\n",
       "        4.60488028e-01,  7.50291590e-01,  1.35227889e-01,  3.50115958e-02,\n",
       "       -2.87554640e-02,  1.82246861e-01,  3.52475784e-01,  5.73690604e-01,\n",
       "        8.15809421e-01,  3.33213506e-01, -1.19085875e-02,  2.03006277e-01,\n",
       "        9.90001045e-02,  1.03163243e+00, -7.63688122e-02,  3.40234361e-01,\n",
       "        2.75258249e-01,  9.66772672e-03,  5.19866325e-01,  5.59022061e-02,\n",
       "        6.01025177e-01,  5.69330022e-01,  5.44036913e-01,  8.53740610e-01,\n",
       "        7.44341952e-01,  5.53714830e-01,  3.53947149e-01,  4.78840677e-02,\n",
       "       -7.71362418e-02,  1.98852359e-01,  9.89650176e-01,  1.94310639e-01,\n",
       "        2.96931445e-01,  2.16821754e-01,  1.23971068e+00,  1.15507902e-01,\n",
       "       -5.44152012e-02,  5.51730657e-01,  1.48001387e-01,  5.05871157e-01,\n",
       "        2.19852584e-02,  2.00686274e-01,  5.08164762e-01,  2.00760890e-01,\n",
       "        1.84395225e-01, -5.44152012e-02,  5.11849958e-01,  3.19896523e-01,\n",
       "        8.94929798e-01,  3.31689271e-01,  5.44726132e-01,  6.51827904e-02,\n",
       "        7.63266501e-01,  1.34869796e-01,  1.02142470e+00, -5.44152012e-02,\n",
       "        8.17039469e-02,  4.59741786e-01, -1.90135463e-03, -7.42686091e-02,\n",
       "        6.32781147e-01, -1.20763611e-02,  1.36758693e-01,  5.32888807e-01,\n",
       "        5.24537936e-01,  3.93672056e-01,  2.92488455e-01,  9.33626207e-01,\n",
       "       -4.63135800e-02,  4.08723332e-01,  1.96071994e-01,  7.53797303e-01,\n",
       "        1.98421144e-01,  1.43571649e-01,  7.00620168e-01,  1.03127473e+00,\n",
       "        3.05184376e-01,  4.55412118e-01,  1.20316943e-02,  3.19085327e-01,\n",
       "       -1.17560866e-01,  1.53001354e-01,  6.36120761e-01,  2.29769519e-01,\n",
       "        1.50257854e-01,  3.34757732e-01, -1.09220236e-01,  4.13522881e-01,\n",
       "        7.78517871e-01,  2.37950744e-02,  1.10784612e+00,  1.50213104e-01,\n",
       "       -6.87462310e-04, -1.78384662e-01, -5.44152012e-02,  9.54179495e-01,\n",
       "        2.80359455e-01,  9.01850207e-01,  1.03163243e+00,  7.20676916e-02,\n",
       "       -2.62906830e-02,  2.50450848e-01, -3.27477771e-01,  5.71789431e-01,\n",
       "        2.24937842e-01,  4.46760679e-01,  7.87911557e-01,  9.42009463e-01,\n",
       "        3.83151092e-01,  6.83772468e-02,  3.49982213e-01,  4.06260333e-01,\n",
       "        6.31747481e-01,  1.87522816e-01,  6.62527257e-01, -1.27672032e-01,\n",
       "        2.44899530e-01,  2.05454936e-01,  1.56266312e-01,  1.67554151e-01,\n",
       "       -1.78575958e-01,  6.32235649e-01,  6.97567691e-01,  1.50970049e+00,\n",
       "        7.70514868e-01,  1.99279171e-01, -3.62058959e-02,  2.45865612e-01,\n",
       "        3.87038202e-01,  2.69073484e-01, -3.10352037e-02,  2.11923069e-01,\n",
       "        4.12279663e-01,  1.16507432e+00, -3.78985758e-01,  5.95430987e-02,\n",
       "       -2.37413908e-01,  8.73277004e-01, -1.20763611e-02, -2.57040759e-02,\n",
       "        6.11426544e-01,  3.08411243e-01,  8.17254505e-01,  1.00495131e+00,\n",
       "        1.31135634e+00,  4.78261806e-02,  1.59407136e-01,  8.33041231e-01,\n",
       "        3.13689994e-01,  8.78495940e-01,  1.91648345e-01,  5.42940924e-01,\n",
       "        2.09120160e-01,  7.31925506e-01,  2.18520880e-01,  3.60927071e-01,\n",
       "       -2.14464603e-01, -9.74032442e-02,  5.44738935e-01,  2.84819749e-01,\n",
       "        1.10746569e+00,  1.96903144e-01,  2.36825125e-01,  1.99098509e-01,\n",
       "        6.29918855e-01,  6.37733491e-02,  2.65466937e-01,  4.85942029e-01,\n",
       "       -5.44152012e-02,  1.11959113e+00,  2.46065099e-01,  6.97696844e-02,\n",
       "        9.74418326e-01,  3.08004311e-01,  6.08053621e-01, -1.21626958e-02,\n",
       "        1.78877541e-01,  6.34947928e-01,  3.47727641e-01,  4.18707389e-01,\n",
       "        1.98593813e-01,  1.19484613e+00, -5.44152012e-02,  1.11822573e+00,\n",
       "        5.48448873e-01, -4.82546830e-01,  3.74058882e-01,  3.42869745e-01,\n",
       "        2.26201613e-01,  4.76831040e-01,  7.90519063e-01,  4.08714650e-01,\n",
       "        2.42962639e-01,  9.24428129e-01,  3.50926677e-01,  2.16987847e-01,\n",
       "       -2.33172826e-02, -1.86218046e-01,  5.68625516e-02,  6.36870283e-01,\n",
       "        3.41313162e-01,  3.51262554e-01,  9.58577830e-02,  9.55238188e-02,\n",
       "       -4.28317317e-01,  7.39335325e-01,  2.34842683e-01,  2.71387113e-01,\n",
       "        9.24519959e-01,  9.71741553e-01,  9.99064037e-01,  4.79460530e-01,\n",
       "       -9.07468504e-02,  6.78919924e-01,  7.73369333e-01,  5.87031408e-01,\n",
       "        2.92435244e-01,  1.42674409e-01,  2.73963767e-01,  3.36412367e-01,\n",
       "        1.50551622e-01,  4.08442910e-01,  1.99530183e-01,  7.06637851e-01,\n",
       "        9.12508075e-01,  5.70300154e-01,  1.93775435e-01,  1.20757706e-01,\n",
       "        4.89990753e-02,  1.85120896e-01,  1.28793710e-01,  2.51610028e-01,\n",
       "        1.67787523e-01,  7.44060316e-01,  9.01224618e-01,  1.09982317e-02,\n",
       "        9.51858368e-01,  7.94174849e-01,  3.45587348e-01,  2.22195446e-01,\n",
       "        7.92813897e-01,  9.49748196e-01,  3.35510435e-01,  5.75211993e-02,\n",
       "       -1.17199711e-01, -3.28195281e-02,  1.01484517e-01, -8.23332117e-03,\n",
       "        2.26825163e-01, -1.17753790e-01,  8.92466663e-01,  2.99994765e-01,\n",
       "       -3.25079891e-01,  6.88439010e-01,  9.82552796e-01,  3.17289163e-01,\n",
       "       -5.44152012e-02,  6.91245647e-01, -5.44152012e-02,  1.76575102e-01,\n",
       "        2.01511368e-01,  7.46729548e-01,  5.26247857e-01,  3.02908634e-01,\n",
       "        9.41616813e-01,  6.54952141e-01,  3.78395156e-01,  6.11393571e-01,\n",
       "       -5.44152012e-02,  3.68218398e-01,  8.41074554e-02,  3.82628067e-01,\n",
       "        2.33128857e-01, -4.68905727e-01,  1.97648711e-01,  7.25389668e-01,\n",
       "        7.14888879e-01,  1.16807913e-01,  3.13558821e-01,  1.75240996e-01,\n",
       "       -1.33067812e-01,  8.76853933e-01,  3.28427781e-01,  2.23135658e-01,\n",
       "        3.08038128e-01,  6.35478664e-01,  1.98843943e-01,  1.98507479e-01,\n",
       "        4.60802645e-01,  1.53743189e-01,  4.18916211e-01,  7.00464348e-02,\n",
       "        2.27546892e-01,  1.12326701e-01,  5.42371290e-01,  4.93129763e-01,\n",
       "        8.68409526e-01,  2.59834121e-01,  1.56826469e-01,  1.55896669e-01,\n",
       "        7.30775444e-01,  7.63411353e-02,  6.05920566e-01,  3.32729044e-01,\n",
       "       -1.45491198e-02,  1.18343107e+00,  2.30076335e-01,  1.14538198e-02,\n",
       "        3.03642964e-01, -6.69312361e-02, -2.23218379e-01,  7.98650853e-01,\n",
       "        9.30984033e-01, -1.99982953e-01,  1.75461861e-01, -1.81185689e-01,\n",
       "       -9.51389893e-03,  2.43523873e-01,  4.26268958e-01,  6.70363355e-01,\n",
       "        5.49434434e-01, -1.36306569e-02,  3.68788400e-01,  1.53230628e-01,\n",
       "        9.94361658e-01,  6.62146386e-01,  4.92801580e-02,  1.37787552e+00,\n",
       "        8.94405351e-01,  2.56122928e-01,  7.37299597e-01,  3.16369424e-01,\n",
       "        1.03559919e+00,  3.47766113e-01,  1.99649652e-01,  5.38822477e-01,\n",
       "        3.68985006e-01,  3.36154720e-01,  1.98766968e-01,  7.37682789e-01,\n",
       "        8.45207884e-01,  1.07962232e+00,  3.11645223e-03,  2.25647357e-01,\n",
       "        9.58108373e-02,  1.13663170e-01,  4.98831070e-01,  1.98843943e-01,\n",
       "        1.10387605e+00,  2.06765800e-01,  4.45743517e-03,  2.28355975e-01,\n",
       "       -2.19229478e-01,  1.38330390e+00,  8.26103895e-01, -5.45015359e-02,\n",
       "        1.57118882e-01,  9.99625966e-01,  1.93300843e-01,  7.75722181e-01,\n",
       "       -8.93333393e-02,  3.81540349e-02,  3.16155273e-02,  1.98893325e-01,\n",
       "        2.14752798e-01,  1.70689017e-01,  5.83711678e-01,  3.10151516e-01,\n",
       "        4.59667217e-01,  1.12097248e-01,  2.47258235e-01,  5.05223291e-01,\n",
       "        9.47232700e-01,  6.76075101e-01,  7.26754908e-02,  1.31968865e+00,\n",
       "        1.12115321e-01,  7.30436893e-01,  1.83683988e-01,  1.75166155e-01,\n",
       "        1.81684531e+00,  5.11592848e-01,  1.69297266e-02, -2.62597951e-01,\n",
       "        5.03469449e-01,  6.73492952e-01,  2.37947020e-01,  1.10903543e+00,\n",
       "        3.40392486e-01,  5.06663512e-01,  6.26254845e-01,  2.19852584e-02])"
      ]
     },
     "execution_count": 15,
     "metadata": {},
     "output_type": "execute_result"
    }
   ],
   "source": [
    "y_pred_test = theta.T.dot(x_test.T)\n",
    "y_pred_test"
   ]
  },
  {
   "cell_type": "code",
   "execution_count": 16,
   "metadata": {},
   "outputs": [
    {
     "data": {
      "text/plain": [
       "0.11072012540066525"
      ]
     },
     "execution_count": 16,
     "metadata": {},
     "output_type": "execute_result"
    }
   ],
   "source": [
    "y_pred_test = y_pred_test.T \n",
    "mse_test = np.mean((y_test - y_pred_test)**2)\n",
    "mse_test"
   ]
  },
  {
   "cell_type": "code",
   "execution_count": 17,
   "metadata": {},
   "outputs": [
    {
     "data": {
      "text/plain": [
       "(920,)"
      ]
     },
     "execution_count": 17,
     "metadata": {},
     "output_type": "execute_result"
    }
   ],
   "source": [
    "y_pred_test_df = pd.DataFrame(y_pred_test)\n",
    "y_test.shape"
   ]
  },
  {
   "cell_type": "code",
   "execution_count": 18,
   "metadata": {},
   "outputs": [],
   "source": [
    "TP = np.sum(np.logical_and(y_pred_test == 1, y_test == 1))\n",
    " \n",
    "TN = np.sum(np.logical_and(y_pred_test == 0, y_test == 0))\n",
    " \n",
    "FP = np.sum(np.logical_and(y_pred_test == 1, y_test == 0))\n",
    " \n",
    "FN = np.sum(np.logical_and(y_pred_test == 0, y_test == 1))"
   ]
  },
  {
   "cell_type": "code",
   "execution_count": 19,
   "metadata": {},
   "outputs": [
    {
     "data": {
      "image/png": "[encoded data removed]",
      "text/plain": [
       "<Figure size 432x432 with 1 Axes>"
      ]
     },
     "metadata": {},
     "output_type": "display_data"
    }
   ],
   "source": [
    "thresholds = np.linspace(1,0,105)\n",
    "\n",
    "ROC = np.zeros((105,2))\n",
    "\n",
    "for i in range(105):\n",
    "    t = thresholds[i]\n",
    "\n",
    "    TP_t = np.logical_and( y_pred_test > t, y_test==1 ).sum()\n",
    "    TN_t = np.logical_and( y_pred_test <=t, y_test==0 ).sum()\n",
    "    FP_t = np.logical_and( y_pred_test > t, y_test==0 ).sum()\n",
    "    FN_t = np.logical_and( y_pred_test <=t, y_test==1 ).sum()\n",
    "\n",
    "    FPR_t = FP_t / float(FP_t + TN_t)\n",
    "    ROC[i,0] = FPR_t\n",
    "\n",
    "    TPR_t = TP_t / float(TP_t + FN_t)\n",
    "    ROC[i,1] = TPR_t\n",
    "\n",
    "fig = plt.figure(figsize=(6,6))\n",
    "plt.plot(ROC[:,0], ROC[:,1], lw=2)\n",
    "plt.xlabel('$FPR(t)$')\n",
    "plt.ylabel('$TPR(t)$')\n",
    "plt.grid()"
   ]
  },
  {
   "cell_type": "code",
   "execution_count": 20,
   "metadata": {},
   "outputs": [
    {
     "data": {
      "text/plain": [
       "0.6916694031789286"
      ]
     },
     "execution_count": 20,
     "metadata": {},
     "output_type": "execute_result"
    }
   ],
   "source": [
    "AUC = 0.\n",
    "for i in range(100):\n",
    "    AUC += (ROC[i+1,0]-ROC[i,0]) * (ROC[i+1,1]+ROC[i,1])\n",
    "AUC *= 0.5\n",
    "AUC"
   ]
  },
  {
   "cell_type": "code",
   "execution_count": 21,
   "metadata": {},
   "outputs": [],
   "source": [
    "threshold = 0.4\n",
    "y_pred_test[y_pred_test < threshold] = 0\n",
    "y_pred_test[y_pred_test > threshold] = 1"
   ]
  },
  {
   "cell_type": "code",
   "execution_count": 22,
   "metadata": {},
   "outputs": [
    {
     "name": "stdout",
     "output_type": "stream",
     "text": [
      "Accuracy: 0.9\n"
     ]
    }
   ],
   "source": [
    "print(\"Accuracy:\", np.mean(y_test == y_pred_test)) "
   ]
  },
  {
   "cell_type": "code",
   "execution_count": null,
   "metadata": {},
   "outputs": [],
   "source": []
  }
 ],
 "metadata": {
  "kernelspec": {
   "display_name": "Python 3",
   "language": "python",
   "name": "python3"
  },
  "language_info": {
   "codemirror_mode": {
    "name": "ipython",
    "version": 3
   },
   "file_extension": ".py",
   "mimetype": "text/x-python",
   "name": "python",
   "nbconvert_exporter": "python",
   "pygments_lexer": "ipython3",
   "version": "3.6.6"
  }
 },
 "nbformat": 4,
 "nbformat_minor": 2
}
