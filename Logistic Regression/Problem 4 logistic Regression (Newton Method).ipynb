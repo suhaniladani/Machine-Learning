{
 "cells": [
  {
   "cell_type": "code",
   "execution_count": 1,
   "metadata": {},
   "outputs": [],
   "source": [
    "import numpy as np\n",
    "import pandas as pd\n",
    "from numpy.linalg import pinv\n",
    "import random\n",
    "import math\n"
   ]
  },
  {
   "cell_type": "code",
   "execution_count": 2,
   "metadata": {},
   "outputs": [],
   "source": [
    "word_labels = [\"make\", \"address\", \"all\", \"3d\", \"our\", \"over\", \"remove\", \"internet\",\n",
    "                \"order\", \"mail\", \"receive\", \"will\", \"people\", \"report\", \"addresses\",\n",
    "                \"free\", \"business\", \"email\", \"you\", \"credit\", \"your\", \"font\", \"000\",\n",
    "                \"money\", \"hp\", \"hpl\", \"george\", \"650\", \"lab\", \"labs\", \"telnet\", \"857\",\n",
    "                \"data\", \"415\", \"85\", \"technology\", \"1999\", \"parts\", \"pm\", \"direct\", \"cs\",\n",
    "                \"meeting\", \"original\", \"project\", \"re\", \"edu\", \"table\", \"conference\", \"char_freq1\", \"char_freq2\", \"char_freq3\", \n",
    "              \"char_freq4\", \"char_freq5\", \"char_freq6\", \"cap_run_length_avg\", \"cap_run_length_longest\", \"cap_run_length_total\", \"label\"]\n",
    "df = pd.read_csv(\"spambase/spambase.data\", names = word_labels, header=None) \n",
    "df_norm = df.iloc[:, :-1]\n",
    "df_norm = (df_norm - df_norm.mean()) / df_norm.std()\n",
    "df = df_norm.join(df.iloc[:, -1])"
   ]
  },
  {
   "cell_type": "code",
   "execution_count": 3,
   "metadata": {},
   "outputs": [],
   "source": [
    "def train_test_split(df, test_size):\n",
    "    \n",
    "    if isinstance(test_size, float):\n",
    "        test_size = round(test_size * len(df))\n",
    "\n",
    "    index_list = df.index.tolist()\n",
    "    test_indices = random.sample(population=index_list, k=test_size)\n",
    "\n",
    "    test_df = df.loc[test_indices]\n",
    "    train_df = df.drop(test_indices)\n",
    "    \n",
    "    return train_df, test_df"
   ]
  },
  {
   "cell_type": "code",
   "execution_count": 4,
   "metadata": {},
   "outputs": [],
   "source": [
    "random.seed(0)\n",
    "train_df, test_df = train_test_split(df, test_size=0.20)"
   ]
  },
  {
   "cell_type": "code",
   "execution_count": 5,
   "metadata": {},
   "outputs": [],
   "source": [
    "X = train_df.iloc[:, :-1]\n",
    "y = train_df.iloc[:, -1]\n",
    "m,n = np.shape(X)\n",
    "x0 = np.ones((m,1))\n",
    "X = np.c_[x0,X]"
   ]
  },
  {
   "cell_type": "code",
   "execution_count": 6,
   "metadata": {},
   "outputs": [],
   "source": [
    "def sigmoid(z):\n",
    "    return 1 / (1 + np.exp(-z))"
   ]
  },
  {
   "cell_type": "code",
   "execution_count": 8,
   "metadata": {},
   "outputs": [],
   "source": [
    "def hessian(X,h):\n",
    "    return np.dot(X.T,(np.diag(h*(1-h)).dot(X))) \n"
   ]
  },
  {
   "cell_type": "code",
   "execution_count": 7,
   "metadata": {},
   "outputs": [],
   "source": [
    "def cost_func(h, y):\n",
    "    return np.sum((y * np.log(h) + (1 - y) * np.log(1 - h)))"
   ]
  },
  {
   "cell_type": "code",
   "execution_count": 9,
   "metadata": {},
   "outputs": [],
   "source": [
    "def Newton_logistic(X,y):\n",
    "    w = np.zeros(X.shape[1])\n",
    "    cost=0\n",
    "    for i in range(1000):\n",
    "\n",
    "        hypothesis = sigmoid(np.dot(X, w))\n",
    "        gradient = np.dot(X.T, (y-hypothesis)) \n",
    "        hessian_inv=pinv(hessian(X,hypothesis))\n",
    "        w+=hessian_inv.dot(gradient) \n",
    "        prev_cost = cost\n",
    "        cost=cost_func(hypothesis,y) \n",
    "\n",
    "        if cost-prev_cost==0:\n",
    "            break;\n",
    "\n",
    "    return w"
   ]
  },
  {
   "cell_type": "code",
   "execution_count": 10,
   "metadata": {},
   "outputs": [
    {
     "data": {
      "text/plain": [
       "array([[ 1.        , -0.34239649, -0.16505397, ..., -0.05214446,\n",
       "        -0.06245937, -0.15220518],\n",
       "       [ 1.        , -0.34239649, -0.16505397, ..., -0.05214446,\n",
       "        -0.06245937, -0.15220518],\n",
       "       [ 1.        , -0.34239649, -0.16505397, ..., -0.0690688 ,\n",
       "        -0.190736  , -0.3781481 ],\n",
       "       ...,\n",
       "       [ 1.        , -0.34239649, -0.16505397, ..., -0.11461009,\n",
       "        -0.24717771, -0.44411683],\n",
       "       [ 1.        ,  0.6400583 , -0.16505397, ..., -0.11936908,\n",
       "        -0.23691558, -0.27259812],\n",
       "       [ 1.        , -0.34239649, -0.16505397, ..., -0.12422262,\n",
       "        -0.24204665, -0.40123715]])"
      ]
     },
     "execution_count": 10,
     "metadata": {},
     "output_type": "execute_result"
    }
   ],
   "source": [
    "X"
   ]
  },
  {
   "cell_type": "code",
   "execution_count": 11,
   "metadata": {},
   "outputs": [
    {
     "name": "stderr",
     "output_type": "stream",
     "text": [
      "/Users/suhaniladani/anaconda3/lib/python3.6/site-packages/ipykernel_launcher.py:2: RuntimeWarning: divide by zero encountered in log\n",
      "  \n"
     ]
    },
    {
     "data": {
      "text/plain": [
       "array([-5.94527476e+01, -1.33449187e-01, -1.85749716e-01,  6.24221512e-02,\n",
       "        3.79534269e+00,  4.20289344e-01,  2.32266433e-01,  9.91509565e-01,\n",
       "        2.10457076e-01,  1.30751029e-01,  7.71657310e-02, -5.42988414e-02,\n",
       "       -1.18413564e-01, -3.33087973e-02,  2.77924477e-02,  4.09812115e-01,\n",
       "        7.81961346e-01,  3.40764088e-01,  5.86983604e-02,  1.02157272e-01,\n",
       "        5.83730334e-01,  2.81416003e-01,  1.45800147e-01,  9.10905965e-01,\n",
       "        3.08683675e-01, -2.66582400e+00, -7.28951663e-01, -6.12895989e+01,\n",
       "        2.33120530e-01, -2.09177510e+00, -5.99440667e-01,  2.72769432e-01,\n",
       "        7.55766121e-01, -5.78066702e-01,  1.56771264e-01, -1.18698671e+00,\n",
       "        3.47795633e-01, -1.05418297e-02, -1.20614892e-01, -4.59790579e-01,\n",
       "       -1.20886828e-01, -3.67179751e+02, -2.10977447e+00, -2.32631229e-01,\n",
       "       -9.76409242e-01, -7.51189050e-01, -1.20893991e+00, -2.04529540e-01,\n",
       "       -1.14114171e+00, -2.74997275e-01, -5.05540079e-02, -7.30473954e-02,\n",
       "        4.18940777e-01,  1.22648096e+00,  9.91186809e-01,  1.32624692e+00,\n",
       "        1.96351834e+00,  5.52497901e-01])"
      ]
     },
     "execution_count": 11,
     "metadata": {},
     "output_type": "execute_result"
    }
   ],
   "source": [
    "w = Newton_logistic(X,y)\n",
    "w"
   ]
  },
  {
   "cell_type": "code",
   "execution_count": 12,
   "metadata": {},
   "outputs": [],
   "source": [
    "y_pred = w.T.dot(X.T)"
   ]
  },
  {
   "cell_type": "code",
   "execution_count": 13,
   "metadata": {},
   "outputs": [
    {
     "data": {
      "text/plain": [
       "array([ 1.20454712,  1.20389388,  0.72672328, ..., -3.22468089,\n",
       "       -3.41772128, -3.38060643])"
      ]
     },
     "execution_count": 13,
     "metadata": {},
     "output_type": "execute_result"
    }
   ],
   "source": [
    "y_pred"
   ]
  },
  {
   "cell_type": "code",
   "execution_count": 14,
   "metadata": {},
   "outputs": [],
   "source": [
    "threshold = 0.0\n",
    "y_pred = []\n",
    "for i in range(0, len(X-1)):\n",
    "    val = np.dot(X[i], w)   \n",
    "\n",
    "    if val > threshold:                               \n",
    "        y_predict = 1                               \n",
    "    else:                                   \n",
    "        y_predict = 0\n",
    "    y_pred.append(y_predict)"
   ]
  },
  {
   "cell_type": "code",
   "execution_count": 15,
   "metadata": {},
   "outputs": [
    {
     "name": "stdout",
     "output_type": "stream",
     "text": [
      "Accuracy: 0.9331703341483293\n"
     ]
    }
   ],
   "source": [
    "print(\"Accuracy:\", np.mean(y == y_pred)) "
   ]
  },
  {
   "cell_type": "code",
   "execution_count": 16,
   "metadata": {},
   "outputs": [],
   "source": [
    "X_test = test_df.iloc[:, :-1]\n",
    "y_test = test_df.iloc[:, -1]\n",
    "m,n = np.shape(X_test)\n",
    "x0 = np.ones((m,1))\n",
    "X_test = np.c_[x0,X_test]"
   ]
  },
  {
   "cell_type": "code",
   "execution_count": 17,
   "metadata": {},
   "outputs": [],
   "source": [
    "threshold = 0.0\n",
    "y_pred_test = []\n",
    "for i in range(0, len(X_test-1)):\n",
    "    val = np.dot(X_test[i], w)   \n",
    "\n",
    "    if val > threshold:                               \n",
    "        y_predict = 1                               \n",
    "    else:                                   \n",
    "        y_predict = 0\n",
    "    y_pred_test.append(y_predict)"
   ]
  },
  {
   "cell_type": "code",
   "execution_count": 18,
   "metadata": {},
   "outputs": [
    {
     "name": "stdout",
     "output_type": "stream",
     "text": [
      "Accuracy: 0.9260869565217391\n"
     ]
    }
   ],
   "source": [
    "print(\"Accuracy:\", np.mean(y_test == y_pred_test)) "
   ]
  },
  {
   "cell_type": "code",
   "execution_count": null,
   "metadata": {},
   "outputs": [],
   "source": []
  },
  {
   "cell_type": "code",
   "execution_count": null,
   "metadata": {},
   "outputs": [],
   "source": []
  }
 ],
 "metadata": {
  "kernelspec": {
   "display_name": "Python 3",
   "language": "python",
   "name": "python3"
  },
  "language_info": {
   "codemirror_mode": {
    "name": "ipython",
    "version": 3
   },
   "file_extension": ".py",
   "mimetype": "text/x-python",
   "name": "python",
   "nbconvert_exporter": "python",
   "pygments_lexer": "ipython3",
   "version": "3.6.6"
  }
 },
 "nbformat": 4,
 "nbformat_minor": 2
}
