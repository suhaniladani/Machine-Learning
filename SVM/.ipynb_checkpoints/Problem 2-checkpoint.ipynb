{
 "cells": [
  {
   "cell_type": "code",
   "execution_count": 1,
   "metadata": {},
   "outputs": [],
   "source": [
    "from __future__ import division, print_function\n",
    "import os\n",
    "import numpy as np\n",
    "import random as rnd\n",
    "import pandas as pd\n",
    "import random"
   ]
  },
  {
   "cell_type": "code",
   "execution_count": 2,
   "metadata": {},
   "outputs": [],
   "source": [
    "word_labels = [\"make\", \"address\", \"all\", \"3d\", \"our\", \"over\", \"remove\", \"internet\",\n",
    "                \"order\", \"mail\", \"receive\", \"will\", \"people\", \"report\", \"addresses\",\n",
    "                \"free\", \"business\", \"email\", \"you\", \"credit\", \"your\", \"font\", \"000\",\n",
    "                \"money\", \"hp\", \"hpl\", \"george\", \"650\", \"lab\", \"labs\", \"telnet\", \"857\",\n",
    "                \"data\", \"415\", \"85\", \"technology\", \"1999\", \"parts\", \"pm\", \"direct\", \"cs\",\n",
    "                \"meeting\", \"original\", \"project\", \"re\", \"edu\", \"table\", \"conference\", \"char_freq1\", \"char_freq2\", \"char_freq3\", \n",
    "              \"char_freq4\", \"char_freq5\", \"char_freq6\", \"cap_run_length_avg\", \"cap_run_length_longest\", \"cap_run_length_total\", \"label\"]\n",
    "df = pd.read_csv(\"../spambase/spambase.data\", names = word_labels, header=None) \n",
    "df_norm = df.iloc[:, :-1]\n",
    "df_norm = (df_norm - df_norm.mean()) / df_norm.std()\n",
    "df = df_norm.join(df.iloc[:, -1])\n"
   ]
  },
  {
   "cell_type": "code",
   "execution_count": 3,
   "metadata": {},
   "outputs": [],
   "source": [
    "def train_test_split(df, test_size):\n",
    "    \n",
    "    if isinstance(test_size, float):\n",
    "        test_size = round(test_size * len(df))\n",
    "\n",
    "    index_list = df.index.tolist()\n",
    "    test_indices = random.sample(population=index_list, k=test_size)\n",
    "\n",
    "    test_df = df.loc[test_indices]\n",
    "    train_df = df.drop(test_indices)\n",
    "    \n",
    "    return train_df, test_df"
   ]
  },
  {
   "cell_type": "code",
   "execution_count": 4,
   "metadata": {},
   "outputs": [],
   "source": [
    "random.seed(0)\n",
    "train_df, test_df = train_test_split(df, test_size=0.20)"
   ]
  },
  {
   "cell_type": "code",
   "execution_count": 5,
   "metadata": {},
   "outputs": [],
   "source": [
    "X_train = train_df.iloc[: , :-1]\n",
    "y_train = train_df.iloc[: , -1]\n",
    "\n",
    "X_test = test_df.iloc[: , :-1]\n",
    "y_test = test_df.iloc[: , -1]"
   ]
  },
  {
   "cell_type": "code",
   "execution_count": 6,
   "metadata": {},
   "outputs": [],
   "source": [
    "max_iter=200\n",
    "C=0.01\n",
    "epsilon=0.001"
   ]
  },
  {
   "cell_type": "code",
   "execution_count": null,
   "metadata": {},
   "outputs": [],
   "source": []
  },
  {
   "cell_type": "code",
   "execution_count": 7,
   "metadata": {},
   "outputs": [],
   "source": [
    "def fit(X, y):\n",
    "    n, d = X.shape[0], X.shape[1]\n",
    "    alpha = np.zeros((n))\n",
    "    \n",
    "    kernel = kernel_linear\n",
    "    count = 0\n",
    "    kernel_type = 'linear'\n",
    "    while True:\n",
    "        count += 1\n",
    "        alpha_prev = np.copy(alpha)\n",
    "        for j in range(0, n):\n",
    "#             i = random_integer(0, n-1, j) \n",
    "            i = j\n",
    "            cnt=0\n",
    "            while i == j and cnt<1000:\n",
    "                i = rnd.randint(0, n-1)\n",
    "                cnt=cnt+1\n",
    "            xi, xj, yi, yj = X[i,:], X[j,:], y[i], y[j]\n",
    "            k_ij = kernel(xi, xi) + kernel(xj, xj) - 2 * kernel(xi, xj)\n",
    "            if k_ij == 0:\n",
    "                continue\n",
    "            alpha_j, alpha_i = alpha[j], alpha[i]\n",
    "            (L, H) = compute_L_H(C, alpha_j, alpha_i, yj, yi)\n",
    "\n",
    "            w = calculate_w(alpha, y, X)\n",
    "            b = calculate_b(X, y, w)\n",
    "\n",
    "            Ei = prediction_error(xi, yi, w, b)\n",
    "            Ej = prediction_error(xj, yj, w, b)\n",
    "\n",
    "            alpha[j] = alpha_j + float(yj * (Ei - Ej))/k_ij\n",
    "            alpha[j] = max(alpha[j], L)\n",
    "            alpha[j] = min(alpha[j], H)\n",
    "\n",
    "            alpha[i] = alpha_i + yi*yj * (alpha_j - alpha[j])\n",
    "\n",
    "        diff = np.linalg.norm(alpha - alpha_prev)\n",
    "        if diff < epsilon:\n",
    "            break\n",
    "\n",
    "        if count >= max_iter:\n",
    "            print(\"exceeded\" % (max_iter))\n",
    "            return\n",
    "\n",
    "    b = calculate_b(X, y, w)\n",
    "    if kernel_type == 'linear':\n",
    "        w = calculate_w(alpha, y, X)\n",
    "\n",
    "    alpha_index = np.where(alpha > 0)[0]\n",
    "    sv = X[alpha_index, :]\n",
    "    return sv, count, w, b\n"
   ]
  },
  {
   "cell_type": "code",
   "execution_count": 8,
   "metadata": {},
   "outputs": [],
   "source": [
    "def predict(X):\n",
    "    return prediction_func(X, w, b)"
   ]
  },
  {
   "cell_type": "code",
   "execution_count": 9,
   "metadata": {},
   "outputs": [],
   "source": [
    "def calculate_b(X, y, w):\n",
    "    b_tmp = y - np.dot(w.T, X.T)\n",
    "    return np.mean(b_tmp)\n"
   ]
  },
  {
   "cell_type": "code",
   "execution_count": 10,
   "metadata": {},
   "outputs": [],
   "source": [
    "def calculate_w(alpha, y, X):\n",
    "    return np.dot(X.T, np.multiply(alpha,y))\n"
   ]
  },
  {
   "cell_type": "code",
   "execution_count": 11,
   "metadata": {},
   "outputs": [],
   "source": [
    "def prediction_func(X, w, b):\n",
    "    return np.sign(np.dot(w.T, X.T) + b).astype(int)\n"
   ]
  },
  {
   "cell_type": "code",
   "execution_count": 12,
   "metadata": {},
   "outputs": [],
   "source": [
    "def prediction_error(x_k, y_k, w, b):\n",
    "    return prediction_func(x_k, w, b) - y_k\n"
   ]
  },
  {
   "cell_type": "code",
   "execution_count": 13,
   "metadata": {},
   "outputs": [],
   "source": [
    "def compute_L_H(C, alpha_j, alpha_i, yj, yi):\n",
    "    if(yi != yj):\n",
    "        return (max(0, alpha_j - alpha_i), min(C, C - alpha_i + alpha_j))\n",
    "    else:\n",
    "        return (max(0, alpha_i + alpha_j - C), min(C, alpha_i + alpha_j))\n"
   ]
  },
  {
   "cell_type": "code",
   "execution_count": 15,
   "metadata": {},
   "outputs": [],
   "source": [
    "def kernel_linear(x1, x2):\n",
    "    return np.dot(x1, x2.T)\n"
   ]
  },
  {
   "cell_type": "code",
   "execution_count": 16,
   "metadata": {},
   "outputs": [],
   "source": [
    "def kernel_quadratic(x1, x2):\n",
    "    return (np.dot(x1, x2.T) ** 2)"
   ]
  },
  {
   "cell_type": "code",
   "execution_count": 17,
   "metadata": {},
   "outputs": [],
   "source": [
    "sv, count, w, b = fit(np.array(X_train), np.array(y_train))\n",
    "y_pred = predict(np.array(X_test))"
   ]
  },
  {
   "cell_type": "code",
   "execution_count": 18,
   "metadata": {},
   "outputs": [],
   "source": [
    "y_test = y_test.replace(0, -1)"
   ]
  },
  {
   "cell_type": "code",
   "execution_count": 19,
   "metadata": {},
   "outputs": [],
   "source": [
    "y_test = np.array(y_test)"
   ]
  },
  {
   "cell_type": "code",
   "execution_count": 20,
   "metadata": {},
   "outputs": [
    {
     "data": {
      "text/plain": [
       "array([-1, -1,  1, -1, -1, -1, -1, -1, -1, -1,  1, -1,  1, -1,  1,  1, -1,\n",
       "       -1,  1, -1,  1,  1, -1, -1, -1,  1, -1, -1, -1,  1, -1, -1, -1, -1,\n",
       "       -1,  1, -1,  1,  1, -1,  1, -1, -1, -1, -1,  1,  1, -1, -1,  1, -1,\n",
       "       -1,  1,  1, -1, -1, -1,  1, -1, -1, -1,  1, -1, -1, -1,  1, -1, -1,\n",
       "       -1,  1, -1, -1, -1, -1,  1,  1,  1,  1, -1, -1,  1,  1,  1,  1,  1,\n",
       "        1, -1, -1, -1, -1, -1, -1,  1, -1, -1, -1, -1, -1,  1, -1,  1, -1,\n",
       "       -1,  1, -1,  1, -1,  1,  1, -1,  1, -1, -1,  1,  1,  1,  1, -1,  1,\n",
       "        1,  1,  1,  1, -1,  1, -1,  1,  1,  1,  1,  1,  1, -1,  1,  1,  1,\n",
       "       -1, -1,  1, -1,  1,  1,  1, -1, -1, -1,  1, -1, -1,  1,  1,  1, -1,\n",
       "       -1, -1,  1,  1,  1,  1,  1, -1, -1, -1,  1, -1,  1,  1, -1, -1, -1,\n",
       "       -1, -1, -1, -1,  1, -1,  1, -1,  1, -1,  1, -1, -1,  1, -1, -1, -1,\n",
       "       -1, -1,  1, -1, -1, -1,  1,  1,  1, -1,  1, -1, -1, -1, -1,  1, -1,\n",
       "       -1,  1,  1, -1,  1, -1,  1, -1, -1, -1, -1,  1,  1, -1, -1, -1, -1,\n",
       "        1, -1,  1, -1,  1,  1,  1, -1, -1,  1,  1,  1,  1, -1,  1,  1,  1,\n",
       "        1, -1, -1,  1,  1, -1, -1,  1,  1, -1, -1,  1, -1,  1, -1, -1,  1,\n",
       "        1, -1,  1,  1,  1,  1, -1, -1, -1, -1,  1, -1, -1, -1, -1, -1,  1,\n",
       "        1, -1,  1,  1,  1, -1, -1, -1, -1,  1, -1,  1,  1, -1,  1,  1, -1,\n",
       "       -1, -1,  1, -1,  1, -1, -1,  1, -1,  1, -1,  1, -1, -1, -1, -1, -1,\n",
       "        1,  1, -1, -1, -1, -1, -1,  1, -1, -1, -1,  1, -1, -1,  1,  1,  1,\n",
       "        1,  1,  1,  1, -1,  1,  1, -1, -1, -1, -1, -1, -1,  1, -1,  1, -1,\n",
       "        1, -1, -1,  1, -1,  1, -1, -1,  1, -1, -1,  1,  1,  1,  1, -1, -1,\n",
       "       -1, -1,  1,  1, -1,  1, -1, -1, -1, -1, -1, -1, -1,  1, -1,  1, -1,\n",
       "       -1, -1,  1, -1, -1,  1, -1, -1, -1,  1, -1, -1,  1, -1,  1, -1,  1,\n",
       "        1, -1, -1, -1, -1, -1, -1,  1,  1, -1,  1, -1,  1, -1, -1, -1, -1,\n",
       "       -1,  1,  1,  1, -1, -1,  1, -1, -1, -1, -1, -1, -1,  1,  1, -1, -1,\n",
       "       -1,  1,  1, -1, -1,  1, -1,  1,  1, -1, -1,  1, -1, -1, -1,  1, -1,\n",
       "        1,  1,  1, -1,  1, -1, -1,  1, -1, -1,  1,  1, -1, -1, -1,  1, -1,\n",
       "       -1,  1,  1,  1, -1, -1, -1, -1, -1,  1,  1,  1, -1, -1, -1,  1, -1,\n",
       "        1, -1, -1, -1, -1,  1,  1, -1, -1,  1, -1,  1, -1,  1,  1, -1, -1,\n",
       "       -1,  1, -1, -1, -1,  1, -1,  1,  1, -1,  1, -1, -1,  1,  1, -1, -1,\n",
       "        1,  1,  1,  1,  1,  1,  1, -1, -1,  1, -1,  1,  1, -1,  1, -1, -1,\n",
       "       -1,  1,  1, -1, -1, -1, -1, -1,  1,  1, -1, -1,  1, -1,  1, -1, -1,\n",
       "       -1, -1, -1, -1,  1,  1,  1,  1,  1,  1, -1, -1, -1, -1,  1, -1, -1,\n",
       "       -1,  1, -1, -1, -1, -1,  1, -1, -1,  1, -1, -1, -1,  1, -1,  1,  1,\n",
       "        1, -1,  1, -1,  1, -1, -1,  1, -1, -1,  1, -1, -1, -1, -1, -1, -1,\n",
       "        1, -1,  1, -1,  1, -1, -1,  1,  1, -1,  1, -1, -1, -1, -1,  1, -1,\n",
       "       -1, -1, -1, -1,  1, -1,  1, -1, -1, -1, -1,  1, -1,  1,  1, -1, -1,\n",
       "       -1, -1,  1, -1, -1,  1,  1, -1, -1, -1, -1,  1,  1, -1, -1, -1, -1,\n",
       "       -1, -1, -1,  1,  1,  1,  1, -1, -1, -1,  1, -1, -1, -1, -1,  1, -1,\n",
       "       -1, -1,  1, -1, -1,  1, -1,  1,  1,  1, -1, -1,  1, -1,  1, -1,  1,\n",
       "       -1,  1,  1, -1, -1, -1,  1,  1,  1, -1, -1, -1,  1, -1, -1,  1, -1,\n",
       "        1, -1, -1,  1,  1,  1, -1, -1, -1, -1, -1, -1,  1, -1,  1,  1, -1,\n",
       "        1, -1, -1,  1,  1, -1, -1,  1, -1, -1, -1, -1, -1,  1, -1, -1, -1,\n",
       "       -1, -1,  1, -1, -1,  1,  1,  1,  1, -1,  1,  1,  1, -1, -1, -1, -1,\n",
       "       -1,  1, -1,  1,  1, -1, -1, -1, -1, -1, -1,  1, -1,  1,  1, -1,  1,\n",
       "        1, -1, -1,  1,  1, -1, -1, -1, -1, -1, -1, -1, -1,  1, -1, -1,  1,\n",
       "        1, -1, -1,  1, -1, -1, -1,  1,  1, -1,  1,  1, -1,  1, -1,  1, -1,\n",
       "       -1, -1, -1, -1,  1,  1, -1, -1, -1, -1,  1, -1, -1, -1,  1, -1, -1,\n",
       "       -1, -1, -1, -1, -1, -1,  1,  1,  1,  1, -1, -1,  1, -1, -1, -1, -1,\n",
       "        1, -1, -1, -1, -1, -1,  1, -1, -1, -1, -1, -1, -1,  1,  1,  1, -1,\n",
       "       -1, -1,  1,  1, -1,  1,  1, -1,  1,  1,  1, -1, -1,  1, -1, -1, -1,\n",
       "        1,  1,  1, -1, -1, -1, -1,  1, -1,  1, -1, -1, -1, -1,  1,  1, -1,\n",
       "       -1,  1,  1,  1, -1, -1, -1, -1, -1, -1,  1, -1,  1, -1, -1,  1,  1,\n",
       "        1, -1,  1, -1,  1, -1, -1,  1,  1, -1, -1,  1,  1, -1,  1, -1,  1,\n",
       "       -1, -1])"
      ]
     },
     "execution_count": 20,
     "metadata": {},
     "output_type": "execute_result"
    }
   ],
   "source": [
    "y_test"
   ]
  },
  {
   "cell_type": "code",
   "execution_count": 21,
   "metadata": {},
   "outputs": [
    {
     "data": {
      "text/plain": [
       "0.883695652173913"
      ]
     },
     "execution_count": 21,
     "metadata": {},
     "output_type": "execute_result"
    }
   ],
   "source": [
    "np.mean(y_test == y_pred)"
   ]
  },
  {
   "cell_type": "code",
   "execution_count": null,
   "metadata": {},
   "outputs": [],
   "source": []
  }
 ],
 "metadata": {
  "kernelspec": {
   "display_name": "Python 3",
   "language": "python",
   "name": "python3"
  },
  "language_info": {
   "codemirror_mode": {
    "name": "ipython",
    "version": 3
   },
   "file_extension": ".py",
   "mimetype": "text/x-python",
   "name": "python",
   "nbconvert_exporter": "python",
   "pygments_lexer": "ipython3",
   "version": "3.6.6"
  }
 },
 "nbformat": 4,
 "nbformat_minor": 2
}
